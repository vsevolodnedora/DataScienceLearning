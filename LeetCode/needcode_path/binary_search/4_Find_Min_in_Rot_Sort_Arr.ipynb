{
 "cells": [
  {
   "cell_type": "markdown",
   "metadata": {},
   "source": [
    "# 153. Find Minimum in Rotated Sorted Array\n",
    "\n",
    "Suppose an array of length n sorted in ascending order is rotated between 1 and n times. For example, the array nums = [0,1,2,4,5,6,7] might become:\n",
    "\n",
    "[4,5,6,7,0,1,2] if it was rotated 4 times.\n",
    "[0,1,2,4,5,6,7] if it was rotated 7 times.\n",
    "Notice that rotating an array [a[0], a[1], a[2], ..., a[n-1]] 1 time results in the array [a[n-1], a[0], a[1], a[2], ..., a[n-2]].\n",
    "\n",
    "Given the sorted rotated array nums of unique elements, return the minimum element of this array.\n",
    "\n",
    "You must write an algorithm that runs in O(log n) time.\n",
    "\n",
    "# Reasoning \n",
    "\n",
    "[neetcodevideo](https://www.youtube.com/watch?v=nIVW4P8b1VA&t=1s)\n",
    "\n",
    "The fact that array is _sorted_ and that values _are unique_ allows to find a _log(n)_ solution.  \n",
    "\n",
    "Algorithm `binary search` that is usually used for sorted arrays and log(N) times  \n",
    "\n",
    "One way is to find a point, where elements are not in increasing order. _Looking for a pivit_\n",
    "\n",
    "the _trick_ here is to notice that at every split we want to find a half of the array that contains _unsorted_ values. Meaning, a sorted half will always contain values larger than an _unsortd part_. \n",
    "\n",
    "The detailed trick is to check if `nums[m] >= nums[l]` or \n",
    "\n"
   ]
  },
  {
   "cell_type": "code",
   "execution_count": 16,
   "metadata": {},
   "outputs": [
    {
     "name": "stdout",
     "output_type": "stream",
     "text": [
      "1 Output: 1\n",
      "1 Output: 1\n",
      "1 Output: 1\n",
      "0 Output: 0\n",
      "11 Output: 11\n"
     ]
    }
   ],
   "source": [
    "def findMin(nums: list[int]) -> int:\n",
    "    n = len(nums)\n",
    "    l,r=0,n-1\n",
    "    if len(nums) == 1:\n",
    "        return nums[0]\n",
    "    \n",
    "    res = nums[0]\n",
    "    while (l<=r):\n",
    "\n",
    "        # check if current subarray is sorted\n",
    "        if (nums[l] < nums[r]):\n",
    "            res = min(res,nums[l])\n",
    "            break\n",
    "        else:\n",
    "            # if l and r are in unsorted array, we need to split\n",
    "            m = (l+r)//2\n",
    "            res = min(res, nums[m])\n",
    "\n",
    "            if (nums[m] >= nums[l]):\n",
    "                # m is from left sorted part, -> search right\n",
    "                l = m + 1\n",
    "            else:\n",
    "                # search left\n",
    "                r = m - 1\n",
    "    return res\n",
    "print(findMin(nums = [1]), \"Output: 1\")\n",
    "print(findMin(nums = [2,1]), \"Output: 1\")\n",
    "print(findMin(nums = [3,4,5,1,2]), \"Output: 1\")\n",
    "print(findMin(nums = [4,5,6,7,0,1,2]), \"Output: 0\")\n",
    "print(findMin(nums = [11,13,15,17]), \"Output: 11\")"
   ]
  },
  {
   "cell_type": "code",
   "execution_count": null,
   "metadata": {},
   "outputs": [],
   "source": []
  }
 ],
 "metadata": {
  "kernelspec": {
   "display_name": "Python 3",
   "language": "python",
   "name": "python3"
  },
  "language_info": {
   "codemirror_mode": {
    "name": "ipython",
    "version": 3
   },
   "file_extension": ".py",
   "mimetype": "text/x-python",
   "name": "python",
   "nbconvert_exporter": "python",
   "pygments_lexer": "ipython3",
   "version": "3.10.12"
  }
 },
 "nbformat": 4,
 "nbformat_minor": 2
}
