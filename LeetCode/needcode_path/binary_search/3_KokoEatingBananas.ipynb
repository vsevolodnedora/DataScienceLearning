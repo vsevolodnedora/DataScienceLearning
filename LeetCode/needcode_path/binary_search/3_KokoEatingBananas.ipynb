{
 "cells": [
  {
   "cell_type": "markdown",
   "metadata": {},
   "source": [
    "# 875. Koko Eating Bananas\n",
    "\n",
    "Koko loves to eat bananas. There are `n` piles of bananas, the `ith` pile has `piles[i]` bananas. The guards have gone and will come back in `h` hours.\n",
    "\n",
    "Koko can decide her bananas-per-hour eating speed of `k`. Each hour, she chooses some pile of bananas and eats `k` bananas from that pile. If the pile has less than `k` bananas, she eats all of them instead and will not eat any more bananas during this hour.\n",
    "\n",
    "Koko likes to eat slowly but still wants to finish eating all the bananas before the guards return.\n",
    "\n",
    "Return the minimum integer `k` such that she can eat all the bananas within `h` hours.\n",
    "\n",
    "# Reasoning\n",
    "\n",
    "[neetcodevideo](https://www.youtube.com/watch?v=U2SozAs9RzA&t=9s)\n",
    "\n",
    "#### My reasoning  \n",
    "There are `n` piles with `piles[i]` bananas in each.  \n",
    "Time limit is `h` hours.\n",
    "Assumed speed is `k` banans / hour. Each hour a __new__ pile is chosen. After `h` hours `\\sum_i^m min(piles[i], k)` banans. \n",
    "Goal: find min(k) such that the sum is maximum.\n",
    "\n",
    "Maybe one simple solution is to set `k = max(piles[])` and incrementally decrease it untill not all bananas eaten within `h` hours. \n",
    "\n",
    "#### Neetcode\n",
    "\n",
    "Note that for this problem to be _valid_ h >= len(piles).  \n",
    "the reason is that even at the highest speed, there should be piles \n",
    "left after h hours.  \n",
    "\n",
    "We need to find `minimum` at which `all` banans in `h` hours.\n",
    "\n",
    "A brute force approch is to start with k=1 and compute n eaten. If < all, increment `k` and go through the pile again.  \n",
    "The maximum `k` is `max(piles[])`, so we need to go through all sppeds in between to find the min. This starts to resemble `binary search problem`. \n",
    "\n",
    "This is not a terrible solution and has time complexity O(max(piles) * len(piles)).  \n",
    "\n",
    "If we use binary search `O(log(max(p)) * p)`\n",
    "\n",
    "The binary serach is in `range(1,max(p))` array\n",
    "\n"
   ]
  },
  {
   "cell_type": "code",
   "execution_count": 14,
   "metadata": {},
   "outputs": [
    {
     "name": "stdout",
     "output_type": "stream",
     "text": [
      "4 Output: 4\n",
      "30 Output: 30\n"
     ]
    }
   ],
   "source": [
    "import math\n",
    "\n",
    "def minEatingSpeed(piles: list[int], h: int) -> int:\n",
    "    np = len(piles)\n",
    "    ks = range(1, max(piles))\n",
    "    al = sum(piles)\n",
    "    \n",
    "    l, r=1, max(piles)\n",
    "    res = r\n",
    "    while l <= r:\n",
    "        # get current attempted speed\n",
    "        k = (l+r)//2\n",
    "        # compute how many hours it take to eat all banans at this speed\n",
    "        hours = 0\n",
    "        for p in piles:\n",
    "            hours += math.ceil(p / k)\n",
    "\n",
    "        if (hours <= h):\n",
    "            res = min(res, k)\n",
    "            r = k - 1\n",
    "        else:\n",
    "            l = k + 1\n",
    "        \n",
    "    return res\n",
    "    \n",
    "\n",
    "\n",
    "print(minEatingSpeed(piles=[3,6,7,11], h=8), \"Output: 4\")\n",
    "print(minEatingSpeed(piles=[30,11,23,4,20], h=5), \"Output: 30\")"
   ]
  },
  {
   "cell_type": "markdown",
   "metadata": {},
   "source": []
  }
 ],
 "metadata": {
  "kernelspec": {
   "display_name": "Python 3",
   "language": "python",
   "name": "python3"
  },
  "language_info": {
   "codemirror_mode": {
    "name": "ipython",
    "version": 3
   },
   "file_extension": ".py",
   "mimetype": "text/x-python",
   "name": "python",
   "nbconvert_exporter": "python",
   "pygments_lexer": "ipython3",
   "version": "3.10.12"
  }
 },
 "nbformat": 4,
 "nbformat_minor": 2
}
