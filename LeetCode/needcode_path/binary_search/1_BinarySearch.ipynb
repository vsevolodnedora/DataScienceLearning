{
 "cells": [
  {
   "cell_type": "markdown",
   "metadata": {},
   "source": [
    "# 704. Binary Search\n",
    "\n",
    "Given an array of integers nums which is __sorted__ in __ascending order__, and an integer target, write a function to search target in nums. If target exists, then return its index. Otherwise, return -1.\n",
    "\n",
    "You must write an algorithm with O(log n) runtime complexity.\n",
    "\n",
    "# Reasoning\n",
    "\n",
    "[neetcodevideo](https://www.youtube.com/watch?v=s4DPM8ct1pI&t=1s)\n",
    "\n",
    "The key is that algorithm has be in $log(n)$ time. \n",
    "\n",
    "This problem involves `binary search` that one _must know_. \n",
    "\n",
    "The array is sorted, the target value may or may not exists in the array. \n",
    "\n",
    "In order to achieve O(log(n)) we need to condier `two pointers` at the beginning and at the end of the array. \n",
    "\n",
    "Than we look at the middle between the two pointers. If target is > than middle, we need to look at only the right part, the right subarry. If it is < middle, we need to look at the left and repeat the process. \n",
    "\n",
    "As such we continously devide the array into halfs, checking if both boundaries are the target. "
   ]
  },
  {
   "cell_type": "code",
   "execution_count": 11,
   "metadata": {},
   "outputs": [
    {
     "name": "stdout",
     "output_type": "stream",
     "text": [
      "4 Output: 4\n",
      "-1 Output: -1\n"
     ]
    }
   ],
   "source": [
    "def search(nums: list[int], target: int) -> int:\n",
    "    n = len(nums)\n",
    "    l, r = 0, n-1\n",
    "    while l <= r: # so that we can look at odd arrays as well aka [1]\n",
    "        # find mid \n",
    "        # m = (l + r) // 2  # WARNING overflow error\n",
    "        m = l + (r - l) // 2\n",
    "        if (nums[m] > target):\n",
    "            r = m - 1 # Note we add -1\n",
    "        elif (nums[m] < target):\n",
    "            l = m + 1\n",
    "        else:\n",
    "            return m\n",
    "    return -1\n",
    "\n",
    "    \n",
    "print(search(nums = [-1,0,3,5,9,12], target = 9), \"Output: 4\")\n",
    "print(search(nums = [-1,0,3,5,9,12], target = 2), \"Output: -1\")"
   ]
  },
  {
   "cell_type": "code",
   "execution_count": null,
   "metadata": {},
   "outputs": [],
   "source": []
  }
 ],
 "metadata": {
  "kernelspec": {
   "display_name": "Python 3",
   "language": "python",
   "name": "python3"
  },
  "language_info": {
   "codemirror_mode": {
    "name": "ipython",
    "version": 3
   },
   "file_extension": ".py",
   "mimetype": "text/x-python",
   "name": "python",
   "nbconvert_exporter": "python",
   "pygments_lexer": "ipython3",
   "version": "3.10.12"
  }
 },
 "nbformat": 4,
 "nbformat_minor": 2
}
