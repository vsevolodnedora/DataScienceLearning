{
 "cells": [
  {
   "cell_type": "markdown",
   "metadata": {},
   "source": [
    "# 74. Search a 2D Matrix\n",
    "\n",
    "You are given an m x n integer matrix matrix with the following two properties:\n",
    "\n",
    "Each row is sorted in non-decreasing order.\n",
    "The first integer of each row is greater than the last integer of the previous row.\n",
    "Given an integer target, return true if target is in matrix or false otherwise.\n",
    "\n",
    "You must write a solution in __O(log(m * n))__ time complexity.\n",
    "\n",
    "# Reasoning\n",
    "\n",
    "[neetcodevideo](https://www.youtube.com/watch?v=Ber2pi2C0j0&t=1s)\n",
    "\n",
    "Here matrix properties are keys. \n",
    "\n",
    "Since rows do not overlap in terms of values, (each row start > prev. row end), we can \n",
    "1. Find a row that may contain the value (using binary search)\n",
    "2. Find the value within this row\n",
    "\n",
    "Binary search is O(log(n)) complexity. \n",
    "\n",
    "__NOTE__ if we run it on each row in a for() loop we get n * O(log(m)) complexity. \n",
    "\n",
    "To get better result, we need to use `binary search` first on the rows and than within a row. "
   ]
  },
  {
   "cell_type": "code",
   "execution_count": 20,
   "metadata": {},
   "outputs": [
    {
     "name": "stdout",
     "output_type": "stream",
     "text": [
      "True Output: true\n",
      "False Output: false\n",
      "False Output: false\n",
      "False Output: false\n"
     ]
    }
   ],
   "source": [
    "def searchMatrix(matrix: list[list[int]], target: int) -> bool:\n",
    "    nrows, ncols = len(matrix), len(matrix[0])\n",
    "    # find the row\n",
    "    t,b = 0,nrows-1\n",
    "    row = None\n",
    "    while (t <= b):\n",
    "        m = (t+b)//2\n",
    "        if (target > matrix[m][-1]):\n",
    "            t = m + 1\n",
    "        elif (target < matrix[m][0]):\n",
    "            b = m - 1\n",
    "        else:\n",
    "            row = m\n",
    "            break\n",
    "\n",
    "    if not (t <= b):\n",
    "        return False\n",
    "    \n",
    "    if row is None:\n",
    "        return False\n",
    "\n",
    "    l,r = 0, ncols-1\n",
    "    while (l<=r):\n",
    "        ml = (l+r)//2\n",
    "        if (target > matrix[row][ml]):\n",
    "            l = ml + 1\n",
    "        elif (target < matrix[row][ml]):\n",
    "            r = ml - 1\n",
    "        else:\n",
    "            return True\n",
    "    \n",
    "    return False\n",
    "\n",
    "\n",
    "\n",
    "\n",
    "print(searchMatrix(matrix = [[1,3,5,7],\n",
    "                             [10,11,16,20],\n",
    "                             [23,30,34,60]], target = 3), \"Output: true\")\n",
    "print(searchMatrix(matrix = [[1,3,5,7],[10,11,16,20],[23,30,34,60]], target = 13), \"Output: false\")\n",
    "print(searchMatrix(matrix = [[1]], target = 0), \"Output: false\")\n",
    "print(searchMatrix(matrix = [[1,1]], target = 2), \"Output: false\")"
   ]
  },
  {
   "cell_type": "code",
   "execution_count": null,
   "metadata": {},
   "outputs": [],
   "source": []
  }
 ],
 "metadata": {
  "kernelspec": {
   "display_name": "Python 3",
   "language": "python",
   "name": "python3"
  },
  "language_info": {
   "codemirror_mode": {
    "name": "ipython",
    "version": 3
   },
   "file_extension": ".py",
   "mimetype": "text/x-python",
   "name": "python",
   "nbconvert_exporter": "python",
   "pygments_lexer": "ipython3",
   "version": "3.10.12"
  }
 },
 "nbformat": 4,
 "nbformat_minor": 2
}
