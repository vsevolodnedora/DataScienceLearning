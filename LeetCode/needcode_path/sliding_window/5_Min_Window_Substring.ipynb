{
 "cells": [
  {
   "cell_type": "markdown",
   "metadata": {},
   "source": [
    "# 76. Minimum Window Substring\n",
    "\n",
    "Given two strings s and t of lengths m and n respectively, return the minimum window \n",
    "substring\n",
    " of s such that every character in t (including duplicates) is included in the window. If there is no such substring, return the empty string \"\".\n",
    "\n",
    "The testcases will be generated such that the answer is unique.\n",
    "\n",
    "# Reasoning\n",
    "\n",
    "[neetcodevideo](https://www.youtube.com/watch?v=jSto0O4AJbM&t=1s)\n",
    "\n",
    "The Brute force solution here involves `hash maps` for both strings and comparing them for each substring of 's'. \n",
    "This solution rqeuries continously checking every entry in the hash maps. \n",
    "\n",
    "This can be avoied as follwos: \n",
    "\n",
    "Initially, when we initilize both hashmaps, we know that the conditions are not met. We can use an addition varaible \"condition\" that is incremented when we add a needed variable, and decremented if we loose it.\n",
    "\n",
    "__NOTE__: the algorithm is the forllowing\n",
    "1. Initilalize hasmap for req. counts and for window\n",
    "2. Initilize left and right pointers for the window\n",
    "4. Initilize 'having' varaible, that is a number of cahractars needed in the window to staisfy the result\n",
    "3. For each increment of the right pionter do:\n",
    "    - Add new character to the winodw hash map and if the count for this character is now equal to the one needed in the static hahsmap, increment 'having' varaible by 1\n",
    "    - Check if the 'having' now is what is needed, and while it is so (use while)\n",
    "        - Update the result (legth via r - l + 1)\n",
    "        - shrink the window from the left by removing character from the window hash map (if this character is one of the required ones, decrement the window hasmap and if it is now no longer satisfies the count needed, decrement 'having' varaible. This would make the 'while' loop break and would continou the main 'for loop)"
   ]
  },
  {
   "cell_type": "code",
   "execution_count": 6,
   "metadata": {},
   "outputs": [
    {
     "name": "stdout",
     "output_type": "stream",
     "text": [
      "BANC Output: BANC\n",
      "a Output: a\n",
      " Output: \"\"\n"
     ]
    }
   ],
   "source": [
    "def minWindow(s: str, t: str) -> str:\n",
    "    if (len(t) > len(s)) or (t==\"\"):\n",
    "        return \"\"\n",
    "    \n",
    "    # initilize the constant hashmap\n",
    "    count_t = {}\n",
    "    for c in t: \n",
    "        count_t[c] = count_t.get(c, 0) + 1\n",
    "\n",
    "    have = 0\n",
    "    need = len(count_t) # number of unique characters\n",
    "    window = {}\n",
    "    res, res_len = [-1,-1], float(\"infinity\") # store pointers, [l,r]\n",
    "    l = 0 # left popinter\n",
    "    # initilize dynamic hashmap\n",
    "    for r in range(len(s)):\n",
    "        c_r = s[r]\n",
    "        window[c_r] = window.get(c_r, 0) + 1\n",
    "        if( c_r in count_t and window[c_r] == count_t[c_r]):\n",
    "            have += 1\n",
    "        # elif window[c_r] == count_t[c_r] + 1:\n",
    "        #     have -= 1\n",
    "        while have == need:\n",
    "            # compute size of the window and update the result\n",
    "            if (r - l + 1 < res_len):\n",
    "                res = [l, r]\n",
    "                res_len = r - l + 1\n",
    "            # shift from the left the window\n",
    "            c_l = s[l]\n",
    "            window[c_l] -= 1\n",
    "            # update have/need critrion (if we removed needed character)\n",
    "            if (c_l in count_t and window[c_l] < count_t[c_l]):\n",
    "                have -= 1\n",
    "            # shift the pointer \n",
    "            l += 1\n",
    "\n",
    "    l,r=res[0],res[1]\n",
    "\n",
    "    return s[l:r+1] if res_len < float(\"infinity\") else \"\"\n",
    "    \n",
    "print(minWindow(s = \"ADOBECODEBANC\", t = \"ABC\"), 'Output: BANC')\n",
    "print(minWindow(s = \"a\", t = \"a\"), 'Output: a')\n",
    "print(minWindow(s = \"a\", t = \"aa\"), 'Output: \"\"')"
   ]
  },
  {
   "cell_type": "code",
   "execution_count": null,
   "metadata": {},
   "outputs": [],
   "source": []
  }
 ],
 "metadata": {
  "kernelspec": {
   "display_name": "Python 3",
   "language": "python",
   "name": "python3"
  },
  "language_info": {
   "codemirror_mode": {
    "name": "ipython",
    "version": 3
   },
   "file_extension": ".py",
   "mimetype": "text/x-python",
   "name": "python",
   "nbconvert_exporter": "python",
   "pygments_lexer": "ipython3",
   "version": "3.10.12"
  }
 },
 "nbformat": 4,
 "nbformat_minor": 2
}
