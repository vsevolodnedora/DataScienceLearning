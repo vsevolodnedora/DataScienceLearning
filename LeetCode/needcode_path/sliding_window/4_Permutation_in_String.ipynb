{
 "cells": [
  {
   "cell_type": "markdown",
   "metadata": {},
   "source": [
    "# 567. Permutation in String\n",
    "\n",
    "Given two strings s1 and s2, return true if s2 contains a permutation of s1, or false otherwise.\n",
    "\n",
    "In other words, return true if one of s1's permutations is the substring of s2.\n",
    "\n",
    "# Reasoning\n",
    "\n",
    "[neetcodevideo](https://leetcode.com/problems/permutation-in-string/)\n",
    "\n",
    "There are two solution to the problem. One has time complexity of O(26*n) and O(n).  \n",
    "\n",
    "Do not forcus on _permutation_ term much. It just means that the substring is composed of _the same letters_. So we need to _slide_ along the longer string and check if there is a _substring_ of the required size containing _the same characters_.  \n",
    "This is the same as _looking for an anagram_.  \n",
    "So this problem can be solved with `sliding window` approach.  \n",
    "\n",
    "The typical sliding window technique would give a solution of O(m*n) where we compare each character.  \n",
    "A more efficient solution with O(26*n) complexity can be achieved by using `hash map`.  \n",
    "__NOTE__: this is possible becase there is a _footnote_ in the \n",
    "\n",
    "__NOTE__: we would need _two_ hash maps here. One for the smaller string and the second one for the wondow we are scanning. If counts of letters in both agree, we found a permutated substring inside of the loner string. \n",
    "\n",
    "A _better_ solution with O(n) time complexity is similar, but requires an _additional varaible_ 'matches' to keep track how many characters inside of the sliding window _match_ the characters in the substring.\n",
    "\n",
    "_Matches_ variable is the overall number of equal characters. For each of the 26 characters in the alphabet, if the number equal between smaller string and the current window, we set \"1\" if not equal we set \"0\" so, the sum, the value of 'matches' is [0,26].  \n",
    "Thus the _hash map_ for smaller string also has [26] entries with counts for _each_ letter in the alphabet. Then, at the beginning of the loop, we compute the total value of matches constructing the second hash map for the window. We do this operation only once. So the overall time complexity is O(26) + O(n), which is just O(n) and is better than O(26*n) "
   ]
  },
  {
   "cell_type": "code",
   "execution_count": 7,
   "metadata": {},
   "outputs": [
    {
     "name": "stdout",
     "output_type": "stream",
     "text": [
      "True Output: true\n",
      "False false\n"
     ]
    }
   ],
   "source": [
    "def checkInclusion(s1: str, s2: str) -> bool:\n",
    "\n",
    "    # account for edge cases\n",
    "    if len(s1) > len(s2):\n",
    "        return False\n",
    "\n",
    "    n1 = len(s1)\n",
    "    n2 = len(s2)\n",
    "    # build a smaller string hash map\n",
    "    s1_hash = [0 for _ in range(26)] # here index is the key -- askii difference\n",
    "    s2_hash = [0 for _ in range(26)]\n",
    "    for i, c1 in enumerate(s1):\n",
    "        s1_hash[ord(c1) - ord('a')] += 1\n",
    "        # init second hash for the window size of the first string\n",
    "        c2 = s2[i]\n",
    "        s2_hash[ord(c2) - ord('a')] += 1\n",
    "\n",
    "    # compute initial count\n",
    "    matches = 0\n",
    "    for ic in range(26):\n",
    "        if (s1_hash[ic] == s2_hash[ic]):\n",
    "            matches += 1\n",
    "    \n",
    "    # we can return true immedeatrly\n",
    "    if (matches == 26): return True\n",
    "\n",
    "    for i in range(n1, n2):\n",
    "        c_p = s2[i]\n",
    "        c_m = s2[i - n1]\n",
    "        # update the hashmap\n",
    "        \n",
    "        # update counts after adding character\n",
    "        c_p = s2[i]\n",
    "        index = ord(c_p) - ord('a')\n",
    "        s2_hash[index] += 1\n",
    "        if (s1_hash[index] == s2_hash[index]):\n",
    "            matches += 1\n",
    "        elif (s1_hash[index] + 1 == s2_hash[index]):\n",
    "            matches -= 1\n",
    "        \n",
    "        # update counts for removing a value\n",
    "        c_m = s2[i - n1]\n",
    "        index = ord(c_m) - ord('a')\n",
    "        s2_hash[index] -= 1\n",
    "        if (s1_hash[index] == s2_hash[index]):\n",
    "            matches += 1\n",
    "        elif (s1_hash[index] - 1 == s2_hash[index]):\n",
    "            matches -= 1\n",
    "\n",
    "        if matches == 26: return True\n",
    "    \n",
    "    return False\n",
    "\n",
    "print(checkInclusion(\"ab\",\"eidbaooo\"), \"Output: true\")\n",
    "print(checkInclusion(s1 = \"ab\", s2 = \"eidboaoo\"), \"false\")"
   ]
  },
  {
   "cell_type": "code",
   "execution_count": null,
   "metadata": {},
   "outputs": [],
   "source": []
  }
 ],
 "metadata": {
  "kernelspec": {
   "display_name": "Python 3",
   "language": "python",
   "name": "python3"
  },
  "language_info": {
   "codemirror_mode": {
    "name": "ipython",
    "version": 3
   },
   "file_extension": ".py",
   "mimetype": "text/x-python",
   "name": "python",
   "nbconvert_exporter": "python",
   "pygments_lexer": "ipython3",
   "version": "3.10.12"
  }
 },
 "nbformat": 4,
 "nbformat_minor": 2
}
