{
 "cells": [
  {
   "cell_type": "markdown",
   "metadata": {},
   "source": [
    "# 3. Longest Substring Without Repeating Characters\n",
    "\n",
    "Given a string s, find the length of the longest \n",
    "substring without repeating characters.\n",
    "\n",
    "# Reasoning\n",
    "\n",
    "[neetcodevideo](https://www.youtube.com/watch?v=wiGpQwVHdE0)\n",
    "\n",
    "In order to avoid going through _ever_ possible substring in the string, we eomply `sliding window`\n",
    "\n",
    "Note: this problem requries also a `set`. \n",
    "\n",
    "The reson is that we need to keep track on what is _inside_ out sliding window, or _between two pointers_\n",
    "\n",
    "Using the `set` and `sliding window` we can achieve time complexity O(n) and space tomplexity O(n). \n",
    "\n",
    "Than the longest substring is the max(len(set)) we had\n",
    "\n",
    "- If we get to a duplicate value we need to update the pointer and the set"
   ]
  },
  {
   "cell_type": "code",
   "execution_count": 42,
   "metadata": {},
   "outputs": [
    {
     "name": "stdout",
     "output_type": "stream",
     "text": [
      "3  Output: 3\n",
      "1  Output: 1\n",
      "3  Output: 3\n",
      "2  Output: 2\n"
     ]
    }
   ],
   "source": [
    "def lengthOfLongestSubstring(s: str) -> int:\n",
    "    n = len(s)\n",
    "    if n == 0: return 0\n",
    "    if n == 1: return 1\n",
    "    substring = set()\n",
    "    substring.add(s[0])\n",
    "    l,r = 0,1\n",
    "    res = 0\n",
    "\n",
    "    while (r<n):\n",
    "        # print(substring, s[l], s[r])\n",
    "        if (not s[r] in substring):\n",
    "            substring.add(s[r])\n",
    "            r+=1  \n",
    "        else:\n",
    "            substring.remove(s[l])\n",
    "            l+=1  \n",
    "        res = max(res, len(substring))\n",
    "    return res\n",
    "print(lengthOfLongestSubstring(s = \"abcabcbb\"),\" Output: 3\")\n",
    "print(lengthOfLongestSubstring(s = \"bbbbb\"),\" Output: 1\")\n",
    "print(lengthOfLongestSubstring(s = \"pwwkew\"),\" Output: 3\")\n",
    "print(lengthOfLongestSubstring(s = \"au\"),\" Output: 2\")"
   ]
  },
  {
   "cell_type": "code",
   "execution_count": null,
   "metadata": {},
   "outputs": [],
   "source": []
  }
 ],
 "metadata": {
  "kernelspec": {
   "display_name": "Python 3",
   "language": "python",
   "name": "python3"
  },
  "language_info": {
   "codemirror_mode": {
    "name": "ipython",
    "version": 3
   },
   "file_extension": ".py",
   "mimetype": "text/x-python",
   "name": "python",
   "nbconvert_exporter": "python",
   "pygments_lexer": "ipython3",
   "version": "3.10.12"
  }
 },
 "nbformat": 4,
 "nbformat_minor": 2
}
