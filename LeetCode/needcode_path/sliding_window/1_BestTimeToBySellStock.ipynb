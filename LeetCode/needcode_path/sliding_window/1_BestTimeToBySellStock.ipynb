{
 "cells": [
  {
   "cell_type": "markdown",
   "metadata": {},
   "source": [
    "# 121. Best Time to Buy and Sell Stock\n",
    "\n",
    "You are given an array prices where `prices[i]` is the price of a given stock on the `ith` day.\n",
    "\n",
    "You want to maximize your profit by choosing a __single__ day to buy one stock and choosing a __different day__ in the future to sell that stock.\n",
    "\n",
    "Return the _maximum profit_ you can achieve from this transaction. If you cannot achieve any profit, return 0.\n",
    "\n",
    "# Reasoning\n",
    "\n",
    "[neetcodevideo](https://www.youtube.com/watch?v=1pkOgXD63yU)\n",
    "\n",
    "Stock market in a nutshell: _Buy Low Sell High_\n",
    "\n",
    "Given an unsorted array. \n",
    "We can buy and sell only on one day, a different by one day. \n",
    "\n",
    "Note, we cannot sell stock _before_ buying it. So the sell idx > buy idx\n",
    "\n",
    "One way to sell it is to consider `two pointers`. \n",
    "\n",
    "We shift the pointer that leads to a maximization of the profit. \n",
    "\n",
    "__NOTE__: here we initialize pointers adjacnet. idx1 = 0; idx2 = 1. \n",
    "Each time we update the max proifit (we do not neet to keep track on indexes where the profit is maximum).\n",
    "\n",
    "We update left pointer only if val[l] < val[r], otherwise we update right pointer\n",
    "\n",
    "Memory complexity O(1)\n",
    "Tiem compexity O(n)\n",
    "\n"
   ]
  },
  {
   "cell_type": "code",
   "execution_count": 9,
   "metadata": {},
   "outputs": [
    {
     "name": "stdout",
     "output_type": "stream",
     "text": [
      "2 Output: 2\n",
      "5 Output: 5\n",
      "0 Output: 0\n"
     ]
    }
   ],
   "source": [
    "def maxProfit(prices: list[int]) -> int:\n",
    "    if len(prices) < 2:\n",
    "        return 0\n",
    "    n = len(prices)\n",
    "    l,r=0,1 # left = bying right = selling\n",
    "    res = 0\n",
    "    while (r<n):\n",
    "        # is it profitable \n",
    "        if (prices[l] < prices[r]):\n",
    "            res = max(res, prices[r]-prices[l])\n",
    "        else:\n",
    "            l = r # this is the lowest price up to know\n",
    "        r+=1\n",
    "    return res\n",
    "\n",
    "print(maxProfit(prices = [2,1,2,1,0,1,2]), \"Output: 2\")\n",
    "print(maxProfit(prices = [7,1,5,3,6,4]), \"Output: 5\")\n",
    "print(maxProfit(prices = [7,6,4,3,1]), \"Output: 0\")"
   ]
  },
  {
   "cell_type": "code",
   "execution_count": null,
   "metadata": {},
   "outputs": [],
   "source": []
  }
 ],
 "metadata": {
  "kernelspec": {
   "display_name": "Python 3",
   "language": "python",
   "name": "python3"
  },
  "language_info": {
   "codemirror_mode": {
    "name": "ipython",
    "version": 3
   },
   "file_extension": ".py",
   "mimetype": "text/x-python",
   "name": "python",
   "nbconvert_exporter": "python",
   "pygments_lexer": "ipython3",
   "version": "3.10.12"
  }
 },
 "nbformat": 4,
 "nbformat_minor": 2
}
