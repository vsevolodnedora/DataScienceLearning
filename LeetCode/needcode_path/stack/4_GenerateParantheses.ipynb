{
 "cells": [
  {
   "cell_type": "markdown",
   "metadata": {},
   "source": [
    "# 22. Generate Paranthesis\n",
    "\n",
    "Given n pairs of parentheses, write a function to generate all combinations of well-formed parentheses.\n",
    "\n",
    "# Reasoning \n",
    "\n",
    "[neetcodevideo](https://www.youtube.com/watch?v=s9fokUqJ76A&t=7s)\n",
    "\n",
    "Well formed -- are nested parathesis that are closed before another opens, e.g., (), (()),((()())), etc... \n",
    "\n",
    "Here $n$ is the number of pairs, so in total there will be $2\\times n$ of paranthesis arranged in a _valid_ order.  \n",
    "\n",
    "When $n=1$ there is only one valid way.  \n",
    "\n",
    "The brute force solution is, consider starting with a _open_ parathesis. We cannot start with close one.  \n",
    "\n",
    "After the open one, however, any one is possible. After that we can again open either open or close one. However, after, if there was a close paranthesis, we _cannot_ have anther close one, as it would not be matched. \n",
    "\n",
    "Note a pattern, we can only add a close parethesis __if__ there is an unpached open one before. In other words, we `can add a ) only if the  N of ) is < than N of (`  \n",
    "\n",
    "This solution involves ``backtracking`` and ``recursion``. And conditions are \n",
    "- N closed and N open paranthess\n",
    "- Add closed one only if N of them is < than N of open ones. \n",
    "\n",
    "This problem can be visualized as a __tree__, a __binary tree__, at each split we add either an open or a closing parathesy based on the above rules. \n"
   ]
  },
  {
   "cell_type": "code",
   "execution_count": 5,
   "metadata": {},
   "outputs": [
    {
     "name": "stdout",
     "output_type": "stream",
     "text": [
      "['((()))', '(()())', '(())()', '()(())', '()()()']  expected [\"((()))\",\"(()())\",\"(())()\",\"()(())\",\"()()()\"] \n"
     ]
    }
   ],
   "source": [
    "def generateParenthesis(n: int) -> list[str]:\n",
    "    # add open if count < n\n",
    "    # add close if n_closed < n_open\n",
    "    # valid iff n open == closed \n",
    "\n",
    "    # recursive solution\n",
    "    stack = []\n",
    "    res = []\n",
    "\n",
    "    def backtrack(open_n, close_n):\n",
    "        if (open_n == close_n == n):\n",
    "            res.append(\"\".join(stack))\n",
    "            return res\n",
    "\n",
    "        if (open_n < n):\n",
    "            stack.append(\"(\")\n",
    "            backtrack(open_n+1, close_n)\n",
    "            # as stack is global, we need to remove  what we just added\n",
    "            stack.pop() \n",
    "\n",
    "        if (close_n < open_n):\n",
    "            stack.append(\")\")\n",
    "            backtrack(open_n,close_n+1)\n",
    "            stack.pop()\n",
    "\n",
    "    backtrack(0, 0)\n",
    "    return res\n",
    "\n",
    "\n",
    "print(generateParenthesis(3), ' expected [\"((()))\",\"(()())\",\"(())()\",\"()(())\",\"()()()\"] ')"
   ]
  },
  {
   "cell_type": "markdown",
   "metadata": {},
   "source": []
  }
 ],
 "metadata": {
  "kernelspec": {
   "display_name": "Python 3",
   "language": "python",
   "name": "python3"
  },
  "language_info": {
   "codemirror_mode": {
    "name": "ipython",
    "version": 3
   },
   "file_extension": ".py",
   "mimetype": "text/x-python",
   "name": "python",
   "nbconvert_exporter": "python",
   "pygments_lexer": "ipython3",
   "version": "3.10.12"
  }
 },
 "nbformat": 4,
 "nbformat_minor": 2
}
