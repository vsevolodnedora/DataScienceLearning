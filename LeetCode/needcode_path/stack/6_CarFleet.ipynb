{
 "cells": [
  {
   "cell_type": "markdown",
   "metadata": {},
   "source": [
    "# 853. Car Fleet\n",
    "\n",
    "There are n cars going to the same destination along a one-lane road. The destination is target miles away.\n",
    "\n",
    "You are given two integer array position and speed, both of length n, where position[i] is the position of the ith car and speed[i] is the speed of the ith car (in miles per hour).\n",
    "\n",
    "A car can never pass another car ahead of it, but it can catch up to it and drive bumper to bumper at the same speed. The faster car will slow down to match the slower car's speed. The distance between these two cars is ignored (i.e., they are assumed to have the same position).\n",
    "\n",
    "A car fleet is some non-empty set of cars driving at the same position and same speed. Note that a single car is also a car fleet.\n",
    "\n",
    "If a car catches up to a car fleet right at the destination point, it will still be considered as one car fleet.\n",
    "\n",
    "Return the number of car fleets that will arrive at the destination.\n",
    "\n",
    "# Reasoning\n",
    "\n",
    "[neetcodevideo](https://www.youtube.com/watch?v=Pr6T-3yB9RM&t=4s)\n",
    "\n",
    "The key here is that a car can never pass enother car.\n",
    "\n",
    "These cars can be represented as a system of linear equations with \n",
    "$$\n",
    "x^j_{i+1} = \\upsilon^j_{i} dt_{i} + x^j_{i}\n",
    "$$\n",
    "\n",
    "where $j$ is the index of a car and $i$ is the timestep. \n",
    "\n",
    "A way to visualize it is to plot a graphics where X is a time and Y is coordinate and manually compute intersects of the cars trajectories. \n",
    "\n",
    "__NOTE__ the original 'position' array is not sorted. However, we know that cars cannot pass each other, so, it is more usefull to see in a sorted order, as it will be preserved. \n",
    "\n",
    "A way to look at it is to start from the _end_ of _sorted car positions_ and find \n",
    "- if cars collide, i.e., if they reach the destination in reverse order. This can be done by just comparing the time at which they reach the destination $t = \\Delta x / \\upsilon$. If so, they would become a car fleet before. \n",
    "- after collision we consider one car _behind_ and see if it will collide wih the previos. If so, we increment the nnumber of fleets. \n",
    "\n",
    "The overall time complexity is \n",
    "- O(nlogn) for sorting \n",
    "- O(n) for car collision detection\n",
    "\n",
    "The extra space is O(n)\n",
    "\n",
    "The `stack` here is used as a collection of \"fleets\". We progressively add cars to it as we go through the array or cars, and if they collide with previons one (in the stack), we pop, so in the end we will have a stack of fleets. "
   ]
  },
  {
   "cell_type": "code",
   "execution_count": 3,
   "metadata": {},
   "outputs": [
    {
     "name": "stdout",
     "output_type": "stream",
     "text": [
      "3 expected 3\n",
      "1 expected 1\n",
      "1 expected 1\n",
      "3 expected 1\n"
     ]
    }
   ],
   "source": [
    "def carFleet(target: int, position: list[int], speed: list[int]) -> int:\n",
    "    pair = [[p, s] for (p,s) in zip(position, speed)]\n",
    "    stack = []\n",
    "    # iterate over sorted and inverted array\n",
    "    for (p, v) in sorted(pair)[::-1]: \n",
    "        if (not stack):\n",
    "            tt = (target - p) / v \n",
    "            stack.append( (p, v, tt) )\n",
    "        else:\n",
    "            # compute time to target\n",
    "            tt = (target - p) / v \n",
    "            if (tt <= stack[-1][2]):\n",
    "                continue # car becones part of the fleet \n",
    "            else:\n",
    "                stack.append((p,v,tt))   \n",
    "    return len(stack)\n",
    "print(carFleet(target=12, position=[10,8,0,5,3], speed=[2,4,1,1,3]), \"expected 3\")\n",
    "print(carFleet(target = 10, position = [3], speed = [3]), \"expected 1\")\n",
    "print(carFleet(target = 100, position = [0,2,4], speed = [4,2,1]), \"expected 1\")\n",
    "print(carFleet(target = 100, position = [3,4,5], speed = [2,2,2]), \"expected 3\")"
   ]
  },
  {
   "cell_type": "markdown",
   "metadata": {},
   "source": []
  }
 ],
 "metadata": {
  "kernelspec": {
   "display_name": "Python 3",
   "language": "python",
   "name": "python3"
  },
  "language_info": {
   "codemirror_mode": {
    "name": "ipython",
    "version": 3
   },
   "file_extension": ".py",
   "mimetype": "text/x-python",
   "name": "python",
   "nbconvert_exporter": "python",
   "pygments_lexer": "ipython3",
   "version": "3.10.12"
  }
 },
 "nbformat": 4,
 "nbformat_minor": 2
}
