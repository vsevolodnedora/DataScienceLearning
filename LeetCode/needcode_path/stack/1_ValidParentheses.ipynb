{
 "cells": [
  {
   "cell_type": "markdown",
   "metadata": {},
   "source": [
    "# Valid Parentheses\n",
    "\n",
    "Given a string s containing just the characters '(', ')', '{', '}', '[' and ']', determine if the input string is valid.\n",
    "\n",
    "An input string is valid if:\n",
    "\n",
    "- Open brackets must be closed by the same type of brackets.\n",
    "- Open brackets must be closed in the correct order.\n",
    "- Every close bracket has a corresponding open bracket of the same type.\n",
    "\n",
    "# Reasoning\n",
    "\n",
    "[neetcodevideo](https://www.youtube.com/watch?v=WTzjTskDFMg&t=1s)\n",
    "\n",
    "In a sting of paranthesis we are given, the _order matters_. Meaning that if '(' existis, it has to be closed with ')' withot other openning or closing braces in between (pairs allowed though). In other words, \n",
    "- []({}) is valid\n",
    "- [(]){} is not \n",
    "\n",
    "A starting should always be an open paranethesis and end should always be closing. After, we can add as many paranthesis as we want _as long as we close them later_. We can keep track on open paranethesis and close them as we move forward. So, we can use a data structure, where we add on top (at the end) and remove from the top (from the end). If at the end of the string, this structure is empty, -- all paranthesis were closed. \n",
    "This data structure is `stack`. \n",
    "\n",
    "We need however, to be able to match open and closed paranthesis to know which one closes which. This is another data scturcture `hash map`.  \n",
    "We use it by checking what _corresponds_ to a given closing parentheses. If this paramthesis is on the top of the stack. If yes, we _remove_ or _pop_ it from the stack. \n",
    "\n",
    "Since we are traversing the array once, this algorithm is O(n) time complexity, and O(n) space complexity (due to stack usage).  "
   ]
  },
  {
   "cell_type": "code",
   "execution_count": 3,
   "metadata": {},
   "outputs": [
    {
     "name": "stdout",
     "output_type": "stream",
     "text": [
      "True  exp: True\n",
      "True  exp: True\n",
      "False  exp: False\n"
     ]
    }
   ],
   "source": [
    "def isValid(s: str) -> bool:\n",
    "    stack = []\n",
    "    closeToOpen={\n",
    "        \")\":\"(\", \"]\":\"[\", \"}\":\"{\"\n",
    "    }\n",
    "    for c in s:\n",
    "        # check if it is open parentheses\n",
    "        if (c not in closeToOpen):\n",
    "            stack.append(c)\n",
    "        # if it is a closing parentheses\n",
    "        else: # (c in closeToOpen):\n",
    "            # check if it corresponds to open one on top of the stack\n",
    "            if (len(stack) > 0 and stack[-1] == closeToOpen[c]):\n",
    "                stack.pop(-1)\n",
    "            else:\n",
    "                return False\n",
    "    if len(stack) == 0:\n",
    "        return True\n",
    "    return False\n",
    "print(isValid(\"[]\"), \" exp: True\")\n",
    "print(isValid(\"[]({})\"), \" exp: True\")\n",
    "print(isValid(\"[(]){}\"), \" exp: False\")\n"
   ]
  },
  {
   "cell_type": "code",
   "execution_count": null,
   "metadata": {},
   "outputs": [],
   "source": []
  }
 ],
 "metadata": {
  "kernelspec": {
   "display_name": "Python 3",
   "language": "python",
   "name": "python3"
  },
  "language_info": {
   "codemirror_mode": {
    "name": "ipython",
    "version": 3
   },
   "file_extension": ".py",
   "mimetype": "text/x-python",
   "name": "python",
   "nbconvert_exporter": "python",
   "pygments_lexer": "ipython3",
   "version": "3.10.12"
  }
 },
 "nbformat": 4,
 "nbformat_minor": 2
}
