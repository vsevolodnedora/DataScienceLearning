{
 "cells": [
  {
   "cell_type": "markdown",
   "metadata": {},
   "source": [
    "# 739. Daily Temperatures\n",
    "\n",
    "Given an array of integers `temperatures` represents the daily temperatures, return an array `answer` such that `answer[i]` is the number of days you have to wait after the `ith` day to get a warmer temperature. \n",
    "If there is no future day for which this is possible, keep `answer[i] == 0` instead.\n",
    "\n",
    "# Reasoning \n",
    "\n",
    "[neetcodevideo](https://www.youtube.com/watch?v=cTBiBSnjO3c&t=1s)\n",
    "\n",
    "For each value of the temperature array, we need to compute the count of days untill the temperature rises.\n",
    "\n",
    "It is very simple to make an O(n^2) solution (though I failed)\n",
    "\n",
    "There is a O(n) solution, but it requires extra memory. \n",
    "\n",
    "It requries a `Monotonic decreasing stack` However, as we can add the same value twice, it is not stricktly decreasing order... \n",
    "\n",
    "Building this stack we continously add values if they are smaller than the previos one, but if we encounter a value that is larger, we pop everything untill it is smaller (or eqal)\n",
    "\n",
    "The _trick_ here is that the stack contains _pairs_, the value and the index...\n"
   ]
  },
  {
   "cell_type": "code",
   "execution_count": 26,
   "metadata": {},
   "outputs": [
    {
     "name": "stdout",
     "output_type": "stream",
     "text": [
      "[1, 1, 4, 2, 1, 1, 1, 0] expected: [1, 1, 4, 2, 1, 1, 0, 0]\n",
      "[1, 1, 1, 0] expected: [1, 1, 1, 0]\n",
      "[1, 1, 0] expected: [1, 1, 0]\n",
      "[0] expected: [0]\n",
      "[0, 0, 0, 0] expected: [0, 0, 0, 0]\n"
     ]
    }
   ],
   "source": [
    "# My Failed attempt\n",
    "def dailyTemperatures(temperatures: list[int]) -> list[int]:\n",
    "    n = len(temperatures)\n",
    "    res = [0] * n\n",
    "    stack = []\n",
    "    for l in range(n):\n",
    "        r = n - l - 1\n",
    "        if l == 0:\n",
    "            continue\n",
    "        i=0\n",
    "        while (temperatures[r] >= temperatures[r+i]) and (i < n - r - 1): \n",
    "            i += 1\n",
    "        if (i == n - r -1) and (temperatures[0] >= temperatures[r]):\n",
    "            continue\n",
    "        res[r] = i\n",
    "    return res\n",
    "\n",
    "\n",
    "print(dailyTemperatures([73,74,75,71,69,72,76,73]), \"expected:\", [1,1,4,2,1,1,0,0])\n",
    "print(dailyTemperatures([30,40,50,60]), \"expected:\", [1,1,1,0])\n",
    "\n",
    "print(dailyTemperatures([30,60,90]), \"expected:\", [1,1,0])\n",
    "\n",
    "print(dailyTemperatures([30]), \"expected:\", [0])\n",
    "print(dailyTemperatures([2,2,2,2]), \"expected:\", [0,0,0,0])"
   ]
  },
  {
   "cell_type": "code",
   "execution_count": 30,
   "metadata": {},
   "outputs": [
    {
     "name": "stdout",
     "output_type": "stream",
     "text": [
      "[1, 1, 4, 2, 1, 1, 0, 0] expected: [1, 1, 4, 2, 1, 1, 0, 0]\n",
      "[1, 1, 1, 0] expected: [1, 1, 1, 0]\n",
      "[1, 1, 0] expected: [1, 1, 0]\n",
      "[0] expected: [0]\n",
      "[0, 0, 0, 0] expected: [0, 0, 0, 0]\n"
     ]
    }
   ],
   "source": [
    "# Leetcode array\n",
    "def dailyTemperatures(temperatures: list[int]) -> list[int]:\n",
    "    n = len(temperatures)\n",
    "    res = [0] * n\n",
    "    stack = [] # of paris [temp, index]\n",
    "\n",
    "    for i, t in enumerate(temperatures):\n",
    "        while ( stack and t > stack[-1][0] ):\n",
    "            stackT, stackI = stack.pop()\n",
    "            res[stackI] = (i - stackI)\n",
    "        stack.append((t,i))    \n",
    "    return res\n",
    "print(dailyTemperatures([73,74,75,71,69,72,76,73]), \"expected:\", [1,1,4,2,1,1,0,0])\n",
    "print(dailyTemperatures([30,40,50,60]), \"expected:\", [1,1,1,0])\n",
    "\n",
    "print(dailyTemperatures([30,60,90]), \"expected:\", [1,1,0])\n",
    "\n",
    "print(dailyTemperatures([30]), \"expected:\", [0])\n",
    "print(dailyTemperatures([2,2,2,2]), \"expected:\", [0,0,0,0])"
   ]
  },
  {
   "cell_type": "code",
   "execution_count": null,
   "metadata": {},
   "outputs": [],
   "source": []
  }
 ],
 "metadata": {
  "kernelspec": {
   "display_name": "Python 3",
   "language": "python",
   "name": "python3"
  },
  "language_info": {
   "codemirror_mode": {
    "name": "ipython",
    "version": 3
   },
   "file_extension": ".py",
   "mimetype": "text/x-python",
   "name": "python",
   "nbconvert_exporter": "python",
   "pygments_lexer": "ipython3",
   "version": "3.10.12"
  }
 },
 "nbformat": 4,
 "nbformat_minor": 2
}
