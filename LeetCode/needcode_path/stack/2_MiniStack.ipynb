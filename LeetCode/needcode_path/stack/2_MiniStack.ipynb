{
 "cells": [
  {
   "cell_type": "markdown",
   "metadata": {},
   "source": [
    "# 155 Mini Stack\n",
    "\n",
    "Design a stack that supports push, pop, top, and retrieving the minimum element in constant time.\n",
    "\n",
    "Implement the MinStack class:\n",
    "\n",
    "MinStack() initializes the stack object.\n",
    "void push(int val) pushes the element val onto the stack.\n",
    "void pop() removes the element on the top of the stack.\n",
    "int top() gets the top element of the stack.\n",
    "int getMin() retrieves the minimum element in the stack.\n",
    "You must implement a solution with O(1) time complexity for each function.\n",
    "\n",
    "# Reasoning\n",
    "\n",
    "[leetcodevideo](https://www.youtube.com/watch?v=qkLl7nAwDPo&t=1s)\n",
    "\n",
    "The tricky part of this problem is that we want to retrive the _min_ in constant time.  \n",
    "\n",
    "Note that as a _datastructure_ a stack supports _adding on top (push)_, _poping_ and _getting top_ by default. These are already O(1) operations. A stack in python can be implemented with a _linked list_ or with an _array_. \n",
    "We are going to use built-in structure. \n",
    "\n",
    "If we naively look through each element of the stack to get the min, it is O(N) operation. \n",
    "\n",
    "Another naive way is to keep a _global_ min every time a value is added. However, this \n",
    "breaks if we pop this value and than have to search through the min again. \n",
    "\n",
    "Here there is a hint:\n",
    "- Consider each node in the stack habinb a minimum value\n",
    "\n",
    "in other words for each position in the stack we have a value: __a min at this time__, so that when the value itself is popped, we can just fallback on the previous minimum value. \n",
    "\n",
    "In some sense we would have two stacks in parallel. The actual values and the min stack that keeps track on current minima. Than, all operations, like adding, removing, are done on _both stacks_.\n",
    "\n",
    "This is still\n",
    "\n",
    "\n"
   ]
  },
  {
   "cell_type": "code",
   "execution_count": null,
   "metadata": {},
   "outputs": [],
   "source": [
    "class MinStack:\n",
    "\n",
    "    def __init__(self):\n",
    "        self.stack = []\n",
    "        self.mins = []\n",
    "\n",
    "    def push(self, val: int) -> None:\n",
    "        self.stack.append(val)\n",
    "        if not self.mins:\n",
    "            self.mins.append(val)\n",
    "        elif self.mins and val < self.mins[-1]:\n",
    "            self.mins.append(val)\n",
    "        else:\n",
    "            self.mins.append(self.mins[-1])\n",
    "        \n",
    "\n",
    "    def pop(self) -> None:\n",
    "        self.stack.pop(-1)\n",
    "        self.mins.pop(-1)\n",
    "        \n",
    "\n",
    "    def top(self) -> int:\n",
    "        return self.stack[-1]\n",
    "\n",
    "    def getMin(self) -> int:\n",
    "        return self.mins[-1]\n"
   ]
  }
 ],
 "metadata": {
  "language_info": {
   "name": "python"
  }
 },
 "nbformat": 4,
 "nbformat_minor": 2
}
