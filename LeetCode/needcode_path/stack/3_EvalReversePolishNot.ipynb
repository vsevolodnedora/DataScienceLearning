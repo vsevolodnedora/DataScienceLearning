{
 "cells": [
  {
   "cell_type": "markdown",
   "metadata": {},
   "source": [
    "# 150. Evaluate Reverse Polish Notation \n",
    "\n",
    "You are given an array of strings tokens that represents an arithmetic expression in a Reverse Polish Notation.\n",
    "\n",
    "Evaluate the expression. Return an integer that represents the value of the expression.\n",
    "\n",
    "> Note that:\n",
    "\n",
    "- The valid operators are '+', '-', '*', and '/'.\n",
    "- Each operand may be an integer or another expression.\n",
    "- The division between two integers always truncates toward zero.\n",
    "- There will not be any division by zero.\n",
    "- The input represents a valid arithmetic expression in a reverse polish notation.\n",
    "- The answer and all the intermediate calculations can be represented in a 32-bit integer.\n",
    "\n",
    "# Reasoning\n",
    "\n",
    "[neetcodevideo](https://www.youtube.com/watch?v=iu0082c4HDE&t=1s)\n",
    "\n",
    "__WARNING__: rounding to zero in division is not _automatic_ in python. (It is in Java and C++). So we must account for it manually.\n",
    "\n",
    "_Note_: in RPM operations are performed in a sequence. Once we have an operand in the list, we apply it to the previous two values. Then we can replace the two values with the result of the opeartion.  \n",
    "\n",
    "The key is the operator always is applied to _two previous numbers_ and the operation is done _in place_, meaning, we replace the two values with the value. \n",
    "\n",
    "If we use `stack` we continously push numbers and pop/replace the value once there is an operation. At the end, in the stack, there will be the result. \n",
    "\n",
    "The overall time compelxity is O(n) as we are traversing the array once.  \n",
    "The overall space complexity is also O(n) as we build stack"
   ]
  },
  {
   "cell_type": "code",
   "execution_count": 8,
   "metadata": {},
   "outputs": [
    {
     "name": "stdout",
     "output_type": "stream",
     "text": [
      "9  expected 9\n",
      "6  expected 6\n",
      "22  expected 22\n",
      "9  expected 22\n"
     ]
    }
   ],
   "source": [
    "def evalRPN(tokens: list[str]) -> int:\n",
    "    stack = []\n",
    "    for i, c in enumerate(tokens):\n",
    "        if (c == \"-\"):\n",
    "            a,b=stack.pop(),stack.pop()\n",
    "            stack.append(b-a)\n",
    "        elif (c==\"+\"):\n",
    "            a,b=stack.pop(),stack.pop()\n",
    "            stack.append(b+a)\n",
    "        elif (c==\"*\"):\n",
    "            a,b=stack.pop(),stack.pop()\n",
    "            stack.append(b*a)\n",
    "        elif (c==\"/\"):\n",
    "            a,b=stack.pop(),stack.pop()\n",
    "            stack.append( int(b/a) )\n",
    "        else:\n",
    "            stack.append(int(c))\n",
    "    return stack.pop()\n",
    "    \n",
    "\n",
    "print(evalRPN([\"2\",\"1\",\"+\",\"3\",\"*\"]), \" expected 9\")\n",
    "print(evalRPN([\"4\",\"13\",\"5\",\"/\",\"+\"]), \" expected 6\")\n",
    "print(evalRPN([\"10\",\"6\",\"9\",\"3\",\"+\",\"-11\",\"*\",\"/\",\"*\",\"17\",\"+\",\"5\",\"+\"]), \" expected 22\")\n",
    "print(evalRPN([\"2\",\"1\",\"+\",\"3\",\"*\"]), \" expected 9\")"
   ]
  },
  {
   "cell_type": "code",
   "execution_count": null,
   "metadata": {},
   "outputs": [],
   "source": []
  }
 ],
 "metadata": {
  "kernelspec": {
   "display_name": "Python 3",
   "language": "python",
   "name": "python3"
  },
  "language_info": {
   "codemirror_mode": {
    "name": "ipython",
    "version": 3
   },
   "file_extension": ".py",
   "mimetype": "text/x-python",
   "name": "python",
   "nbconvert_exporter": "python",
   "pygments_lexer": "ipython3",
   "version": "3.10.12"
  }
 },
 "nbformat": 4,
 "nbformat_minor": 2
}
