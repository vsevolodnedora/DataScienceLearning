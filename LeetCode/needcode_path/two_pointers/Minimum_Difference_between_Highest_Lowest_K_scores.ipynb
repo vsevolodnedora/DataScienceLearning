{
 "cells": [
  {
   "cell_type": "markdown",
   "metadata": {},
   "source": [
    "# 1984. Minimum Difference Between Highest and Lowest of K Scores\n",
    "\n",
    "[leetcode](https://leetcode.com/problems/minimum-difference-between-highest-and-lowest-of-k-scores/)\n",
    "\n",
    "You are given a 0-indexed integer array nums, where nums[i] represents the score of the ith student. You are also given an integer k.\n",
    "\n",
    "Pick the scores of any k students from the array so that the difference between the highest and the lowest of the k scores is minimized.\n",
    "\n",
    "Return the minimum possible difference.\n",
    "\n",
    "# Reasoning\n",
    "\n",
    "[neetcodevideo](https://www.youtube.com/watch?v=JU5XdBZZtlk&ab_channel=NeetCode)\n",
    "\n",
    "The solution is simple once you `sort` an array and do a `sliding window` of size 'k'.  \n",
    "\n",
    "The key thing to notice is that to we just need left and right bounds of the window of the size k. To assure that other values fall within this window we need to sort the array. \n"
   ]
  },
  {
   "cell_type": "code",
   "execution_count": null,
   "metadata": {},
   "outputs": [],
   "source": [
    "from typing import Optional, List\n",
    "class Solution:\n",
    "    def minimumDifference(self, nums: List[int], k: int) -> int:\n",
    "        nums.sort() # n*log(n) complexity\n",
    "        # two pointer solution\n",
    "        l,r=0,k-1 # non-incusinve, so k-1\n",
    "        res=float(\"inf\")\n",
    "        while r < len(nums):\n",
    "            res = min(res, nums[r]-nums[l])\n",
    "            l,r=l+1,r+1\n",
    "        return res\n"
   ]
  }
 ],
 "metadata": {
  "language_info": {
   "name": "python"
  }
 },
 "nbformat": 4,
 "nbformat_minor": 2
}
