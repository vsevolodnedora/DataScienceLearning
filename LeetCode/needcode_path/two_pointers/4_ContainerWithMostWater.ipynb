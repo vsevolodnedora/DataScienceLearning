{
 "cells": [
  {
   "cell_type": "markdown",
   "metadata": {},
   "source": [
    "# Container with most water\n",
    "\n",
    "You are given an integer array height of length n. There are n vertical lines drawn such that the two endpoints of the ith line are (i, 0) and (i, height[i]).\n",
    "\n",
    "Find two lines that together with the x-axis form a container, such that the container contains the most water.\n",
    "\n",
    "Return the maximum amount of water a container can store.\n",
    "\n",
    "Notice that you may not slant the container.\n",
    "\n",
    "# Reasoning\n",
    "\n",
    "[neetcodewideo](https://www.youtube.com/watch?v=UuiTKBwPgAo)\n",
    "\n",
    "The simplest solution is to take every single combination of lines, and it will be the brute force solution, with time  complexity O(n^2). \n",
    "\n",
    "_Note_: This solution will not even work in leetcode. Time limit. \n",
    "\n",
    "We notice that the highet of a line is the key. We should try to get he highest line, or to prioritize\n",
    "\n",
    "The two pointer solution is based on which pointer to move. The criterion here is to see which hight is the largest, as we prefer to keep it. So we move pointer that corresponds to lower highet. If they are equal, we can check which is next one, and move the one that would become smaller after the move. \n"
   ]
  },
  {
   "cell_type": "code",
   "execution_count": 13,
   "metadata": {},
   "outputs": [
    {
     "name": "stdout",
     "output_type": "stream",
     "text": [
      "49  expected 49\n",
      "24  expected 24\n"
     ]
    }
   ],
   "source": [
    "def maxArea(height: list[int]) -> int:\n",
    "    n = len(height)\n",
    "\n",
    "    # brute force\n",
    "    maxArea = 0\n",
    "    for l in range(n):\n",
    "        for r in range(l+1,n):\n",
    "            area = (r-l)*min(height[r],height[l])\n",
    "            maxArea = area if area > maxArea else maxArea\n",
    "\n",
    "    # return maxArea\n",
    "\n",
    "    # two pointer solution\n",
    "    l,r=0,n-1\n",
    "    maxArea = 0\n",
    "    while l < r:\n",
    "        vol = min(height[l], height[r]) * (r-l)\n",
    "        maxArea = vol if vol > maxArea else maxArea\n",
    "        if (height[l]<height[r]):\n",
    "            l+=1\n",
    "            continue\n",
    "        elif (height[l]>height[r]):\n",
    "            r-=1\n",
    "            continue\n",
    "        else:\n",
    "            l+=1\n",
    "            continue\n",
    "\n",
    "    return maxArea\n",
    "print(maxArea([1,8,6,2,5,4,8,3,7]), \" expected 49\")\n",
    "print(maxArea([1,3,2,5,25,24,5]), \" expected 24\")"
   ]
  },
  {
   "cell_type": "code",
   "execution_count": null,
   "metadata": {},
   "outputs": [],
   "source": []
  }
 ],
 "metadata": {
  "kernelspec": {
   "display_name": "Python 3",
   "language": "python",
   "name": "python3"
  },
  "language_info": {
   "codemirror_mode": {
    "name": "ipython",
    "version": 3
   },
   "file_extension": ".py",
   "mimetype": "text/x-python",
   "name": "python",
   "nbconvert_exporter": "python",
   "pygments_lexer": "ipython3",
   "version": "3.10.12"
  }
 },
 "nbformat": 4,
 "nbformat_minor": 2
}
