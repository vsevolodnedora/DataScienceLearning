{
 "cells": [
  {
   "cell_type": "markdown",
   "metadata": {},
   "source": [
    "# 680. Valid Palindrome II\n",
    "\n",
    "[lwwtcode](https://leetcode.com/problems/valid-palindrome-ii/)\n",
    "\n",
    "Given a string s, return true if the s can be palindrome after deleting at most one character from it.\n",
    "\n",
    "# Reasoning\n",
    "\n",
    "[neetcodevideo](https://www.youtube.com/watch?v=JrxRYBwG6EI&ab_channel=NeetCode)\n",
    "\n",
    "To check if a str is a _palindrom_ compare it element-wise with its _reverse_. \n",
    "\n",
    "Here the solution is to go through the array with two pointers and when pointers disagree, consider two options, remove left , check if palindrome, remove right, check if palindrome. \n",
    "\n"
   ]
  },
  {
   "cell_type": "code",
   "execution_count": 28,
   "metadata": {},
   "outputs": [
    {
     "name": "stdout",
     "output_type": "stream",
     "text": [
      "True Output: true\n",
      "True Output: true\n",
      "False Output: false\n",
      "True Output: true\n",
      "True Output: true\n",
      "True Output: true\n"
     ]
    }
   ],
   "source": [
    "class Solution:\n",
    "    def validPalindrome(self, s: str) -> bool:\n",
    "        l,r=0,len(s)-1\n",
    "        while l<r:\n",
    "            if s[l] != s[r]:\n",
    "                skL,skR=s[l+1:r+1],s[l:r]\n",
    "                return (skL==skL[::-1] or skR==skR[::-1])\n",
    "            l,r=l+1,r-1\n",
    "        return True\n",
    "\n",
    "sol=Solution()\n",
    "print(sol.validPalindrome(s = \"aba\"),\"Output: true\")\n",
    "print(sol.validPalindrome(s = \"abca\"),\"Output: true\")\n",
    "print(sol.validPalindrome(s = \"abc\"),\"Output: false\")\n",
    "print(sol.validPalindrome(s = \"cbbcc\"),\"Output: true\")\n",
    "print(sol.validPalindrome(s = \"ebcbbececabbacecbbcbe\"),\"Output: true\")\n",
    "print(sol.validPalindrome(s = \"aguokepatgbnvfqmgmlcupuufxoohdfpgjdmysgvhmvffcnqxjjxqncffvmhvgsymdjgpfdhooxfuupuculmgmqfvnbgtapekouga\"),\"Output: true\")"
   ]
  },
  {
   "cell_type": "code",
   "execution_count": null,
   "metadata": {},
   "outputs": [],
   "source": []
  }
 ],
 "metadata": {
  "kernelspec": {
   "display_name": "Python 3",
   "language": "python",
   "name": "python3"
  },
  "language_info": {
   "codemirror_mode": {
    "name": "ipython",
    "version": 3
   },
   "file_extension": ".py",
   "mimetype": "text/x-python",
   "name": "python",
   "nbconvert_exporter": "python",
   "pygments_lexer": "ipython3",
   "version": "3.10.12"
  }
 },
 "nbformat": 4,
 "nbformat_minor": 2
}
