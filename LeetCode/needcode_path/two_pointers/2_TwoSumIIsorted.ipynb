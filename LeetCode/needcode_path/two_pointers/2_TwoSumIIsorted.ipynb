{
 "cells": [
  {
   "cell_type": "markdown",
   "metadata": {},
   "source": [
    "# Two sum II - input Array Is Sorted\n",
    "\n",
    "Given a 1-indexed array of integers numbers that is already sorted in non-decreasing order, find two numbers such that they add up to a specific target number. Let these two numbers be numbers[index1] and numbers[index2] where 1 <= index1 < index2 <= numbers.length.\n",
    "\n",
    "Return the indices of the two numbers, index1 and index2, added by one as an integer array [index1, index2] of length 2.\n",
    "\n",
    "The tests are generated such that there is exactly one solution. You may not use the same element twice.\n",
    "\n",
    "Your solution must use only constant extra space.\n",
    "\n",
    "# Reasoning\n",
    "\n",
    "[neetcodevideo](https://www.youtube.com/watch?v=cQ1Oz4ckceM&t=1s)\n",
    "\n",
    "Here note that the array is sorted. This means if we set the index1=0 and go through the array with index2, if at some point nums[i1]+nums[i2] > target, we can stop, as the array _is sorted_. We can than increment index1 and repeat the run. \n",
    "\n",
    "so the flow is to progressively elliminate values from the end of the array, as thir sum with first one would be above 'target'. \n",
    "\n",
    "We can use the fact that array is sorted to knwow __which pointer to move__. \n",
    "- If sum() > target, decrease right.\n",
    "- If sum() < target, increase left\n",
    "\n",
    "This is the linear algorithm"
   ]
  },
  {
   "cell_type": "code",
   "execution_count": 11,
   "metadata": {},
   "outputs": [
    {
     "name": "stdout",
     "output_type": "stream",
     "text": [
      "[1, 2]  expected [1,2]\n",
      "[1, 3]  expected [1,3]\n",
      "[1, 2]  expected [1,2]\n",
      "[2, 3]  expected [1,2]\n"
     ]
    }
   ],
   "source": [
    "def twoSum(numbers: list[int], target: int) -> list[int]:\n",
    "    n = len(numbers)\n",
    "\n",
    "    # Solution O(n^2)\n",
    "    # for i in range(n):\n",
    "    #     for j in range(n):\n",
    "    #         if (numbers[i]+numbers[j]==target):\n",
    "    #             return[i+1,j+1]\n",
    "\n",
    "    # Solution O(n)\n",
    "    l,r = 0, n-1\n",
    "    while l < r:\n",
    "        if (numbers[l] + numbers[r] == target):\n",
    "            return [l+1,r+1]\n",
    "        # \n",
    "        if (numbers[l] + numbers[r] > target):\n",
    "            r -= 1\n",
    "            continue\n",
    "\n",
    "        if ((numbers[l]+numbers[r] < target)):\n",
    "            l += 1\n",
    "            continue\n",
    "\n",
    "        if (l>n-1 or r>n-1):\n",
    "            return [None,None]\n",
    "\n",
    "\n",
    "print(twoSum([2,7,11,15],9),\" expected [1,2]\")\n",
    "print(twoSum([2,3,4],6),\" expected [1,3]\")\n",
    "print(twoSum([-1,0],-1),\" expected [1,2]\")\n",
    "print(twoSum([5,25,75],100),\" expected [2,3]\")"
   ]
  },
  {
   "cell_type": "code",
   "execution_count": null,
   "metadata": {},
   "outputs": [],
   "source": []
  }
 ],
 "metadata": {
  "kernelspec": {
   "display_name": "Python 3",
   "language": "python",
   "name": "python3"
  },
  "language_info": {
   "codemirror_mode": {
    "name": "ipython",
    "version": 3
   },
   "file_extension": ".py",
   "mimetype": "text/x-python",
   "name": "python",
   "nbconvert_exporter": "python",
   "pygments_lexer": "ipython3",
   "version": "3.10.12"
  }
 },
 "nbformat": 4,
 "nbformat_minor": 2
}
