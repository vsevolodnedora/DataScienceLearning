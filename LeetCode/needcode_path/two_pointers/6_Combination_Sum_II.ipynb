{
 "cells": [
  {
   "cell_type": "markdown",
   "metadata": {},
   "source": [
    "# 40. Combination Sum II\n",
    "\n",
    "[leetcode](https://leetcode.com/problems/combination-sum-ii/)\n",
    "\n",
    "Given a collection of candidate numbers (candidates) and a target number (target), find all unique combinations in candidates where the candidate numbers sum to target.\n",
    "\n",
    "Each number in candidates may only be used once in the combination.\n",
    "\n",
    "Note: The solution set must not contain duplicate combinations.\n",
    "\n",
    "# Reasoning \n",
    "\n",
    "[neetcodevideo](https://www.youtube.com/watch?v=rSA3t6BDDwg)\n",
    "\n",
    "The tricky part here is that the solution cannot contain dubplicates.  \n",
    "It is easy to do _all possible combinates_.  \n",
    "Since we need to _create_ all these combinations, the time complexity is going to be O(2^n) . This is the number of combinations for each number eitherincluding it ot not.  \n",
    "\n",
    "__NOTE__: when adding ot not a number we also must check if the sum with the rest exceeds th target sum. If we exceed the target, we do not need to continue building the tree. \n",
    "\n",
    "If we keep building trees without skipping duplicates in the original list, we would end up with duplicaes in the output.  \n",
    "\n",
    "The problem can be made `recursive` if we keep decreasing the target, each time we add the number.  \n",
    "\n",
    "- We use a pointer 'i' to keep rack on what number we are currently including or skipping.  \n",
    "\n",
    "- We also sort the input array so we can skip a sequence of repeated values in a given array.\n",
    "\n",
    "\n",
    "`!` My solution is different from the neetcode. I used th previos problem, Number 5, as a basis.\n"
   ]
  },
  {
   "cell_type": "code",
   "execution_count": 2,
   "metadata": {},
   "outputs": [
    {
     "name": "stdout",
     "output_type": "stream",
     "text": [
      "[[1, 1, 6], [1, 2, 5], [1, 7], [2, 6]] [ [1,1,6], [1,2,5], [1,7], [2,6] ]\n",
      "[[1, 2, 2], [5]] [ [1,2,2], [5] ]\n"
     ]
    }
   ],
   "source": [
    "from typing import List\n",
    "class Solution:\n",
    "    def combinationSum2(self, candidates: List[int], target: int) -> List[List[int]]:\n",
    "        res = []\n",
    "        candidates.sort()\n",
    "        def backtrack(i,sum,subset):\n",
    "            if (sum == target):\n",
    "                res.append(subset[::])\n",
    "            # skip if we exceed the target\n",
    "            if (sum >= target):\n",
    "                return\n",
    "            if i == len(candidates):\n",
    "                # res.append(subset[::])\n",
    "                return\n",
    "            \n",
    "            subset.append(candidates[i])\n",
    "            backtrack(i+1,sum+candidates[i],subset)\n",
    "            subset.pop()\n",
    "            while i+1<len(candidates) and candidates[i]==candidates[i+1]:\n",
    "                i+=1\n",
    "            backtrack(i+1,sum,subset)\n",
    "        backtrack(0,0,[])\n",
    "        return res\n",
    "sol = Solution()\n",
    "print(sol.combinationSum2([10,1,2,7,6,1,5],8),\"[ [1,1,6], [1,2,5], [1,7], [2,6] ]\")\n",
    "print(sol.combinationSum2([2,5,2,1,2],5),\"[ [1,2,2], [5] ]\")\n",
    "            "
   ]
  },
  {
   "cell_type": "code",
   "execution_count": null,
   "metadata": {},
   "outputs": [],
   "source": []
  }
 ],
 "metadata": {
  "kernelspec": {
   "display_name": "Python 3",
   "language": "python",
   "name": "python3"
  },
  "language_info": {
   "codemirror_mode": {
    "name": "ipython",
    "version": 3
   },
   "file_extension": ".py",
   "mimetype": "text/x-python",
   "name": "python",
   "nbconvert_exporter": "python",
   "pygments_lexer": "ipython3",
   "version": "3.10.12"
  }
 },
 "nbformat": 4,
 "nbformat_minor": 2
}
