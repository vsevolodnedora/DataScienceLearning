{
 "cells": [
  {
   "cell_type": "markdown",
   "metadata": {},
   "source": [
    "# Valid Palindrome\n",
    "\n",
    "A phrase is a palindrome if, after converting all uppercase letters into lowercase letters and removing all non-alphanumeric characters, it reads the same forward and backward. Alphanumeric characters include letters and numbers.\n",
    "\n",
    "Given a string s, return true if it is a palindrome, or false otherwise.\n",
    "\n",
    "s consists only of printable ASCII characters.\n",
    "\n",
    "# Reasoning\n",
    "\n",
    "[needcodevideo](https://www.youtube.com/watch?v=jJXJ16kPFWg&t=5s)\n",
    "\n",
    "Alpha numeric cericters are A-Z characters, a-z and 0-9. \n",
    "\n",
    "See two solution \n",
    "- Cheat solution using python inbuild functionality. \n",
    "- Two-Pointer solution which is O(1) in space\n",
    "\n",
    "\n"
   ]
  },
  {
   "cell_type": "code",
   "execution_count": 24,
   "metadata": {},
   "outputs": [
    {
     "name": "stdout",
     "output_type": "stream",
     "text": [
      "True  True\n",
      "False  False\n",
      "True  True\n"
     ]
    }
   ],
   "source": [
    "def isPalindrome(s: str) -> bool:\n",
    "    s = s.lower()\n",
    "    s = ''.join([c for c in s if c.isalnum()]) # TODO usefull!\n",
    "    # for e in [' ',',','.','',';','/',']','[','{','}','(',')','-','_','=',\n",
    "    # '+','!','#','$','%','^','&','*','`','~','<','>','?','\"','|',\"\\'\",\"@\"]:\n",
    "    #     s=s.replace(e,'')\n",
    "    new_s = s[::-1]\n",
    "    for c0, c1 in zip(s, new_s):\n",
    "        if (c0!=c1):\n",
    "            return False\n",
    "    return True\n",
    "\n",
    "print(isPalindrome(\"A man, a plan, a canal: Panama\"),\" True\")\n",
    "print(isPalindrome(\"race a car\"),\" False\")\n",
    "print(isPalindrome(\" \"),\" True\")\n"
   ]
  },
  {
   "cell_type": "markdown",
   "metadata": {},
   "source": [
    "## Solution 2\n",
    "\n",
    "Write a solution with O(1) memory complexity (without compying a string). The way to do this is with `two pointers`:\n"
   ]
  },
  {
   "cell_type": "code",
   "execution_count": 44,
   "metadata": {},
   "outputs": [
    {
     "name": "stdout",
     "output_type": "stream",
     "text": [
      "True  True\n",
      "False  False\n",
      "True  True\n"
     ]
    }
   ],
   "source": [
    "def isPalindrome(s: str) -> bool:\n",
    "    if len(s) == 1:\n",
    "        return True\n",
    "    i1 = 0\n",
    "    i2 = len(s)-1\n",
    "    while (i1 < i2):\n",
    "        if (not s[i1].isalnum()):\n",
    "            i1 += 1\n",
    "            continue\n",
    "        if (not s[i2].isalnum()):\n",
    "            i2 -= 1\n",
    "            continue\n",
    "        if (s[i1].lower() != s[i2].lower()):\n",
    "            return False\n",
    "        else:\n",
    "            i1 += 1\n",
    "            i2 -= 1\n",
    "    return True\n",
    "\n",
    "\n",
    "\n",
    "print(isPalindrome(\"A man, a plan, a canal: Panama\"),\" True\")\n",
    "print(isPalindrome(\"race a car\"),\" False\")\n",
    "print(isPalindrome(\" \"),\" True\")"
   ]
  },
  {
   "cell_type": "code",
   "execution_count": 43,
   "metadata": {},
   "outputs": [],
   "source": [
    "# if isalphaNum cannot be used\n",
    "def isAlnum(c):\n",
    "    if (ord('A') <= ord(c) <= ord('Z') or \n",
    "        ord('a') <= ord(c) <= ord('z') or \n",
    "        ord('0') <= ord(c) <= ord('9')):\n",
    "        return True\n",
    "    else:\n",
    "        return False"
   ]
  },
  {
   "cell_type": "code",
   "execution_count": null,
   "metadata": {},
   "outputs": [],
   "source": []
  }
 ],
 "metadata": {
  "kernelspec": {
   "display_name": "Python 3",
   "language": "python",
   "name": "python3"
  },
  "language_info": {
   "codemirror_mode": {
    "name": "ipython",
    "version": 3
   },
   "file_extension": ".py",
   "mimetype": "text/x-python",
   "name": "python",
   "nbconvert_exporter": "python",
   "pygments_lexer": "ipython3",
   "version": "3.10.12"
  }
 },
 "nbformat": 4,
 "nbformat_minor": 2
}
