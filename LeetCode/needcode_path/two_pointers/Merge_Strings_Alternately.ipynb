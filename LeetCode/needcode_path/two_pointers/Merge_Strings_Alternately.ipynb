{
 "cells": [
  {
   "cell_type": "markdown",
   "metadata": {},
   "source": [
    "# 1768. Merge Strings Alternately\n",
    "\n",
    "[leetcode](https://leetcode.com/problems/merge-strings-alternately/description/)\n",
    "\n",
    "You are given two strings word1 and word2. Merge the strings by adding letters in alternating order, starting with word1. If a string is longer than the other, append the additional letters onto the end of the merged string.\n",
    "\n",
    "Return the merged string.\n",
    "\n",
    "# Reasoning\n",
    "\n",
    "[neetcodevideo](https://www.youtube.com/watch?v=LECWOvTo-Sc)\n",
    "\n",
    "Solved it myself... duh"
   ]
  },
  {
   "cell_type": "code",
   "execution_count": null,
   "metadata": {},
   "outputs": [],
   "source": [
    "class Solution:\n",
    "    def mergeAlternately(self, word1: str, word2: str) -> str:\n",
    "        res = []\n",
    "        n1, n2 = len(word1), len(word2)\n",
    "        i1, i2 = 0,0\n",
    "        while i1 < n1 and i2 < n2:\n",
    "            res.append(word1[i1]); i1+=1\n",
    "            res.append(word2[i2]); i2+=1\n",
    "        while i1 < n1:\n",
    "            res.append(word1[i1])\n",
    "            i1+=1\n",
    "        while i2 < n2:\n",
    "            res.append(word2[i2])\n",
    "            i2+=1\n",
    "        return \"\".join(res)"
   ]
  }
 ],
 "metadata": {
  "language_info": {
   "name": "python"
  }
 },
 "nbformat": 4,
 "nbformat_minor": 2
}
