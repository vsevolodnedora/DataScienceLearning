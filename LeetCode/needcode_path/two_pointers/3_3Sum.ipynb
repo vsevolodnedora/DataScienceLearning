{
 "cells": [
  {
   "cell_type": "markdown",
   "metadata": {},
   "source": [
    "# 3Sum\n",
    "\n",
    "Given an integer array nums, return all the triplets [nums[i], nums[j], nums[k]] such that i != j, i != k, and j != k, and nums[i] + nums[j] + nums[k] == 0.\n",
    "\n",
    "Notice that the solution set must not contain duplicate triplets.\n",
    "\n",
    "# Reasoning\n",
    "\n",
    "[leetcodevideo](https://www.youtube.com/watch?v=jzZsG8n2R9A)\n",
    "\n",
    "The brute force solution is a triple loop to check for all combinations of numbers. This is however prone to takeing duplicates. \n",
    "The solution is to _sort and input array_. \n",
    "\n",
    "It is important to _not take_ the same firt value, as we than repeat the same other two. So, if a _first number_ has been picked up before, we do not repeat it. \n",
    "\n",
    "Also, in a sorted array, if we are in the part where all numbers are positive, we can skip, as they would never sum up to 0. \n",
    "\n",
    "Thus, the problem, after sorting and chosing the first value reduces to _2Sum_ problem, which can be solved with\n",
    "- Hash map \n",
    "- 2 pointers (shifting left, or right if the sum is smaller or larger than the target), keeping track on duplicates. \n",
    "\n",
    "Time complexity: O(n log(n)) + O(n^2) so the overall O(n^2)  \n",
    "Space complexity depends O(1) or O(n) depending on the sorting.  \n",
    "\n",
    "\n",
    "\n"
   ]
  },
  {
   "cell_type": "code",
   "execution_count": 18,
   "metadata": {},
   "outputs": [
    {
     "name": "stdout",
     "output_type": "stream",
     "text": [
      "[[0, 0, 0]] expected [[0,0,0]]\n"
     ]
    }
   ],
   "source": [
    "def threeSum(nums: list[int]) -> list[list[int]]:\n",
    "    # sort the input array\n",
    "    nums.sort()    \n",
    "\n",
    "    n = len(nums)\n",
    "    # def twoSum(nums:list,target:int):\n",
    "    #     l,r=0,n-1\n",
    "    #     while l < r:\n",
    "    #         totsum = nums[l]+nums[r]\n",
    "    #         if (totsum == target and nums[l]!=nums[r] and nums[l]!=target):\n",
    "    #             pass\n",
    "\n",
    "    res = []\n",
    "    for i in range(0, n-1):\n",
    "        # skip repeating the same trail\n",
    "        if (i > 0) and (nums[i] == nums[i-1]):            \n",
    "            continue\n",
    "        l,r=i+1, n-1\n",
    "        target = 0 - nums[i]\n",
    "        while(l<r):\n",
    "            if (nums[l] + nums[r] == target):\n",
    "                #if ((nums[l]!=nums[r])\n",
    "                #    and (nums[l]!=nums[i])):\n",
    "                res.append([nums[i],\n",
    "                                nums[l],\n",
    "                                nums[r]])\n",
    "                l += 1\n",
    "                while nums[l-1] == nums[l] and l < r:\n",
    "                    l+=1\n",
    "            elif (nums[l]+nums[r] < target):\n",
    "                l+=1\n",
    "                continue\n",
    "            elif (nums[l]+nums[r] > target):\n",
    "                r-=1\n",
    "                continue\n",
    "            else:\n",
    "                print(\"Error\")\n",
    "    return res  \n",
    "#print(threeSum([-1,0,1,2,-1,-4]), \"expected [[-1,-1,2],[-1,0,1]]\")  \n",
    "#print(threeSum([0,1,1]), \"expected []\")  \n",
    "#print(threeSum([0,0,0]), \"expected [[0,0,0]]\")    \n",
    "print(threeSum([0,0,0,0]), \"expected [[0,0,0]]\")   \n",
    "    "
   ]
  },
  {
   "cell_type": "code",
   "execution_count": null,
   "metadata": {},
   "outputs": [],
   "source": []
  }
 ],
 "metadata": {
  "kernelspec": {
   "display_name": "Python 3",
   "language": "python",
   "name": "python3"
  },
  "language_info": {
   "codemirror_mode": {
    "name": "ipython",
    "version": 3
   },
   "file_extension": ".py",
   "mimetype": "text/x-python",
   "name": "python",
   "nbconvert_exporter": "python",
   "pygments_lexer": "ipython3",
   "version": "3.10.12"
  }
 },
 "nbformat": 4,
 "nbformat_minor": 2
}
