{
 "cells": [
  {
   "cell_type": "markdown",
   "metadata": {},
   "source": [
    "# Trapping Rain Water\n",
    "\n",
    "Given n non-negative integers representing an elevation map where the width of each bar is 1, compute how much water it can trap after raining.\n",
    "\n",
    "# Reasoning\n",
    "\n",
    "Consider the left and right boundary for each poisition of the array. The amount of water trapped is given by the left and right boundaries. SPecifically, by the minimum of that hight.  \n",
    "\n",
    "Specifically, the amount of water trapped is \n",
    "$$\n",
    "min(L,R) - h[i] \\geq 0\n",
    "$$\n",
    "\n",
    "_Note_. This would give a negative number if hights of L or R are smaller than the hight at _this_ index. This imples, the water is not trapped.  \n",
    "\n",
    "So the solution is to go through each position and caculate how much water (if > 0) it can trap based on the nearest boundaries and its own hight. \n",
    "This soulution will be O(n) time complexity. \n",
    "\n",
    "The first solution also requires O(n) space, and it is done by filling the table for each of the input data:\n",
    "- maxLeft\n",
    "- maxRight\n",
    "- min(L,R)\n",
    "\n",
    "Arrays. \n",
    "\n",
    "__Algorithm__:  \n",
    "1. Go through the array, calculating maxLeft. \n",
    "2. Go again and compute maxRight\n",
    "3. Go again and compue min(L,R)-h[i] = volume\n",
    "4. Summ up volumes\n",
    "\n",
    "Another solution, using O(1) memory is using 2 pointers, at the beginning and at the end. \n",
    "And we use maxL and maxR values (hights) that keep track on max on the left and max on the right so far.  \n",
    "In shifting pointers we prioritize the one with smaller value. \n",
    "\n",
    "We also recall that we cannot store any water on left and right sides, as they do not have the other boundary. \n",
    "\n",
    "Here threre is a _trick_. If maxL is 0 at the beginning, we do not need maxR at this point as we ned _min_ only. \n"
   ]
  },
  {
   "cell_type": "code",
   "execution_count": 11,
   "metadata": {},
   "outputs": [
    {
     "name": "stdout",
     "output_type": "stream",
     "text": [
      "6 expexted 6\n",
      "9 expexted 9\n"
     ]
    }
   ],
   "source": [
    "def trap(height: list[int]) -> int:\n",
    "    n = len(height)\n",
    "    l,r=0,n-1\n",
    "    mL,mR=height[l],height[r]\n",
    "    water = 0\n",
    "    while l < r:\n",
    "        if (height[l] <= height[r]):\n",
    "            l+=1\n",
    "            mL = max(mL,height[l])\n",
    "            # water += max( 0, min(mL, mR) - height[l] ) # MY\n",
    "            water += mL - height[l] # NeetCode\n",
    "            continue\n",
    "        else:# (height[l]>height[r]):\n",
    "            r-=1\n",
    "            mR = max(mR, height[r])\n",
    "            # water += max( 0, min(mL, mR) - height[r] )\n",
    "            water += mR - height[r]\n",
    "            continue\n",
    "    return water\n",
    "        \n",
    "print(trap([0,1,0,2,1,0,1,3,2,1,2,1]), \"expexted 6\")\n",
    "print(trap([4,2,0,3,2,5]), \"expexted 9\")"
   ]
  },
  {
   "cell_type": "code",
   "execution_count": null,
   "metadata": {},
   "outputs": [],
   "source": []
  }
 ],
 "metadata": {
  "kernelspec": {
   "display_name": "Python 3",
   "language": "python",
   "name": "python3"
  },
  "language_info": {
   "codemirror_mode": {
    "name": "ipython",
    "version": 3
   },
   "file_extension": ".py",
   "mimetype": "text/x-python",
   "name": "python",
   "nbconvert_exporter": "python",
   "pygments_lexer": "ipython3",
   "version": "3.10.12"
  }
 },
 "nbformat": 4,
 "nbformat_minor": 2
}
