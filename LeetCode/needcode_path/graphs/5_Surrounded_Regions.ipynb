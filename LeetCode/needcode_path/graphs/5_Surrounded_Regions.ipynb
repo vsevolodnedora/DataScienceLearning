{
 "cells": [
  {
   "cell_type": "markdown",
   "metadata": {},
   "source": [
    "# 130. Surrounded Regions\n",
    "\n",
    "[leetcode](https://leetcode.com/problems/surrounded-regions/description/)\n",
    "\n",
    "Given an m x n matrix board containing 'X' and 'O', capture all regions that are 4-directionally surrounded by 'X'.\n",
    "\n",
    "A region is captured by flipping all 'O's into 'X's in that surrounded region.\n",
    "\n",
    "# Reasoning\n",
    "\n",
    "[neetcodevideo](https://www.youtube.com/watch?v=9z2BunfoZ5Y&t=1s)\n",
    "\n",
    "We need to find regions (islands) that are 4-direction surounded by 'x' (boundary does not count), so if the 'o' is on the border, we do not count it. \n",
    "\n",
    "A possible solution is to run a DFS or BFS, but it is complicated.  \n",
    "\n",
    "Another possible solution is to consider a _reverse problem_. \n",
    "\n",
    "We need to capture _the surrounded regions only_. The opposite is capturing _everything_ __except__ surrounded regions. This qutomatically includes all bourder connecting regions.  \n",
    "\n",
    "Scan through every border cell and find a region and count it as a non-surround region and run a DFS on it to get the enire regions that we do not need. Temporary mark it with a different character. Then do a double nested loop and every time we see an \"O\" we change it into \"X\" while new marker, e.g., \"T\" markes the region that we _do not need to change_. \n",
    "\n",
    "_Overall_ instead of looking for surround regions inside the board, we will look for _non surrounded regions_ that connect to the boundary of the board. Mark these regions with a different value so we do not touch them later, and then go through the enire board and flip \"O\"->\"X\". This is a simpler solution with time complexity O(n*m)\n"
   ]
  },
  {
   "cell_type": "code",
   "execution_count": null,
   "metadata": {},
   "outputs": [],
   "source": [
    "from typing import List\n",
    "class Solution:\n",
    "    def solve(self, board: List[List[str]]) -> None:\n",
    "        \"\"\"\n",
    "        Do not return anything, modify board in-place instead.\n",
    "        \"\"\"\n",
    "        # get dimensions\n",
    "        rows,cols=len(board),len(board[0])\n",
    "        # Phase 1 (capture not-surrounded regions O->T) and convert temporary values via DFS\n",
    "        def capture(r,c):\n",
    "            # main base case\n",
    "            if (r<0 or c <0 or r==rows or c == cols or board[r][c] != \"O\"):\n",
    "                return\n",
    "            # change value \n",
    "            board[r][c] = \"T\"\n",
    "            # run caputre on the directions\n",
    "            directions = ((r+1,c),(r,c+1),(r-1,c),(r,c-1))\n",
    "            for direction in directions:\n",
    "                capture(direction[0],direction[1])\n",
    "        # do the double nested on the entire grid (even though we only need borders)\n",
    "        for r in range(rows):\n",
    "            for c in range(cols):\n",
    "                if board[r][c] == \"O\" and \\\n",
    "                    (r == 0 or c == 0 or r == rows-1 or c==cols-1):\n",
    "                    # capture region (capture all unsurrounded regions)\n",
    "                    capture(r,c)\n",
    "        # Phase 2 (capture surrounded regions O->X)\n",
    "        for r in range(rows):\n",
    "            for c in range(cols):\n",
    "                # All that remaind as \"O\" after the O->T for not-surrounded regions\n",
    "                if board[r][c] == \"O\":\n",
    "                    board[r][c] = \"X\"\n",
    "        # Phase 3 (uncapture not-surrounded regions T->O)\n",
    "        for r in range(rows):\n",
    "            for c in range(cols):\n",
    "                if board[r][c] == \"T\":\n",
    "                    board[r][c] = \"O\"\n",
    "        \n",
    "\n",
    "\n",
    "        "
   ]
  }
 ],
 "metadata": {
  "language_info": {
   "name": "python"
  }
 },
 "nbformat": 4,
 "nbformat_minor": 2
}
