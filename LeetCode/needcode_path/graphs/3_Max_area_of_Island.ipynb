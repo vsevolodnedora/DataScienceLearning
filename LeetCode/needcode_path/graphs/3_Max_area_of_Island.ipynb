{
 "cells": [
  {
   "cell_type": "markdown",
   "metadata": {},
   "source": [
    "# 695. Max Area of Island\n",
    "\n",
    "You are given an m x n binary matrix grid. An island is a group of 1's (representing land) connected 4-directionally (horizontal or vertical.) You may assume all four edges of the grid are surrounded by water.\n",
    "\n",
    "The area of an island is the number of cells with a value 1 in the island.\n",
    "\n",
    "Return the maximum area of an island in grid. If there is no island, return 0.\n",
    "\n",
    "# Reasoning\n",
    "\n",
    "[neetcodevideo](https://www.youtube.com/watch?v=iJGr1OtmH0c&t=2s)\n",
    "\n",
    "Solved myself copying code from the \"Numer of Islands\" problem. "
   ]
  },
  {
   "cell_type": "code",
   "execution_count": null,
   "metadata": {},
   "outputs": [],
   "source": [
    "from typing import List\n",
    "from collections import deque\n",
    "class Solution:\n",
    "    def maxAreaOfIsland(self, grid: List[List[int]]) -> int:\n",
    "        # check edge case\n",
    "        if not grid: return 0\n",
    "        # define dimensions\n",
    "        rows, cols = len(grid),len(grid[0])\n",
    "        max_size = [0]\n",
    "        # keep track on what islands we wisited\n",
    "        visited = set()\n",
    "        # define an iterative BFS\n",
    "        def bfs(r,c):\n",
    "            \"\"\" iteratively go through neighbours of [r,c], untill no connection \"\"\"\n",
    "            q = deque()\n",
    "            visited.add((r,c))\n",
    "            q.append((r,c))\n",
    "            size = 1\n",
    "            while q:\n",
    "                # expand area\n",
    "                r,c = q.popleft()\n",
    "                directions = ((1,0),(-1,0),(0,1),(0,-1))\n",
    "                for dr,dc in directions:\n",
    "                    r_,c_ = r+dr,c+dc\n",
    "                    # check if new position is bound\n",
    "                    if r_ in range(rows) and c_ in range(cols) and \\\n",
    "                        grid[r_][c_] == 1 and not (r_,c_) in visited:\n",
    "                        # append the point to the island\n",
    "                        q.append((r_,c_))\n",
    "                        visited.add((r_,c_))\n",
    "                        size+=1\n",
    "            # check if it is a bigger area\n",
    "            max_size[0] = max(max_size[0],size)\n",
    "        # go through every point in the island, collecting areas\n",
    "        for r in range(rows):\n",
    "            for c in range(cols):\n",
    "                # check if it is not previosly checked\n",
    "                if grid[r][c] == 1 and not (r,c) in visited:\n",
    "                    bfs(r,c)\n",
    "        return max_size[0]\n",
    "\n",
    "\n",
    "sol = Solution()\n",
    "print(sol.maxAreaOfIsland(\n",
    "    grid = [[0,0,1,0,0,0,0,1,0,0,0,0,0],[0,0,0,0,0,0,0,1,1,1,0,0,0],[0,1,1,0,1,0,0,0,0,0,0,0,0],[0,1,0,0,1,1,0,0,1,0,1,0,0],[0,1,0,0,1,1,0,0,1,1,1,0,0],[0,0,0,0,0,0,0,0,0,0,1,0,0],[0,0,0,0,0,0,0,1,1,1,0,0,0],[0,0,0,0,0,0,0,1,1,0,0,0,0]]\n",
    "), \"Output: 6\")\n",
    "print(sol.maxAreaOfIsland(grid = [[0,0,0,0,0,0,0,0]]),\"Output: 0\")\n"
   ]
  },
  {
   "cell_type": "code",
   "execution_count": null,
   "metadata": {},
   "outputs": [],
   "source": []
  }
 ],
 "metadata": {
  "language_info": {
   "name": "python"
  }
 },
 "nbformat": 4,
 "nbformat_minor": 2
}
