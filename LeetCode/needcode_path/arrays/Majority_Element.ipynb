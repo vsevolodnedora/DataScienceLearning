{
 "cells": [
  {
   "cell_type": "markdown",
   "metadata": {},
   "source": [
    "# 169. Majority Element\n",
    "\n",
    "Given an array nums of size n, return the majority element.\n",
    "\n",
    "The majority element is the element that appears more than ⌊n / 2⌋ times. You may assume that the majority element always exists in the array.\n",
    "\n",
    "Follow-up: Could you solve the problem in linear time and in O(1) space?\n",
    "\n",
    "# Reasoling\n",
    "\n",
    "[neetcodevideo](https://www.youtube.com/watch?v=7pnhv842keE)\n",
    "\n",
    "Solving this problem with O(n) memory is trivial with `hashmap` to keep track on element occurances.\n",
    "\n",
    "To solve it in O(1) memory is more complex. Here we need to look for an element that appears [n/2] times. \n",
    "\n",
    "This is an academic `Boyer Moore algorithm`.  \n",
    "\n",
    "SInce we are guaranteed that there will be a majority element is essecial.  \n",
    "\n",
    "We keep track on one element we we examine. \n",
    "- If we find the same leement, increment count\n",
    "- If we find another element, decrement the cound. \n",
    "- Once the count is 0, take a new element. \n",
    "- Repeat"
   ]
  },
  {
   "cell_type": "code",
   "execution_count": 4,
   "metadata": {},
   "outputs": [
    {
     "name": "stdout",
     "output_type": "stream",
     "text": [
      "3 Output: 3\n",
      "2 Output: 2\n"
     ]
    }
   ],
   "source": [
    "def majorityElement(nums: list[int]) -> int:\n",
    "    count = 0\n",
    "    val = 0\n",
    "    for i, v in enumerate(nums):\n",
    "        if( i == 0 or count == 0 ):\n",
    "            val = v\n",
    "        count += (1 if val == v else -1) # ternanry operator\n",
    "    return val\n",
    "\n",
    "print( majorityElement( [3,2,3]), \"Output: 3\") \n",
    "print( majorityElement( [2,2,1,1,1,2,2]), \"Output: 2\") "
   ]
  },
  {
   "cell_type": "code",
   "execution_count": null,
   "metadata": {},
   "outputs": [],
   "source": []
  }
 ],
 "metadata": {
  "kernelspec": {
   "display_name": "Python 3",
   "language": "python",
   "name": "python3"
  },
  "language_info": {
   "codemirror_mode": {
    "name": "ipython",
    "version": 3
   },
   "file_extension": ".py",
   "mimetype": "text/x-python",
   "name": "python",
   "nbconvert_exporter": "python",
   "pygments_lexer": "ipython3",
   "version": "3.10.12"
  }
 },
 "nbformat": 4,
 "nbformat_minor": 2
}
