{
 "cells": [
  {
   "cell_type": "markdown",
   "metadata": {},
   "source": [
    "# 724. Find Pivot Index\n",
    "\n",
    "Given an array of integers nums, calculate the pivot index of this array.\n",
    "\n",
    "The pivot index is the index where the sum of all the numbers strictly to the left of the index is equal to the sum of all the numbers strictly to the index's right.\n",
    "\n",
    "If the index is on the left edge of the array, then the left sum is 0 because there are no elements to the left. This also applies to the right edge of the array.\n",
    "\n",
    "Return the leftmost pivot index. If no such index exists, return -1\n",
    "\n",
    "# Reasoning\n",
    "\n",
    "[neetcodevideo](https://www.youtube.com/watch?v=u89i60lYx8U)\n",
    "\n",
    "\n"
   ]
  },
  {
   "cell_type": "code",
   "execution_count": 11,
   "metadata": {},
   "outputs": [
    {
     "name": "stdout",
     "output_type": "stream",
     "text": [
      "3 Output: 3\n",
      "-1 Output: -1\n",
      "0 Output: 0\n",
      "-1 Output: -1\n"
     ]
    }
   ],
   "source": [
    "def pivotIndex(nums: list[int]) -> int:\n",
    "    res = -1\n",
    "    n = len(nums)\n",
    "    # compute total sum\n",
    "    total_sum = 0\n",
    "    for v in nums:\n",
    "        total_sum += v\n",
    "    \n",
    "    lsum = 0\n",
    "    rsum = total_sum\n",
    "\n",
    "    for i, v in enumerate(nums):\n",
    "        lsum += v\n",
    "        if (lsum == rsum):\n",
    "            return i\n",
    "        rsum -= v\n",
    "\n",
    "    return res\n",
    "\n",
    "print(pivotIndex(nums = [1,7,3,6,5,6]), \"Output: 3\")\n",
    "print(pivotIndex(nums = [1,2,3]), \"Output: -1\")\n",
    "print(pivotIndex(nums = [2,1,-1]), \"Output: 0\")\n",
    "print(pivotIndex(nums = [-1,-1,-1,1,1,1]), \"Output: -1\")"
   ]
  },
  {
   "cell_type": "code",
   "execution_count": null,
   "metadata": {},
   "outputs": [],
   "source": []
  }
 ],
 "metadata": {
  "kernelspec": {
   "display_name": "base",
   "language": "python",
   "name": "python3"
  },
  "language_info": {
   "codemirror_mode": {
    "name": "ipython",
    "version": 3
   },
   "file_extension": ".py",
   "mimetype": "text/x-python",
   "name": "python",
   "nbconvert_exporter": "python",
   "pygments_lexer": "ipython3",
   "version": "3.10.9"
  }
 },
 "nbformat": 4,
 "nbformat_minor": 2
}
