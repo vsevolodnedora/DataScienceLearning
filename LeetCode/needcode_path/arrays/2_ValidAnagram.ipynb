{
 "cells": [
  {
   "cell_type": "markdown",
   "metadata": {},
   "source": [
    "# Task\n",
    "\n",
    "Given two strings s and t, return true if t is an anagram of s, and false otherwise.  \n",
    "\n",
    "An Anagram is a word or phrase formed by rearranging the letters of a different word or phrase, typically using all the original letters exactly once.\n",
    "\n",
    " \n",
    "\n",
    "### Example 1:\n",
    "\n",
    "Input: s = \"anagram\", t = \"nagaram\"  \n",
    "Output: true\n",
    "\n",
    "### Example 2:\n",
    "\n",
    "Input: s = \"rat\", t = \"car\"  \n",
    "Output: false\n",
    " \n",
    "\n",
    "### Constraints:\n",
    "\n",
    "1 <= s.length, t.length <= 5 * 104\n",
    "s and t consist of lowercase English letters."
   ]
  },
  {
   "cell_type": "markdown",
   "metadata": {},
   "source": [
    "# Reasoning \n",
    "[Video](https://www.youtube.com/watch?v=9UtInBqnCgA)\n",
    "\n",
    "Anagram is a str that uses __all__ characters from the original string. So, go thruough the original string and count all characters present there, and check if the anagram has same number of same characters.  \n",
    "\n",
    "First solution is to _count characters in both string_ using hash map. Use two hash maps, $S$ and $T$ (one per string). Key is a character, and value is the number of this character usage. Then, iterate through the keys of one and check that is coincides with the second. \n",
    "\n",
    "Since we traversing all elements only once, the time complexity is $O(S+T)$. Space complexity is the same. "
   ]
  },
  {
   "cell_type": "code",
   "execution_count": 2,
   "metadata": {},
   "outputs": [],
   "source": [
    "def isAnagram(s: str, t: str) -> bool:\n",
    "    hash_s, hash_t = {}, {}\n",
    "    # populate hash maps\n",
    "    for c in s:\n",
    "        if not c in hash_s.keys():\n",
    "            hash_s[c]=1\n",
    "        else:\n",
    "            hash_s[c]+=1\n",
    "    for c in t:\n",
    "        if not c in hash_t.keys():\n",
    "            hash_t[c]=1\n",
    "        else:\n",
    "            hash_t[c]+=1\n",
    "    if (len(hash_s.keys())!=len(hash_t.keys())):\n",
    "        return False\n",
    "    for c in hash_t.keys():\n",
    "        if c not in hash_s.keys():\n",
    "            return False\n",
    "        if hash_t[c] != hash_s[c]:\n",
    "            return False\n",
    "    return True"
   ]
  },
  {
   "cell_type": "markdown",
   "metadata": {},
   "source": [
    "Second solution without using extra memory (O(1)) memory?\n",
    "\n",
    "The solution is to first sort the characters in the string. Then, if they ara _anagrams_ the sorted strings would be exactly the same. \n",
    "\n",
    "Sorting has a various time complexities. O(nlogn). Memory is also can be either O(1) or (O(n)) depending on the sorting algorith,"
   ]
  },
  {
   "cell_type": "code",
   "execution_count": 3,
   "metadata": {},
   "outputs": [],
   "source": [
    "def isAnagram(s: str, t: str) -> bool:\n",
    "    s_sorted = sorted(s)\n",
    "    t_sorted = sorted(t)\n",
    "    return s_sorted == t_sorted    "
   ]
  },
  {
   "cell_type": "markdown",
   "metadata": {},
   "source": []
  },
  {
   "cell_type": "markdown",
   "metadata": {},
   "source": []
  }
 ],
 "metadata": {
  "kernelspec": {
   "display_name": "Python 3",
   "language": "python",
   "name": "python3"
  },
  "language_info": {
   "codemirror_mode": {
    "name": "ipython",
    "version": 3
   },
   "file_extension": ".py",
   "mimetype": "text/x-python",
   "name": "python",
   "nbconvert_exporter": "python",
   "pygments_lexer": "ipython3",
   "version": "3.10.12"
  }
 },
 "nbformat": 4,
 "nbformat_minor": 2
}
