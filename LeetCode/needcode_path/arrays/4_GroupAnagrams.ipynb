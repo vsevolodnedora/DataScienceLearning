{
 "cells": [
  {
   "cell_type": "markdown",
   "metadata": {},
   "source": [
    "# Group Anagrams\n",
    "\n",
    "Given an array of strings strs, group the anagrams together. You can return the answer in any order.\n",
    "\n",
    "An Anagram is a word or phrase formed by rearranging the letters of a different word or phrase, typically using all the original letters exactly once.\n",
    "\n",
    "# Reasoning\n",
    "\n",
    "The way how to see if two strings are anagrams is to _sort them_.  \n",
    "However, if we do it for every string, the time complexity of the code is O(nlog(n) * m), where m is the number of input strings.  \n",
    "\n",
    "A better way comes when we look at the constraints. \n",
    "- strs[i] consists of lowercase English letters.\n",
    "\n",
    "So we can exploit it. \n",
    "\n",
    "We can create an array $count$ that for each string collects the number of unique characters from a to z. \n",
    "\n",
    "So we can use a _hash map_ to collect the number of unique characters in each string. The _Key is this array of counts_. And the value is the list of anagrams with these counts. \n",
    "The total time complexity of this method is O(M * n), where n is the average length of the string. \n",
    "\n",
    "This is optimal m * n solution"
   ]
  },
  {
   "cell_type": "code",
   "execution_count": 17,
   "metadata": {},
   "outputs": [
    {
     "name": "stdout",
     "output_type": "stream",
     "text": [
      "dict_values([['eat', 'tea', 'ate'], ['tan', 'nat'], ['bat']])\n"
     ]
    }
   ],
   "source": [
    "def groupAnagrams(strs: list[str]) -> list[list[str]]:\n",
    "    hashmap = {} # character count : list of strings/anagrams\n",
    "    for i, istr in enumerate(strs):\n",
    "        count = [0]*26 # a ... z\n",
    "        for c in istr:\n",
    "            # get the index of a letter in the array of letters is \n",
    "            # ord() returns askii number\n",
    "            count[ord(c)-ord(\"a\")] += 1 # counting characters\n",
    "        # NOTE lists cannot be keys, so it must be an immutable\n",
    "        if not (tuple(count) in hashmap):\n",
    "            hashmap[tuple(count)] = []\n",
    "        hashmap[tuple(count)].append(istr)\n",
    "    return hashmap.values()\n",
    "print(groupAnagrams([\"eat\",\"tea\",\"tan\",\"ate\",\"nat\",\"bat\"]))\n"
   ]
  },
  {
   "cell_type": "code",
   "execution_count": null,
   "metadata": {},
   "outputs": [],
   "source": []
  }
 ],
 "metadata": {
  "kernelspec": {
   "display_name": "Python 3",
   "language": "python",
   "name": "python3"
  },
  "language_info": {
   "codemirror_mode": {
    "name": "ipython",
    "version": 3
   },
   "file_extension": ".py",
   "mimetype": "text/x-python",
   "name": "python",
   "nbconvert_exporter": "python",
   "pygments_lexer": "ipython3",
   "version": "3.10.12"
  }
 },
 "nbformat": 4,
 "nbformat_minor": 2
}
