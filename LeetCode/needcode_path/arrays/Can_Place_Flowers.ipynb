{
 "cells": [
  {
   "cell_type": "markdown",
   "metadata": {},
   "source": [
    "# 605. Can Place Flowers\n",
    "\n",
    "[leetcode](https://leetcode.com/problems/can-place-flowers/)\n",
    "\n",
    "You have a long flowerbed in which some of the plots are planted, and some are not. However, flowers cannot be planted in adjacent plots.\n",
    "\n",
    "Given an integer array flowerbed containing 0's and 1's, where 0 means empty and 1 means not empty, and an integer n, return true if n new flowers can be planted in the flowerbed without violating the no-adjacent-flowers rule and false otherwise.\n",
    "\n",
    "[neetcodevideo]()\n",
    "\n",
    "# Reasoning\n",
    "\n",
    "I found it is usefull to pad the original array so that we avoid _annoying_ edge cases... "
   ]
  },
  {
   "cell_type": "code",
   "execution_count": null,
   "metadata": {},
   "outputs": [],
   "source": [
    "class Solution:\n",
    "    def canPlaceFlowers(self, flowerbed: List[int], n: int) -> bool:\n",
    "        if n == 0:\n",
    "            return True\n",
    "        # pad the original array to include boundaries\n",
    "        flowerbed = [0] + flowerbed + [0]\n",
    "        for i in range(1, len(flowerbed)-1): \n",
    "            p0 = flowerbed[i-1]\n",
    "            p  = flowerbed[i]\n",
    "            p1 = flowerbed[i+1]\n",
    "            if (p0+p+p1 == 0):\n",
    "                n-=1\n",
    "                flowerbed[i] = 1\n",
    "            if n == 0: return True\n",
    "        return False\n"
   ]
  },
  {
   "cell_type": "code",
   "execution_count": null,
   "metadata": {},
   "outputs": [],
   "source": []
  }
 ],
 "metadata": {
  "language_info": {
   "name": "python"
  }
 },
 "nbformat": 4,
 "nbformat_minor": 2
}
