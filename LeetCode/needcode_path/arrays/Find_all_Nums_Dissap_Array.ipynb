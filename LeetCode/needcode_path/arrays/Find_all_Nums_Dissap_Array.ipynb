{
 "cells": [
  {
   "cell_type": "markdown",
   "metadata": {},
   "source": [
    "448. Find All Numbers Disappeared in an Array\n",
    "\n",
    "Given an array nums of n integers where nums[i] is in the range [1, n], return an array of all the integers in the range [1, n] that do not appear in nums.\n",
    "\n",
    "\n",
    "Follow up: Could you do it without extra space and in O(n) runtime? You may assume the returned list does not count as extra space.\n",
    "\n",
    "# Reasoning \n",
    "\n",
    "[neetcodevideo](https://www.youtube.com/watch?v=8i-f24YFWC4)\n",
    "\n",
    "The easy way is to get the  list of expected vlaues first, and then check if an element of the 'nums' exists in this array. \n",
    "\n",
    "__NOTE__: this data structure _cannot be a list_. We _cannot_ remove an element from the list in O(1) time. So we must use a `hash set`. \n",
    "\n",
    "To solve this problem withot needing extra specace is to use _the input array_ for output. \n",
    "This make use of the fact that there is 1-1 mapping between range [1, n] that we need to assert and index of an element [0, n-1]\n",
    "\n",
    "__NOTE__: here we also make use of the fact that all _values are positive_!"
   ]
  },
  {
   "cell_type": "code",
   "execution_count": 2,
   "metadata": {},
   "outputs": [
    {
     "name": "stdout",
     "output_type": "stream",
     "text": [
      "{5, 6} Output [5,6]\n",
      "{2}  Output [2]\n"
     ]
    }
   ],
   "source": [
    "def findDisappearedNumbers(nums: list[int]) -> list[int]:\n",
    "\n",
    "    all_vals = set( range(1, len(nums)+1) ) # Use hash set\n",
    "    for i, v in enumerate(nums):\n",
    "        if v in all_vals:\n",
    "            all_vals.remove(v)\n",
    "    return all_vals\n",
    "\n",
    "print(findDisappearedNumbers( [4,3,2,7,8,2,3,1]), \"Output [5,6]\")\n",
    "print(findDisappearedNumbers([1,1]), \" Output [2]\")"
   ]
  },
  {
   "cell_type": "code",
   "execution_count": 11,
   "metadata": {},
   "outputs": [
    {
     "name": "stdout",
     "output_type": "stream",
     "text": [
      "[5, 6] Output [5,6]\n",
      "[2]  Output [2]\n"
     ]
    }
   ],
   "source": [
    "def findDisappearedNumbers(nums: list[int]) -> list[int]:\n",
    "    # mark the existing/dissapeared values using indexes as hashmap\n",
    "    for i, v in enumerate(nums):\n",
    "        i = abs(v) - 1\n",
    "        nums[i] = -abs(nums[i])\n",
    "    # collect dissapeared values (that remain unchanged)\n",
    "    res = []\n",
    "    for i, v in enumerate(nums):\n",
    "        if (v > 0):\n",
    "            res.append(i + 1)\n",
    "    return res\n",
    "\n",
    "print(findDisappearedNumbers( [4,3,2,7,8,2,3,1]), \"Output [5,6]\")\n",
    "print(findDisappearedNumbers([1,1]), \" Output [2]\")"
   ]
  },
  {
   "cell_type": "code",
   "execution_count": null,
   "metadata": {},
   "outputs": [],
   "source": []
  }
 ],
 "metadata": {
  "kernelspec": {
   "display_name": "base",
   "language": "python",
   "name": "python3"
  },
  "language_info": {
   "codemirror_mode": {
    "name": "ipython",
    "version": 3
   },
   "file_extension": ".py",
   "mimetype": "text/x-python",
   "name": "python",
   "nbconvert_exporter": "python",
   "pygments_lexer": "ipython3",
   "version": "3.10.12"
  }
 },
 "nbformat": 4,
 "nbformat_minor": 2
}
