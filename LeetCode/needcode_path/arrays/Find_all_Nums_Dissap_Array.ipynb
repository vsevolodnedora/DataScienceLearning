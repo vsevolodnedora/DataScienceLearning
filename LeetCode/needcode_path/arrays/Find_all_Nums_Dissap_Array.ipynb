{
 "cells": [
  {
   "cell_type": "markdown",
   "metadata": {},
   "source": [
    "448. Find All Numbers Disappeared in an Array\n",
    "\n",
    "Given an array nums of n integers where nums[i] is in the range [1, n], return an array of all the integers in the range [1, n] that do not appear in nums.\n",
    "\n",
    "\n",
    "Follow up: Could you do it without extra space and in O(n) runtime? You may assume the returned list does not count as extra space.\n",
    "\n",
    "# Reasoning \n",
    "\n",
    "[neetcodevideo](https://www.youtube.com/watch?v=8i-f24YFWC4)\n",
    "\n"
   ]
  },
  {
   "cell_type": "code",
   "execution_count": 7,
   "metadata": {},
   "outputs": [
    {
     "name": "stdout",
     "output_type": "stream",
     "text": [
      "[5, 6] Output [5,6]\n",
      "[2]  Output [2]\n"
     ]
    }
   ],
   "source": [
    "def findDisappearedNumbers(nums: list[int]) -> list[int]:\n",
    "\n",
    "    all_vals = list(range(1, len(nums)+1))\n",
    "\n",
    "    for i, v in enumerate(nums):\n",
    "        if v in all_vals:\n",
    "            all_vals.remove(v)\n",
    "    return all_vals\n",
    "\n",
    "print(findDisappearedNumbers( [4,3,2,7,8,2,3,1]), \"Output [5,6]\")\n",
    "print(findDisappearedNumbers([1,1]), \" Output [2]\")"
   ]
  },
  {
   "cell_type": "code",
   "execution_count": null,
   "metadata": {},
   "outputs": [],
   "source": []
  }
 ],
 "metadata": {
  "kernelspec": {
   "display_name": "base",
   "language": "python",
   "name": "python3"
  },
  "language_info": {
   "name": "python",
   "version": "3.10.9"
  }
 },
 "nbformat": 4,
 "nbformat_minor": 2
}
