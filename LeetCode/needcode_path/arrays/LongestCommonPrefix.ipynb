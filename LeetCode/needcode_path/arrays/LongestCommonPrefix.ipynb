{
 "cells": [
  {
   "cell_type": "markdown",
   "metadata": {},
   "source": [
    "14. Longest Common Prefix\n",
    "\n",
    "Write a function to find the longest common prefix string amongst an array of strings.\n",
    "\n",
    "If there is no common prefix, return an empty string \"\".\n",
    "\n"
   ]
  },
  {
   "cell_type": "code",
   "execution_count": 11,
   "metadata": {},
   "outputs": [
    {
     "name": "stdout",
     "output_type": "stream",
     "text": [
      "fl  expectred 'fl'\n",
      "  expectred ''\n",
      "a  expectred 'a'\n",
      "  expectred ''\n",
      "a  expectred ''\n"
     ]
    }
   ],
   "source": [
    "def longestCommonPrefix(strs: list[str]) -> str:\n",
    "    min_st = 500\n",
    "    min_word = \"\"\n",
    "    \n",
    "    for st in strs:\n",
    "        if len(st) < min_st:\n",
    "            min_st = len(st)\n",
    "            min_word = st\n",
    "    if (min_word == \"\"):\n",
    "        return min_word\n",
    "    \n",
    "    res = []\n",
    "    \n",
    "    for j, c in enumerate(min_word):\n",
    "        for i, st in enumerate(strs):\n",
    "            if c != st[j]:\n",
    "                return \"\".join(res)\n",
    "        res.append(c)\n",
    "    return \"\".join(res)\n",
    "\n",
    "print(longestCommonPrefix(strs = [\"flower\",\"flow\",\"flight\"]), \" expectred 'fl'\")\n",
    "print(longestCommonPrefix(strs = [\"dog\",\"racecar\",\"car\"]), \" expectred ''\")\n",
    "print(longestCommonPrefix(strs = [\"a\"]), \" expectred 'a'\")\n",
    "print(longestCommonPrefix(strs = [\"a\",\"b\"]), \" expectred ''\")\n",
    "print(longestCommonPrefix(strs = [\"aa\",\"ab\"]), \" expectred 'a'\")"
   ]
  },
  {
   "cell_type": "code",
   "execution_count": null,
   "metadata": {},
   "outputs": [],
   "source": []
  }
 ],
 "metadata": {
  "kernelspec": {
   "display_name": "Python 3",
   "language": "python",
   "name": "python3"
  },
  "language_info": {
   "codemirror_mode": {
    "name": "ipython",
    "version": 3
   },
   "file_extension": ".py",
   "mimetype": "text/x-python",
   "name": "python",
   "nbconvert_exporter": "python",
   "pygments_lexer": "ipython3",
   "version": "3.10.12"
  }
 },
 "nbformat": 4,
 "nbformat_minor": 2
}
