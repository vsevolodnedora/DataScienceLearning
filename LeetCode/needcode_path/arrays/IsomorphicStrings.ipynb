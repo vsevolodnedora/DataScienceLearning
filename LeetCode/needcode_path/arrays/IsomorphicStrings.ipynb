{
 "cells": [
  {
   "cell_type": "markdown",
   "metadata": {},
   "source": [
    "# 205. Isomorphic Strings\n",
    "\n",
    "Given two strings s and t, determine if they are isomorphic.\n",
    "\n",
    "Two strings s and t are isomorphic if the characters in s can be replaced to get t.\n",
    "\n",
    "All occurrences of a character must be replaced with another character while preserving the order of characters. No two characters may map to the same character, but a character may map to itself.\n",
    "\n",
    "# Reasoning\n",
    "\n",
    "[neetcodevideo](https://www.youtube.com/watch?v=7yF-U1hLEqQ&t=1s)\n",
    "\n",
    "`Hashmap` is the most efficient solution as adding and removing from a hashmap is O(1). \n",
    "\n",
    "Overall the solution has O(n) time and O(n) memory complexity"
   ]
  },
  {
   "cell_type": "code",
   "execution_count": 6,
   "metadata": {},
   "outputs": [
    {
     "name": "stdout",
     "output_type": "stream",
     "text": [
      "True Output: true\n",
      "False Output: false\n",
      "True Output: true\n",
      "False Output: false\n"
     ]
    }
   ],
   "source": [
    "def isIsomorphic(s: str, t: str) -> bool:\n",
    "    dict_foward = {}\n",
    "    dict_backward = {}\n",
    "    for c_s,c_t in zip(s, t):\n",
    "        # ------------------------------\n",
    "        if c_s in dict_foward.keys():\n",
    "            if (dict_foward[c_s] != c_t):\n",
    "                return False\n",
    "        else:\n",
    "            dict_foward[c_s] = c_t\n",
    "        # -------------------------------\n",
    "        if c_t in dict_backward.keys():\n",
    "            if (dict_backward[c_t] != c_s):\n",
    "                return False\n",
    "        else:\n",
    "            dict_backward[c_t] = c_s\n",
    "    return True\n",
    "\n",
    "print(isIsomorphic(s = \"egg\", t = \"add\"),\"Output: true\")\n",
    "print(isIsomorphic(s = \"foo\", t = \"bar\"),\"Output: false\")\n",
    "print(isIsomorphic(s = \"paper\", t = \"title\"),\"Output: true\")\n",
    "print(isIsomorphic(s = \"badc\", t = \"baba\"),\"Output: false\")"
   ]
  },
  {
   "cell_type": "code",
   "execution_count": null,
   "metadata": {},
   "outputs": [],
   "source": []
  }
 ],
 "metadata": {
  "kernelspec": {
   "display_name": "Python 3",
   "language": "python",
   "name": "python3"
  },
  "language_info": {
   "codemirror_mode": {
    "name": "ipython",
    "version": 3
   },
   "file_extension": ".py",
   "mimetype": "text/x-python",
   "name": "python",
   "nbconvert_exporter": "python",
   "pygments_lexer": "ipython3",
   "version": "3.10.12"
  }
 },
 "nbformat": 4,
 "nbformat_minor": 2
}
