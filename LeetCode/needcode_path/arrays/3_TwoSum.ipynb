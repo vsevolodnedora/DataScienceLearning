{
 "cells": [
  {
   "cell_type": "markdown",
   "metadata": {},
   "source": [
    "# Two Sum\n",
    "\n",
    "Given an array of integers nums and an integer target, return indices of the two numbers such that they add up to target.\n",
    "\n",
    "You may assume that each input would have exactly one solution, and you may not use the same element twice.\n",
    "\n",
    "You can return the answer in any order.\n",
    "\n",
    "# Reasoning\n",
    "\n",
    "Most intuitive way is to take one value and check all the others if it can give the requirement. The runtime complexity is O(n^2), which is bad. \n",
    "\n",
    "THe more efficient way is to notice that once we _fix_ one value, we only need to find the difference, i.e., we need to check if this difference __existis__ in the array. THis can be done with `hash map`. \n",
    "\n",
    "Hash map is in the form {Value : Index}. \n",
    "Note, we cannot re-use the value so we need to _compare_ index of the current value we are looking at with the index we recover from hash map. \n",
    "\n",
    "A more elegant solution is to populate the hash map as we traverse the array, checking for combinations in _already populated part of the hash map_. \n",
    "\n",
    "Downside: extra memory reqired.\n"
   ]
  },
  {
   "cell_type": "code",
   "execution_count": 3,
   "metadata": {},
   "outputs": [
    {
     "name": "stdout",
     "output_type": "stream",
     "text": [
      "[1, 0]\n"
     ]
    }
   ],
   "source": [
    "def twoSum(nums: list[int], target: int) -> list[int]:\n",
    "    hashmap = {}\n",
    "    for i, val in enumerate(nums):\n",
    "        dif = target - val\n",
    "        if (dif in hashmap.keys()):\n",
    "            return [i,hashmap[dif]]\n",
    "        else:\n",
    "            hashmap[val] = i\n",
    "print( twoSum([2,7,11,15], 9) )\n",
    "        "
   ]
  },
  {
   "cell_type": "markdown",
   "metadata": {},
   "source": []
  }
 ],
 "metadata": {
  "kernelspec": {
   "display_name": "Python 3",
   "language": "python",
   "name": "python3"
  },
  "language_info": {
   "codemirror_mode": {
    "name": "ipython",
    "version": 3
   },
   "file_extension": ".py",
   "mimetype": "text/x-python",
   "name": "python",
   "nbconvert_exporter": "python",
   "pygments_lexer": "ipython3",
   "version": "3.10.12"
  }
 },
 "nbformat": 4,
 "nbformat_minor": 2
}
