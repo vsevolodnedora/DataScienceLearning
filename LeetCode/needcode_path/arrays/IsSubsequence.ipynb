{
 "cells": [
  {
   "cell_type": "markdown",
   "metadata": {},
   "source": [
    "# 392. Is Subsequence\n",
    "\n",
    "Given two strings s and t, return true if s is a subsequence of t, or false otherwise.\n",
    "\n",
    "A subsequence of a string is a new string that is formed from the original string by deleting some (can be none) of the characters without disturbing the relative positions of the remaining characters. (i.e., \"ace\" is a subsequence of \"abcde\" while \"aec\" is not).\n",
    "\n",
    "# Reasoning\n",
    "\n",
    "[neetcodevideo](https://www.youtube.com/watch?v=99RVfqklbCE&t=9s)\n",
    "\n",
    "\n",
    "I implemented solution using `stack`, that has O(n) time and O(n) memory complexity\n",
    "\n",
    "The proposed `two pointer` solution has (O(1)) memory complexity (no additional memory required). \n",
    "\n"
   ]
  },
  {
   "cell_type": "code",
   "execution_count": 17,
   "metadata": {},
   "outputs": [
    {
     "name": "stdout",
     "output_type": "stream",
     "text": [
      "True  epxected true\n",
      "False  epxected false\n",
      "False  epxected false\n",
      "False  epxected false\n",
      "True  epxected true\n",
      "True  epxected true\n"
     ]
    }
   ],
   "source": [
    "def isSubsequence(s: str, t: str) -> bool:\n",
    "\n",
    "    # USING TWO POINTERS\n",
    "    i,j = 0, 0\n",
    "    while i < len(s) and j < len(t):\n",
    "        if (s[i] == t[j]):\n",
    "            i+=1\n",
    "        j+=1\n",
    "    if i == len(s):\n",
    "        # all caracters are found\n",
    "        return True\n",
    "    else:\n",
    "        # j is out of bounds for t, -- one caracter is not found\n",
    "        return False\n",
    "\n",
    "\n",
    "\n",
    "    # USING STACK\n",
    "    if s == \"\":\n",
    "        return True\n",
    "    if t == \"\":\n",
    "        return False\n",
    "    stack_s = list(s)[::-1]\n",
    "    for i, c in enumerate(t):\n",
    "        if (len(stack_s) == 0):\n",
    "            return True\n",
    "        if (c == stack_s[-1]):\n",
    "            stack_s.pop()\n",
    "    return len(stack_s) == 0       \n",
    "\n",
    "    # USING HASH\n",
    "    order = {}\n",
    "    # build hash map O(n)\n",
    "    order = {t[i]:i for i in range(len(t))}\n",
    "    # return true if s is in t\n",
    "    couner = 0\n",
    "    for ic, c in enumerate(s):\n",
    "        if (c in order and order[c] >= couner):\n",
    "            couner = order[c]\n",
    "        else:\n",
    "            return False\n",
    "    return True\n",
    "\n",
    "print(isSubsequence(s = \"abc\", t = \"ahbgdc\"), \" epxected true\")\n",
    "print(isSubsequence(s = \"axc\", t = \"ahbgdc\"), \" epxected false\")\n",
    "print(isSubsequence(s = \"acb\", t = \"ahbgdc\"), \" epxected false\")\n",
    "print(isSubsequence(s = \"aaaaaa\", t = \"bbaaaa\"), \" epxected false\")\n",
    "print(isSubsequence(s = \"b\", t = \"abc\"), \" epxected true\")\n",
    "print(isSubsequence(s = \"\", t = \"abs\"), \" epxected true\")\n"
   ]
  },
  {
   "cell_type": "code",
   "execution_count": null,
   "metadata": {},
   "outputs": [],
   "source": []
  }
 ],
 "metadata": {
  "kernelspec": {
   "display_name": "Python 3",
   "language": "python",
   "name": "python3"
  },
  "language_info": {
   "codemirror_mode": {
    "name": "ipython",
    "version": 3
   },
   "file_extension": ".py",
   "mimetype": "text/x-python",
   "name": "python",
   "nbconvert_exporter": "python",
   "pygments_lexer": "ipython3",
   "version": "3.10.12"
  }
 },
 "nbformat": 4,
 "nbformat_minor": 2
}
