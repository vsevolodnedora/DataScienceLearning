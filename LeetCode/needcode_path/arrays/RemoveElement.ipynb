{
 "cells": [
  {
   "cell_type": "markdown",
   "metadata": {},
   "source": [
    "# 27. Remove Element\n",
    "\n",
    "Given an integer array nums and an integer val, remove all occurrences of val in nums `in-place`. The order of the elements may be changed. Then return the number of elements in nums which are not equal to val.\n",
    "\n",
    "Consider the number of elements in nums which are not equal to val be k, to get accepted, you need to do the following things:\n",
    "\n",
    "Change the array nums such that the first k elements of nums contain the elements which are not equal to val. The remaining elements of nums are not important as well as the size of nums.\n",
    "Return k.\n",
    "Custom Judge:\n",
    "\n",
    "# Reasoning \n",
    "\n",
    "[neetcodevideo](https://www.youtube.com/watch?v=Pcd1ii9P9ZI&t=8s)\n",
    "\n",
    "The trick in this task is to use `two pointers` so that one points at the _current_ values that needs to be replaced, the `val` and the second at the next non-`val` values that can be used to replace the former one with. After the replacement, the pointer in incremeneted.\n",
    "\n",
    "The algirhtm is similar to `partition` sorting alorithm."
   ]
  },
  {
   "cell_type": "code",
   "execution_count": 6,
   "metadata": {},
   "outputs": [
    {
     "name": "stdout",
     "output_type": "stream",
     "text": [
      "[2, 2, 2, 3]\n",
      "2  epxected [2]\n",
      "[0, 1, 3, 0, 4, 0, 4, 2]\n",
      "5  epxected [5]\n"
     ]
    }
   ],
   "source": [
    "def removeElement(nums: list[int], val: int) -> int:\n",
    "    i,j=0,0\n",
    "    n = len(nums)\n",
    "\n",
    "    k = 0\n",
    "    for l in range(n):\n",
    "        if (nums[l] != val):\n",
    "            nums[k] = nums[l]\n",
    "            k+=1\n",
    "\n",
    "    print(nums)\n",
    "    return k\n",
    "print(removeElement([3,2,2,3],3), \" epxected [2]\")\n",
    "print(removeElement([0,1,2,2,3,0,4,2],2), \" epxected [5]\")"
   ]
  },
  {
   "cell_type": "code",
   "execution_count": null,
   "metadata": {},
   "outputs": [],
   "source": []
  }
 ],
 "metadata": {
  "kernelspec": {
   "display_name": "Python 3",
   "language": "python",
   "name": "python3"
  },
  "language_info": {
   "codemirror_mode": {
    "name": "ipython",
    "version": 3
   },
   "file_extension": ".py",
   "mimetype": "text/x-python",
   "name": "python",
   "nbconvert_exporter": "python",
   "pygments_lexer": "ipython3",
   "version": "3.10.12"
  }
 },
 "nbformat": 4,
 "nbformat_minor": 2
}
