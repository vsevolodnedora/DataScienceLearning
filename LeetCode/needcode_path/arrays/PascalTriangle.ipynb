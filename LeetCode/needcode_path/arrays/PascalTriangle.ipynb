{
 "cells": [
  {
   "cell_type": "markdown",
   "metadata": {},
   "source": [
    "# 118. Pascal's Triangle\n",
    "\n",
    "Given an integer numRows, return the first numRows of Pascal's triangle.\n",
    "\n",
    "In Pascal's triangle, each number is the sum of the two numbers directly above it as shown\n",
    "\n",
    "# Reasoning\n",
    "\n",
    "[neetcodevideo](https://www.youtube.com/watch?v=nPVEaB3AjUM&t=2s)\n",
    "\n",
    "A trick is to assume that there is always a zero on the left and on the right of the previous row for the next row.\n",
    "\n",
    "This allows to have `two pointers` for each array, scanning the previous one plus this _padding_ and filling the next raw. \n",
    "\n",
    "This is O(n^2) algorithm"
   ]
  },
  {
   "cell_type": "code",
   "execution_count": 4,
   "metadata": {},
   "outputs": [
    {
     "name": "stdout",
     "output_type": "stream",
     "text": [
      "[[1], [1, 1], [1, 2, 1], [1, 3, 3, 1]] expected [[1], [1, 1], [1, 2, 1], [1, 3, 3, 1]]\n",
      "[[1], [1, 1], [1, 2, 1], [1, 3, 3, 1], [1, 4, 6, 4, 1]] expected\n",
      " [[1], [1, 1], [1, 2, 1], [1, 3, 3, 1], [1, 4, 6, 4, 1]]\n"
     ]
    }
   ],
   "source": [
    "def generate(numRows: int) -> list[list[int]]:\n",
    "    if (numRows == 0):\n",
    "        return []\n",
    "\n",
    "    res = [\n",
    "        [1],\n",
    "        # [1, 1]\n",
    "    ]\n",
    "\n",
    "    for i in range(1, numRows):\n",
    "        prev = res[i-1] # [1, 2, 1]\n",
    "        new = [1] * (len(prev) + 1) # [1, 1, 1, 1]\n",
    "        for j in range(1, len(new) - 1):\n",
    "            new[j] = prev[j-1] + prev[j] # [1, 1+2, 2+1 1]\n",
    "        res.append(new)\n",
    "    return res\n",
    "print(generate(numRows=4),'expected',[[1],[1,1],[1,2,1],[1,3,3,1]])\n",
    "print(generate(numRows=5),'expected\\n',[[1],[1,1],[1,2,1],[1,3,3,1],[1,4,6,4,1]])\n"
   ]
  },
  {
   "cell_type": "code",
   "execution_count": null,
   "metadata": {},
   "outputs": [],
   "source": []
  }
 ],
 "metadata": {
  "kernelspec": {
   "display_name": "Python 3",
   "language": "python",
   "name": "python3"
  },
  "language_info": {
   "codemirror_mode": {
    "name": "ipython",
    "version": 3
   },
   "file_extension": ".py",
   "mimetype": "text/x-python",
   "name": "python",
   "nbconvert_exporter": "python",
   "pygments_lexer": "ipython3",
   "version": "3.10.12"
  }
 },
 "nbformat": 4,
 "nbformat_minor": 2
}
