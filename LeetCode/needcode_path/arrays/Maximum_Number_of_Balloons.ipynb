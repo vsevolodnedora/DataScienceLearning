{
 "cells": [
  {
   "cell_type": "markdown",
   "metadata": {},
   "source": [
    "# 1189. Maximum Number of Balloons\n",
    "\n",
    "[leetcode](https://leetcode.com/problems/maximum-number-of-balloons/)\n",
    "\n",
    "Given a string text, you want to use the characters of text to form as many instances of the word \"balloon\" as possible.\n",
    "\n",
    "You can use each character in text at most once. Return the maximum number of instances that can be formed.\n",
    "\n",
    "# Reasoning\n",
    "\n",
    "[neetcodevideo](https://www.youtube.com/watch?v=G9xeB2-7PqY&t=1s&ab_channel=NeetCode)\n",
    "\n",
    "The problem is _simple_ if you see that you can use each character only once, so essencially, you have to __count__ how many needed characters you have. The smallest among them, i.e., the smallest number for one of these characters devided by the required number to form one word is the answer... \n",
    "\n",
    "See below my wrong solution, and right solutions"
   ]
  },
  {
   "cell_type": "code",
   "execution_count": 14,
   "metadata": {},
   "outputs": [
    {
     "name": "stdout",
     "output_type": "stream",
     "text": [
      "1 Output: 1\n",
      "2 Output: 2\n",
      "0 Output: 0\n",
      "10 Output: 10\n"
     ]
    }
   ],
   "source": [
    "class Solution:\n",
    "    def maxNumberOfBalloons(self, text: str) -> int:\n",
    "        s1 = \"balloon\"\n",
    "        if (len(text) < len(s1)):\n",
    "            return 0\n",
    "        need = {}\n",
    "        for c in s1:\n",
    "            need[c] = need.get(c, 0) + 1\n",
    "        \n",
    "        have = {}\n",
    "        r,matches,instances=0,0,0\n",
    "        while r < len(text):\n",
    "            if (matches < len(need)):\n",
    "                c = text[r]\n",
    "                if (c in need):\n",
    "                    have[c] = have.get(c,0)+1\n",
    "                    if (have[c] == need[c]):\n",
    "                        matches += 1\n",
    "                    # elif (have[c] == need[c]+1):\n",
    "                        # matches -= 1\n",
    "                    # print(matches, have)\n",
    "            if (matches == len(need)):\n",
    "                matches = 0\n",
    "                instances += 1\n",
    "                have = {}\n",
    "            \n",
    "            r+=1\n",
    "            \n",
    "        return instances\n",
    "class Solution2:\n",
    "    def maxNumberOfBalloons(self, text: str) -> int:\n",
    "        s1 = \"balloon\"\n",
    "        if (len(text) < len(s1)):\n",
    "            return 0\n",
    "        need={}\n",
    "        have={}\n",
    "        for c in s1: \n",
    "            need[c] = need.get(c,0)+1\n",
    "            have[c] = 0\n",
    "        for c in text:\n",
    "            if c in need:\n",
    "                have[c] = have.get(c,0)+1\n",
    "        min_count = float(\"infinity\")\n",
    "        for c, count in need.items():\n",
    "            avail = have[c]\n",
    "            n = avail // count\n",
    "            min_count = min(n,min_count)\n",
    "        return min_count\n",
    "\n",
    "from typing import Counter\n",
    "class Solution2:\n",
    "    def maxNumberOfBalloons(self, text: str) -> int:\n",
    "        countText = Counter(text)\n",
    "        balloon = Counter(\"ballon\")\n",
    "        res = len(text)\n",
    "        for c in balloon:\n",
    "            res = min(res, countText[c] // balloon[c]) # integer devision\n",
    "        return res\n",
    "\n",
    "sol = Solution2()\n",
    "print(sol.maxNumberOfBalloons(text = \"nlaebolko\"),\"Output: 1\")\n",
    "print(sol.maxNumberOfBalloons(text = \"loonbalxballpoon\"),\"Output: 2\")\n",
    "print(sol.maxNumberOfBalloons(text = \"leetcode\"),\"Output: 0\")\n",
    "\n",
    "text = \"krhizmmgmcrecekgyljqkldocicziihtgpqwbticmvuyznragqoyrukzopfmjhjjxemsxmrsxuqmnkrzhgvtgdgtykhcglurvppvcwhrhrjoislonvvglhdciilduvuiebmffaagxerjeewmtcwmhmtwlxtvlbocczlrppmpjbpnifqtlninyzjtmazxdbzwxthpvrfulvrspycqcghuopjirzoeuqhetnbrcdakilzmklxwudxxhwilasbjjhhfgghogqoofsufysmcqeilaivtmfziumjloewbkjvaahsaaggteppqyuoylgpbdwqubaalfwcqrjeycjbbpifjbpigjdnnswocusuprydgrtxuaojeriigwumlovafxnpibjopjfqzrwemoinmptxddgcszmfprdrichjeqcvikynzigleaajcysusqasqadjemgnyvmzmbcfrttrzonwafrnedglhpudovigwvpimttiketopkvqw\"\n",
    "print(sol.maxNumberOfBalloons(text = text),\"Output: 10\")"
   ]
  },
  {
   "cell_type": "code",
   "execution_count": null,
   "metadata": {},
   "outputs": [],
   "source": []
  }
 ],
 "metadata": {
  "kernelspec": {
   "display_name": "Python 3",
   "language": "python",
   "name": "python3"
  },
  "language_info": {
   "codemirror_mode": {
    "name": "ipython",
    "version": 3
   },
   "file_extension": ".py",
   "mimetype": "text/x-python",
   "name": "python",
   "nbconvert_exporter": "python",
   "pygments_lexer": "ipython3",
   "version": "3.10.12"
  }
 },
 "nbformat": 4,
 "nbformat_minor": 2
}
