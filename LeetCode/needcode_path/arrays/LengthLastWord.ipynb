{
 "cells": [
  {
   "cell_type": "markdown",
   "metadata": {},
   "source": [
    "# 58. Length of Last Word\n",
    "\n",
    "Given a string s consisting of words and spaces, return the length of the last word in the string.\n",
    "\n",
    "A word is a maximal substring  consisting of non-space characters only."
   ]
  },
  {
   "cell_type": "code",
   "execution_count": 3,
   "metadata": {},
   "outputs": [
    {
     "name": "stdout",
     "output_type": "stream",
     "text": [
      "5  expected 5\n",
      "4  expected 4\n",
      "6  expected 6\n"
     ]
    }
   ],
   "source": [
    "def lengthOfLastWord(s: str) -> int:\n",
    "    res = 0\n",
    "    n = len(s)\n",
    "    for l in range(n):\n",
    "        r = n - l - 1\n",
    "        if (res == 0 and s[r] == \" \"):\n",
    "            continue\n",
    "        elif (s[r] != \" \"):\n",
    "            res += 1\n",
    "            continue\n",
    "        else:\n",
    "            break\n",
    "    return res\n",
    "print(lengthOfLastWord(s = \"Hello World\"), \" expected 5\")\n",
    "print(lengthOfLastWord(s = \"   fly me   to   the moon  \"), \" expected 4\")          \n",
    "print(lengthOfLastWord(s = \"luffy is still joyboy\"), \" expected 6\")          \n"
   ]
  },
  {
   "cell_type": "code",
   "execution_count": null,
   "metadata": {},
   "outputs": [],
   "source": []
  }
 ],
 "metadata": {
  "kernelspec": {
   "display_name": "Python 3",
   "language": "python",
   "name": "python3"
  },
  "language_info": {
   "codemirror_mode": {
    "name": "ipython",
    "version": 3
   },
   "file_extension": ".py",
   "mimetype": "text/x-python",
   "name": "python",
   "nbconvert_exporter": "python",
   "pygments_lexer": "ipython3",
   "version": "3.10.12"
  }
 },
 "nbformat": 4,
 "nbformat_minor": 2
}
