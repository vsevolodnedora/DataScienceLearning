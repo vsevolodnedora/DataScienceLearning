{
 "cells": [
  {
   "cell_type": "markdown",
   "metadata": {},
   "source": [
    "# Task:\n",
    "Given an integer array nums, return true if any value appears at least twice in the array, and return false if every element is distinct.\n",
    "\n",
    "# Reasoning [Source](https://www.youtube.com/watch?v=3OamzN90kPg&t=30s)\n",
    "\n",
    "checking if a given element has a duplicate in the rest O(n)\n",
    "So the enire solution would be O(n^2)\n",
    "A Better solution would be to frst sort the array, so the \n",
    "duplicates are adjacent. this would allos to have just one \n",
    "iteration. And the complexity O(n). \n",
    "Sorting, however, also has a time complexity, nlog(n) at\n",
    "best. No extra space reqired\n",
    "Another point, if we use some memory and create a hash set\n",
    "Elements are inserted into hash set at O(1) time, \n",
    "then we can ask hash map if the element exists there. \n",
    "So the overall time complexity is O(n)*O(1) = O(n)\n",
    "and the space complexity is O(n). This is a trade off.\n",
    "\n",
    "# Solution (using hash set)"
   ]
  },
  {
   "cell_type": "code",
   "execution_count": 1,
   "metadata": {},
   "outputs": [
    {
     "name": "stdout",
     "output_type": "stream",
     "text": [
      "True\n"
     ]
    }
   ],
   "source": [
    "def containsDuplicate(nums):\n",
    "    hashset = set()\n",
    "    for n in nums:\n",
    "        if n in hashset:\n",
    "            return True\n",
    "        hashset.add(n)\n",
    "    return False\n",
    "print(containsDuplicate([1,1,1,3,3,4,3,2,4,2]))"
   ]
  },
  {
   "cell_type": "code",
   "execution_count": null,
   "metadata": {},
   "outputs": [],
   "source": []
  }
 ],
 "metadata": {
  "kernelspec": {
   "display_name": "Python 3",
   "language": "python",
   "name": "python3"
  },
  "language_info": {
   "codemirror_mode": {
    "name": "ipython",
    "version": 3
   },
   "file_extension": ".py",
   "mimetype": "text/x-python",
   "name": "python",
   "nbconvert_exporter": "python",
   "pygments_lexer": "ipython3",
   "version": "3.10.12"
  }
 },
 "nbformat": 4,
 "nbformat_minor": 2
}
