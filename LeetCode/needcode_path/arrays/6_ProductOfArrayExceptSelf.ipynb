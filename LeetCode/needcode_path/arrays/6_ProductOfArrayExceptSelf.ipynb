{
 "cells": [
  {
   "cell_type": "markdown",
   "metadata": {},
   "source": [
    "# product of Array Except Self\n",
    "\n",
    "Given an integer array nums, return an array answer such that answer[i] is equal to the product of all the elements of nums except nums[i].\n",
    "\n",
    "The product of any prefix or suffix of nums is guaranteed to fit in a 32-bit integer.\n",
    "\n",
    "You must write an algorithm that runs in O(n) time and without using the division operation.\n",
    "\n",
    "The product of any prefix or suffix of nums is guaranteed to fit in a 32-bit integer.\n",
    "\n",
    "Follow up: Can you solve the problem in O(1) extra space complexity? (The output array does not count as extra space for space complexity analysis.)\n",
    "\n",
    "# Reasoning  \n",
    "[NeetCodeVideo](https://www.youtube.com/watch?v=bNvIQI2wAjk&t=8s)\n",
    "\n",
    "Without restriction on division, we could just multiply all value to get the total and then devide it by each elelemnt to get the total without this value, .e., answer[i] = total / nums[i]\n",
    "\n",
    "Solution is to consider \"prefix\" and \"postfix\" which are parts of the array before and after the [i] value.  \n",
    "Both prefix and postfic can be computed in O(n). \n",
    "\n",
    "This solution with 2 addaitional arrays is O(n) in memry. It can be O(1) if we store the prefix and postfix _in the aswer_. "
   ]
  },
  {
   "cell_type": "code",
   "execution_count": 35,
   "metadata": {},
   "outputs": [
    {
     "name": "stdout",
     "output_type": "stream",
     "text": [
      "[1, 2, 6, 24]\n",
      "[24, 24, 12, 4]\n",
      "[24, 12, 8, 6]\n"
     ]
    }
   ],
   "source": [
    "def productExceptSelf(nums: list[int]) -> list[int]:\n",
    "    n = len(nums)\n",
    "\n",
    "    prefix = [0 for _ in range(n)]\n",
    "    prefix[0] = nums[0]\n",
    "    for i in range(1, n):\n",
    "        prefix[i] = prefix[i-1] * nums[i]\n",
    "    print(prefix)\n",
    "\n",
    "    postfix = [0 for _ in range(n)]\n",
    "    postfix[-1] = nums[-1]\n",
    "    for i in range(1, n):\n",
    "        postfix[n-i-1] = postfix[n-i] * nums[n-i-1]\n",
    "    print(postfix)\n",
    "    \n",
    "    answer = [0 for _ in range(n)]\n",
    "    for i in range(1, n-1):\n",
    "        answer[i] = prefix[i-1] * postfix[i+1]\n",
    "    answer[0] = 1 * postfix[1]\n",
    "    answer[-1] = 1 * prefix[-2]\n",
    "    return answer\n",
    "\n",
    "    # answer = nums\n",
    "    # total = 1\n",
    "    # for i, val in range(nums):\n",
    "    #     total *= val\n",
    "    # for i, val in range(nums):\n",
    "    #     answer[i] = total / val # if devision was allowed\n",
    "\n",
    "    # for i, val in range(nums):\n",
    "    #     answer[i] -= nums[i]\n",
    "    #     answer[i] = 1\n",
    "print(productExceptSelf([1,2,3,4])) "
   ]
  },
  {
   "cell_type": "code",
   "execution_count": 37,
   "metadata": {},
   "outputs": [
    {
     "name": "stdout",
     "output_type": "stream",
     "text": [
      "[24, 12, 8, 6]\n"
     ]
    }
   ],
   "source": [
    "# Single pass solution (O(1) memory)\n",
    "def productExceptSelf(nums: list[int]) -> list[int]:\n",
    "    n = len(nums)\n",
    "    answer = [1] * len(nums)\n",
    "    prefix =1\n",
    "    for i in range(n):\n",
    "        answer[i] = prefix\n",
    "        prefix *= nums[i]\n",
    "    postfix=1\n",
    "    for i in range(len(nums)-1, -1, -1):\n",
    "        answer[i] *= postfix\n",
    "        postfix *= nums[i]\n",
    "    return answer\n",
    "print(productExceptSelf([1,2,3,4])) "
   ]
  },
  {
   "cell_type": "code",
   "execution_count": null,
   "metadata": {},
   "outputs": [],
   "source": []
  }
 ],
 "metadata": {
  "kernelspec": {
   "display_name": "Python 3",
   "language": "python",
   "name": "python3"
  },
  "language_info": {
   "codemirror_mode": {
    "name": "ipython",
    "version": 3
   },
   "file_extension": ".py",
   "mimetype": "text/x-python",
   "name": "python",
   "nbconvert_exporter": "python",
   "pygments_lexer": "ipython3",
   "version": "3.10.12"
  }
 },
 "nbformat": 4,
 "nbformat_minor": 2
}
