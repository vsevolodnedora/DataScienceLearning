{
 "cells": [
  {
   "cell_type": "markdown",
   "metadata": {},
   "source": [
    "# Longest Conseq\\cutive Sequence\n",
    "\n",
    "Given an unsorted array of integers nums, return the length of the longest consecutive elements sequence.\n",
    "\n",
    "You must write an algorithm that runs in O(n) time.\n",
    "\n",
    "# Reasoning\n",
    "\n",
    "[neetcodevideo](https://www.youtube.com/watch?v=P6RZZMu_maU&t=2s)\n",
    "\n",
    "The most obvious solution is to sort the array. However, sorting is at least n*log(n) in complexity. \n",
    "\n",
    "Try drawing the line and putting numbers on it. We can try to look at each present sequence and count how big it is. \n",
    "\n",
    "\n",
    "A sequence _start_ can be identified when an elementd _does not have a left neibour_. I.e., if for $$1 there is 0 or for 100 there is 99.  \n",
    "\n",
    "The most efficinet way of doing it is by taking an array and converting it into a set. \n",
    "\n",
    "For each element in the set we check if \n",
    "- it is a beginning of the sequence (no element with -1)?\n",
    "- is it a continous sequence (are there elements with +1)?\n",
    "\n",
    "Than we can build a hashmap with a key being the initial value of the sequence, regardless of how long it is. \n",
    "\n",
    "This solution is O(n) and memory complexity is O(n)\n",
    "\n",
    "This is linear time and linear mmory complexity solution. "
   ]
  },
  {
   "cell_type": "code",
   "execution_count": 4,
   "metadata": {},
   "outputs": [
    {
     "name": "stdout",
     "output_type": "stream",
     "text": [
      "4 expected=4\n",
      "9 expected=9\n"
     ]
    }
   ],
   "source": [
    "def longestConsecutive(nums: list[int]) -> int:\n",
    "    n = len(nums)\n",
    "    numset = set(nums)\n",
    "    longest = 0\n",
    "    for i, v in enumerate(numset):\n",
    "        # check if it is the start of the sequence\n",
    "        if (v-1) in numset:\n",
    "            continue\n",
    "        length = 1\n",
    "        # check the length of the sequencie\n",
    "        while (v+length) in numset:\n",
    "            length += 1\n",
    "        # update longest\n",
    "        if (length > longest):\n",
    "            longest = length\n",
    "    return longest\n",
    "print(longestConsecutive([100,4,200,1,3,2]), f\"expected={4}\")\n",
    "print(longestConsecutive([0,3,7,2,5,8,4,6,0,1]), f\"expected={9}\")"
   ]
  },
  {
   "cell_type": "code",
   "execution_count": null,
   "metadata": {},
   "outputs": [],
   "source": []
  }
 ],
 "metadata": {
  "kernelspec": {
   "display_name": "Python 3",
   "language": "python",
   "name": "python3"
  },
  "language_info": {
   "codemirror_mode": {
    "name": "ipython",
    "version": 3
   },
   "file_extension": ".py",
   "mimetype": "text/x-python",
   "name": "python",
   "nbconvert_exporter": "python",
   "pygments_lexer": "ipython3",
   "version": "3.10.12"
  }
 },
 "nbformat": 4,
 "nbformat_minor": 2
}
