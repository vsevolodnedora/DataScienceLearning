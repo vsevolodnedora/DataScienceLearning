{
 "cells": [
  {
   "cell_type": "markdown",
   "metadata": {},
   "source": [
    "# 1299. Replace Elements with Greatest Element on Right Side\n",
    "\n",
    "\n",
    "Given an array arr, replace every element in that array with the greatest element among the elements to its right, and replace the last element with -1.\n",
    "\n",
    "After doing so, return the array.\n",
    "\n"
   ]
  },
  {
   "cell_type": "code",
   "execution_count": 20,
   "metadata": {},
   "outputs": [
    {
     "name": "stdout",
     "output_type": "stream",
     "text": [
      "1\n",
      "6\n",
      "4\n",
      "5\n",
      "18\n",
      "[18, 6, 6, 6, 1, -1]  expected [18,6,6,6,1,-1]\n"
     ]
    }
   ],
   "source": [
    "def replaceElements(arr: list[int]) -> list[int]:\n",
    "    n = len(arr)\n",
    "    if (n==1):\n",
    "        return [-1]\n",
    "    maxs = [-1] * n\n",
    "    for l in range(1, n):\n",
    "        r = n - l - 1\n",
    "        maxs[r] = max( arr[r+1], maxs[r+1] ) # !!!\n",
    "    return maxs\n",
    "print(replaceElements([17,18,5,4,6,1]),\" expected [18,6,6,6,1,-1]\")"
   ]
  },
  {
   "cell_type": "code",
   "execution_count": null,
   "metadata": {},
   "outputs": [],
   "source": []
  }
 ],
 "metadata": {
  "kernelspec": {
   "display_name": "Python 3",
   "language": "python",
   "name": "python3"
  },
  "language_info": {
   "codemirror_mode": {
    "name": "ipython",
    "version": 3
   },
   "file_extension": ".py",
   "mimetype": "text/x-python",
   "name": "python",
   "nbconvert_exporter": "python",
   "pygments_lexer": "ipython3",
   "version": "3.10.12"
  }
 },
 "nbformat": 4,
 "nbformat_minor": 2
}
