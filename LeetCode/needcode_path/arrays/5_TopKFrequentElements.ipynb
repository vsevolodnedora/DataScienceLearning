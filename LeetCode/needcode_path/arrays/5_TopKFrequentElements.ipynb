{
 "cells": [
  {
   "cell_type": "markdown",
   "metadata": {},
   "source": [
    "# Top K Frequent Elements\n",
    "\n",
    "Given an integer array nums and an integer k, return the k most frequent elements. You may return the answer in any order.\n",
    "\n",
    "Follow up: Your algorithm's time complexity must be better than O(n log n), where n is the array's size.\n",
    "\n",
    "It is guaranteed that the answer is unique.\n",
    "\n",
    "# Reasoning  \n",
    "[NeetCodeVideo](https://www.youtube.com/watch?v=YPTqKIgVk-k&t=1s)\n",
    "\n",
    "Sorting has a complexity of n log n a the worst, so we would need to use something else. \n",
    "\n",
    "When we collect the result we can use _max heap_, where the key is the number of occurances, so we return the descending order, which would allow to pop from it $k$ times to get the final answer. \n",
    "\n",
    "Motivation: function `heapofy` can work in O(n), which is good. Poping from the heap is log(n) operation, so we are going to do it $k$ times, so the overall complexity should be n * log(k), where k < n, so the complexity is better than n * log(n).  \n",
    "\n",
    "An even better solution, O(n), can be achieved using the algorithm called _bucket sort_. Bucket sort is done by filling and array of _occurances_, e.g., for each index, representing the number, count how many times if occurs.  \n",
    "This algorithm is O(n) __IF__ the initial array is bounded, i.e., there are __all__ values between min and max of the array. If there are gaps in values, e.g., 1,2,10,20,21,22,... it is not bounded. This is a problem as the size of the output array depends on the values of the array. \n",
    "\n",
    "An even cleverer way, is to use a _bucket sort_ but with _counts_ as indeces of the output array, and values there are _lists_ of values with the _same_ counts. The advantage of this approach is the output array is _bounded_. Its size cannot exceed the input array size, as each element there can occure _at least once_. Thus, scanning through this array can be done in _linear itme_, O(n).  \n",
    "We perform the scanning starting at the end, and peak the 'k' elements from it, as they mark the 'k' most frequent elements.\n",
    "\n",
    "The memory complexity, however, is the O(n), as we would need to create a hash map, and the array. "
   ]
  },
  {
   "cell_type": "code",
   "execution_count": 45,
   "metadata": {},
   "outputs": [
    {
     "name": "stdout",
     "output_type": "stream",
     "text": [
      "[1, 2]\n",
      "[1]\n"
     ]
    }
   ],
   "source": [
    "# FAILD SOLUTION (MINE)\n",
    "def topKFrequent(nums: list[int], k: int) -> list[int]:\n",
    "    # Create the hash map of counts {number : n_of_occurances}\n",
    "    hashm = {}\n",
    "    for n in nums:\n",
    "        if not n in hashm:\n",
    "            hashm[n] = 1\n",
    "        else:\n",
    "            hashm[n] += 1\n",
    "    # create the array of counts {idx=n_of_counts : [list of number]}\n",
    "    arr = [None for _ in range(len(nums))]\n",
    "    for i in range(len(nums), 0, -1):\n",
    "        if i in list(hashm.values()):\n",
    "            arr[i-1] = list(hashm.values()).index(i)\n",
    "    # get the k last elemnts\n",
    "    res = []\n",
    "    for j, val in enumerate(arr):\n",
    "        if not val is None:\n",
    "            res.append(j+1)\n",
    "        if len(res) == k:\n",
    "            break\n",
    "    return res\n",
    "print( topKFrequent([1,1,1,2,2,3],k=2) ) \n",
    "print( topKFrequent([1],k=1) ) "
   ]
  },
  {
   "cell_type": "code",
   "execution_count": 44,
   "metadata": {},
   "outputs": [
    {
     "name": "stdout",
     "output_type": "stream",
     "text": [
      "[1, 2]\n",
      "[1]\n"
     ]
    }
   ],
   "source": [
    "# ACCEPTED SOLUTION\n",
    "def topKFrequent(nums: list[int], k: int) -> list[int]:\n",
    "    count = {}\n",
    "    freq = [[] for i in range(len(nums) + 1)]\n",
    "    # fill te hash map\n",
    "    for n in nums:\n",
    "        count[n] = 1 + count.get(n, 0)\n",
    "    # fill the frequency array\n",
    "    for n, c in count.items():\n",
    "        freq[c].append(n)\n",
    "    # iterate in decending order and fill the array\n",
    "    res = []\n",
    "    for i in range(len(freq)-1,0,-1):\n",
    "        for n in freq[i]:\n",
    "            res.append(n)\n",
    "            if len(res) == k:\n",
    "                return res\n",
    "print( topKFrequent([1,1,1,2,2,3],k=2) ) \n",
    "print( topKFrequent([1],k=1) ) \n"
   ]
  },
  {
   "cell_type": "markdown",
   "metadata": {},
   "source": []
  }
 ],
 "metadata": {
  "kernelspec": {
   "display_name": "Python 3",
   "language": "python",
   "name": "python3"
  },
  "language_info": {
   "codemirror_mode": {
    "name": "ipython",
    "version": 3
   },
   "file_extension": ".py",
   "mimetype": "text/x-python",
   "name": "python",
   "nbconvert_exporter": "python",
   "pygments_lexer": "ipython3",
   "version": "3.10.12"
  }
 },
 "nbformat": 4,
 "nbformat_minor": 2
}
