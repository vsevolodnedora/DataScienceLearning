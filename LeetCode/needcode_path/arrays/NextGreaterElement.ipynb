{
 "cells": [
  {
   "cell_type": "markdown",
   "metadata": {},
   "source": [
    "# 496. Next Greater Element I\n",
    "\n",
    "The next greater element of some element x in an array is the first greater element that is to the right of x in the same array.\n",
    "\n",
    "You are given two distinct 0-indexed integer arrays nums1 and nums2, where nums1 is a subset of nums2.\n",
    "\n",
    "For each 0 <= i < nums1.length, find the index j such that nums1[i] == nums2[j] and determine the next greater element of nums2[j] in nums2. If there is no next greater element, then the answer for this query is -1.\n",
    "\n",
    "Return an array ans of length nums1.length such that ans[i] is the next greater element as described above.\n",
    "\n",
    "# Reasoning\n",
    "\n",
    "[neetcodevideo](https://www.youtube.com/watch?v=68a1Dc_qVq4&t=3s)\n",
    "\n",
    "__NOTE__: In this problem we are given _two_ arrays. We need to find a _nect greater element_ of _each_ element in the _second_ array inside the _first_ array. \n",
    "\n",
    "The brute forces olution, which is O(n^2), is to construct a \n",
    "`hash map` for each element in the _smaller_ array, so that we know which elements to check in the _larger_ array. \n",
    "\n",
    "Thus we loop through the array twice. Once to go through all elements and second time to find the next greatest. So, this solution is O(n^2) (or O(m*n) actually) time and O(m) space complexities.\n",
    "\n",
    "__NOTE__: `hash map` also allows to look through the array in O(1) time. \n",
    "\n",
    "--- \n",
    "\n",
    "In order to arrive to O(m + n) solution we need to use `stack`. And more specifically, a `monotonic stack`. \n",
    "\n",
    "Stack allows us to _remember_ __descending__ valies in the larger array as we search for the _next greater value_. If values are _descending_ we can keep adding to the stack. If not, we found the _next greater value_. \n",
    "\n",
    "__NOTE__: we add values to the stack if \n",
    "- They are smaller than the previous\n",
    "- They appear in the smaller array\n",
    " \n",
    "__NOTE__: This solution is possible becase all values on _both_ arrays are __unique__.  \n",
    "\n",
    "Overall, to solve this problem by a _single pass_ we need both a hash and a monotonic stack.  \n",
    "\n",
    "\n"
   ]
  },
  {
   "cell_type": "code",
   "execution_count": 1,
   "metadata": {},
   "outputs": [
    {
     "name": "stdout",
     "output_type": "stream",
     "text": [
      "[-1, 3, -1] Output: [-1,3,-1]\n",
      "[3, -1] Output:[3,-1]\n"
     ]
    }
   ],
   "source": [
    "def nextGreaterElement(nums1: list[int], nums2: list[int]) -> list[int]:\n",
    "    indexes = {}\n",
    "    res = [-1 for _ in nums1]\n",
    "    # create hash map\n",
    "    for i, v in enumerate(nums1):\n",
    "        indexes[v] = i\n",
    "\n",
    "    for i, v in enumerate(nums2):\n",
    "        # check if v is in nums1:\n",
    "        if (v in indexes):\n",
    "            # find the next greater element \n",
    "            for j in range(i+1, len(nums2)):\n",
    "                if nums2[j] > v:\n",
    "                    res[indexes[v]] = nums2[j]\n",
    "                    break\n",
    "    return res\n",
    "\n",
    "print(nextGreaterElement([4,1,2],[1,3,4,2]), \"Output: [-1,3,-1]\")\n",
    "print(nextGreaterElement([2,4],[1,2,3,4]), \"Output:[3,-1]\")"
   ]
  },
  {
   "cell_type": "code",
   "execution_count": 3,
   "metadata": {},
   "outputs": [
    {
     "name": "stdout",
     "output_type": "stream",
     "text": [
      "[-1, 3, -1] Output: [-1,3,-1]\n",
      "[3, -1] Output:[3,-1]\n"
     ]
    }
   ],
   "source": [
    "def nextGreaterElement(nums1: list[int], nums2: list[int]) -> list[int]:\n",
    "    # Build hash map of indexes\n",
    "    indexes = {}\n",
    "    res = [-1 for _ in nums1]\n",
    "    # create hash map\n",
    "    for i, v in enumerate(nums1):\n",
    "        indexes[v] = i\n",
    "    # initialuze stack \n",
    "    m_stack = []\n",
    "    for i, v in enumerate(nums2):\n",
    "        # go throuh the array untill you find the greater element\n",
    "        while m_stack and v > m_stack[-1]:\n",
    "            # found next greater element\n",
    "            val = m_stack.pop(-1)\n",
    "            # add it to the result\n",
    "            idx = indexes[val]\n",
    "            res[idx] = v\n",
    "        if v in indexes: # as we need to find a next greater element of this\n",
    "            m_stack.append(v)\n",
    "    return res\n",
    "\n",
    "print(nextGreaterElement([4,1,2],[1,3,4,2]), \"Output: [-1,3,-1]\")\n",
    "print(nextGreaterElement([2,4],[1,2,3,4]), \"Output:[3,-1]\")"
   ]
  },
  {
   "cell_type": "code",
   "execution_count": null,
   "metadata": {},
   "outputs": [],
   "source": []
  }
 ],
 "metadata": {
  "kernelspec": {
   "display_name": "base",
   "language": "python",
   "name": "python3"
  },
  "language_info": {
   "codemirror_mode": {
    "name": "ipython",
    "version": 3
   },
   "file_extension": ".py",
   "mimetype": "text/x-python",
   "name": "python",
   "nbconvert_exporter": "python",
   "pygments_lexer": "ipython3",
   "version": "3.10.12"
  }
 },
 "nbformat": 4,
 "nbformat_minor": 2
}
