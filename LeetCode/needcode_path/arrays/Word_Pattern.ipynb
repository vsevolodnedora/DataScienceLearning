{
 "cells": [
  {
   "cell_type": "markdown",
   "metadata": {},
   "source": [
    "# 290. Word Pattern\n",
    "\n",
    "[leetcode](https://leetcode.com/problems/word-pattern/)\n",
    "\n",
    "Given a pattern and a string s, find if s follows the same pattern.\n",
    "\n",
    "Here follow means a full match, such that there is a bijection between a letter in pattern and a non-empty word in s.\n",
    "\n",
    "_Constraints_:\n",
    "\n",
    "1 <= pattern.length <= 300  \n",
    "pattern contains only lower-case English letters.  \n",
    "1 <= s.length <= 3000  \n",
    "s contains only lowercase English letters and spaces ' '.  \n",
    "s does not contain any leading or trailing spaces.  \n",
    "All the words in s are separated by a single space.  \n",
    "\n",
    "# Reasoning\n",
    "\n",
    "[neetcodevideo](https://www.youtube.com/watch?v=W_akoecmCbM&ab_channel=NeetCode)\n",
    "\n",
    "__NOTE__: this problem requries _1 to 1 mapping_, so 2 dictionaries to assure 1-to-1\n",
    "\n",
    "__NOTE__: watch out for edge cases, where N words != N letters\n",
    "\n",
    "Mapping is O(1) operations"
   ]
  },
  {
   "cell_type": "code",
   "execution_count": 10,
   "metadata": {},
   "outputs": [
    {
     "name": "stdout",
     "output_type": "stream",
     "text": [
      "True Output: true\n",
      "False Output: false\n",
      "False Output: false\n",
      "False Output: false\n",
      "False Output: false\n"
     ]
    }
   ],
   "source": [
    "class Solution:\n",
    "    def wordPattern(self, pattern: str, s: str) -> bool:\n",
    "        if len(pattern) != len(s.split()):\n",
    "            return False\n",
    "        mapping_forward = {}\n",
    "        mapping_backward = {}\n",
    "        for c, word in zip(pattern, s.split()):\n",
    "            \n",
    "            if (not c in mapping_forward):\n",
    "                mapping_forward[c] = word\n",
    "            \n",
    "            if (not word in mapping_backward):\n",
    "                mapping_backward[word] = c\n",
    "            \n",
    "            if (mapping_forward[c] != word):\n",
    "                return False\n",
    "            \n",
    "            if (mapping_backward[word] != c):\n",
    "                return False\n",
    "            \n",
    "        return True\n",
    "\n",
    "sol = Solution()\n",
    "print(sol.wordPattern(pattern = \"abba\", s = \"dog cat cat dog\"),\"Output: true\")\n",
    "print(sol.wordPattern(pattern = \"abba\", s = \"dog cat cat fish\"),\"Output: false\")\n",
    "print(sol.wordPattern(pattern = \"aaaa\", s = \"dog cat cat dog\"),\"Output: false\")\n",
    "print(sol.wordPattern(pattern = \"abba\", s = \"dog dog dog dog\"),\"Output: false\")\n",
    "print(sol.wordPattern(pattern = \"aaa\", s = \"aa aa aa aa\"),\"Output: false\")"
   ]
  },
  {
   "cell_type": "code",
   "execution_count": null,
   "metadata": {},
   "outputs": [],
   "source": []
  }
 ],
 "metadata": {
  "kernelspec": {
   "display_name": "Python 3",
   "language": "python",
   "name": "python3"
  },
  "language_info": {
   "codemirror_mode": {
    "name": "ipython",
    "version": 3
   },
   "file_extension": ".py",
   "mimetype": "text/x-python",
   "name": "python",
   "nbconvert_exporter": "python",
   "pygments_lexer": "ipython3",
   "version": "3.10.12"
  }
 },
 "nbformat": 4,
 "nbformat_minor": 2
}
