{
 "cells": [
  {
   "cell_type": "markdown",
   "metadata": {},
   "source": [
    "# 141. Linked List Cycle\n",
    "\n",
    "[leetcode](https://leetcode.com/problems/linked-list-cycle/)\n",
    "\n",
    "Given head, the head of a linked list, determine if the linked list has a cycle in it.\n",
    "\n",
    "There is a cycle in a linked list if there is some node in the list that can be reached again by continuously following the next pointer. Internally, pos is used to denote the index of the node that tail's next pointer is connected to. Note that pos is not passed as a parameter.\n",
    "\n",
    "Return true if there is a cycle in the linked list. Otherwise, return false.\n",
    "\n",
    "Follow up: Can you solve it using O(1) (i.e. constant) memory?\n",
    "\n",
    "# Reasoning\n",
    "\n",
    "[neetcodevideo](https://www.youtube.com/watch?v=gBTe7lFR3vc)\n",
    "\n",
    "Here the solution requires `tortoise and hare algorithm` also known as Floyd's tortoise and hare, see [wikipedia](https://en.wikipedia.org/wiki/Cycle_detection)\n",
    "\n",
    "This is a linear time O(n) problem\n",
    "\n",
    "The problem is how to detect a cycle if there is a cycle. We never encounter \"None\" as 'next'. \n",
    "Another simple idea is to maintain a `hash set` of __LODES__ not values, as values may be duplicated. This is possible as it is an object, and we can _hash an object_ in python.  \n",
    "So there are tw outcomes, we either find None or we find a cycle as a Node already existing in hash set.  \n",
    "The memory complexity of this algoritym is O(n).  \n",
    "\n",
    "To achieve a O(1) solution, is to consider the Floyd's tortoise and hare algorithm. The algorithm requires `two pointers`, slow and fast. \n",
    "\n",
    "- Slow pointer is shifted by 1\n",
    "- Fast pointer is shifted by 2\n",
    "\n",
    "If there is an end, the fast pointer will catch \"None\" and we know there is no cycle. If there is a cycle, two pointers __will inevitably meet__. \n",
    "\n",
    "This always happens and it happens in _linear time_. \n",
    "This is because if the length of the cycle is _an integer value_.  \n",
    "At each iteration of the loop _the distance between pointers decreases by 1_.  \n",
    "The largest gap is the length of the list, n-1. So the overall time complexity is O(n-1)"
   ]
  },
  {
   "cell_type": "code",
   "execution_count": null,
   "metadata": {},
   "outputs": [],
   "source": [
    "from typing import Optional\n",
    "# Definition for singly-linked list.\n",
    "class ListNode:\n",
    "    def __init__(self, x):\n",
    "        self.val = x\n",
    "        self.next = None\n",
    "\n",
    "class Solution:\n",
    "    def hasCycle(self, head: Optional[ListNode]) -> bool:\n",
    "        slow, fast = head, head\n",
    "        while fast and fast.next:\n",
    "            slow = slow.next\n",
    "            fast = fast.next.next\n",
    "            if (slow == fast):\n",
    "                return True\n",
    "        return False"
   ]
  }
 ],
 "metadata": {
  "language_info": {
   "name": "python"
  }
 },
 "nbformat": 4,
 "nbformat_minor": 2
}
