{
 "cells": [
  {
   "cell_type": "markdown",
   "metadata": {},
   "source": [
    "# 19. Remove Nth Node From End of List\n",
    "\n",
    "[leetcode](https://leetcode.com/problems/remove-nth-node-from-end-of-list/description/)\n",
    "\n",
    "Given the head of a linked list, remove the nth node from the end of the list and return its head.\n",
    "\n",
    "Follow up: Could you do this in one pass?\n",
    "\n",
    "# Reasoning\n",
    "\n",
    "[neetcodevideo](https://www.youtube.com/watch?v=XVuQxVej6y8&t=1s&ab_channel=NeetCode)\n",
    "\n",
    "__NOTE__: we need to remove a node from _the end of the list_, and _preferebly_ in one pass. \n",
    "\n",
    "A possible solution is to _reverse_ an entire linked list and remove the nth value from the beginning then. \n",
    "\n",
    "Here we can also make use of `two poineters`.  \n",
    "The way how it is done is by settings _left pointer_ at the beginning and the _right pointer_ shifted _by n_, so that when it reaches the end, we can remove the element at the first element. \n",
    "\n",
    "To delete a node we need to link the _previos with the next_.  \n",
    "\n",
    "So we need to keep a `dummy node` as a copy of the previos one at each time, so that we can use it for the left pointer. In other workds, we add a new _dymmy head_ from which we start, so that when the _second pointer_ reaches the end, we can use the first pointer directly, to link the corresponding node with the needed one\n",
    "\n",
    "The time complexity is O(n)\n",
    "\n"
   ]
  },
  {
   "cell_type": "code",
   "execution_count": null,
   "metadata": {},
   "outputs": [],
   "source": [
    "# Definition for singly-linked list.\n",
    "class ListNode:\n",
    "    def __init__(self, val=0, next=None):\n",
    "        self.val = val\n",
    "        self.next = next\n",
    "class Solution:\n",
    "    def removeNthFromEnd(self, head: [ListNode], n: int) -> [ListNode]:\n",
    "        if (n == 0):\n",
    "            return None\n",
    "        dummy = ListNode(0, head)\n",
    "\n",
    "        left = dummy\n",
    "        right = head\n",
    "        while n > 0 and right:\n",
    "            right = right.next\n",
    "            n -= 1\n",
    "\n",
    "        # shift both pointers untill we reach the end\n",
    "        while right:\n",
    "            left = left.next\n",
    "            right = right.next\n",
    "\n",
    "        # delete a node\n",
    "        left.next = left.next.next\n",
    "\n",
    "        return dummy.next\n",
    "        \n"
   ]
  }
 ],
 "metadata": {
  "language_info": {
   "name": "python"
  }
 },
 "nbformat": 4,
 "nbformat_minor": 2
}
