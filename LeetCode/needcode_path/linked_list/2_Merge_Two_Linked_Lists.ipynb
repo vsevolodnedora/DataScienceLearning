{
 "cells": [
  {
   "cell_type": "markdown",
   "metadata": {},
   "source": [
    "# 21. Merge Two Sorted Lists\n",
    "\n",
    "[leetcode](https://leetcode.com/problems/merge-two-sorted-lists/description/)\n",
    "\n",
    "You are given the heads of two sorted linked lists list1 and list2.\n",
    "\n",
    "Merge the two lists into one sorted list. The list should be made by splicing together the nodes of the first two lists.\n",
    "\n",
    "Return the head of the merged linked list.\n",
    "\n",
    "# Reasoning\n",
    "\n",
    "[neetcodevideo](https://www.youtube.com/watch?v=XIdigk956u0&t=1s&ab_channel=NeetCode)\n",
    "\n",
    "\n",
    "__NOTE__: Intuition here is to loop through both lists at the same time and \n",
    "- if you can create a new linked list, -- just link a dummy with the smallest one at this iteration\n",
    "- else, change the links of _a_ list to include the node of another. This is inswertion opeartion that can be done in O(1) time\n",
    "\n",
    "__NOTE__: In order to avoid edge cases, a _dummy_ list is required. This avoids a problem _inserting into an empty list_ \n",
    "\n",
    "So, we start with a _dummy_ node, link it with the _node with the smallest.\n",
    "\n",
    "If a given list becomes empty, we can append the entire _tail_ to the result. \n",
    "\n",
    "__NOTE__: that you need to keep track on the head, so save the _dummy_ and loop using _tail_. \n",
    "\n",
    "__NOTE__: you need to return _head_, so skip the dummy when you return it using 'dummy.next'"
   ]
  },
  {
   "cell_type": "code",
   "execution_count": null,
   "metadata": {},
   "outputs": [],
   "source": [
    "# Definition for singly-linked list.\n",
    "class ListNode:\n",
    "    def __init__(self, val=0, next=None):\n",
    "        self.val = val\n",
    "        self.next = next\n",
    "class Solution:\n",
    "    def mergeTwoLists(self, list1: [ListNode], list2: [ListNode]) -> [ListNode]:\n",
    "        # start by defining a dummy list node\n",
    "        dummy = ListNode(val=0) # save the head\n",
    "        # set tail to dummy\n",
    "        tail = dummy\n",
    "\n",
    "        while list1 and list2:\n",
    "            if list1.val < list2.val:\n",
    "                # insert and update\n",
    "                tail.next = list1\n",
    "                list1 = list1.next\n",
    "            else:\n",
    "                # insert and update\n",
    "                tail.next = list2\n",
    "                list2 = list2.next\n",
    "            # update the tail\n",
    "            tail = tail.next\n",
    "\n",
    "        # check if there are non-empty lists\n",
    "        if list1:\n",
    "            tail.next = list1\n",
    "        elif list2:\n",
    "            tail.next = list2\n",
    "        \n",
    "        # return the head, skip the dummy\n",
    "        return dummy.next\n",
    "\n",
    "\n",
    "# make "
   ]
  }
 ],
 "metadata": {
  "language_info": {
   "name": "python"
  }
 },
 "nbformat": 4,
 "nbformat_minor": 2
}
