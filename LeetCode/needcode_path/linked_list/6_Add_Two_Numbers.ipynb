{
 "cells": [
  {
   "cell_type": "markdown",
   "metadata": {},
   "source": [
    "# 2. Add Two Numbers\n",
    "\n",
    "[leetcode](https://leetcode.com/problems/add-two-numbers/description/)\n",
    "\n",
    "You are given two non-empty linked lists representing two non-negative integers. The digits are stored in reverse order, and each of their nodes contains a single digit. Add the two numbers and return the sum as a linked list.\n",
    "\n",
    "You may assume the two numbers do not contain any leading zero, except the number 0 itself.\n",
    "\n",
    "It is guaranteed that the list represents a number that does not have leading zeros.\n",
    "\n",
    "# Reasoning\n",
    "\n",
    "[neetcodevideo]\n",
    "\n",
    "My naive idea is to make a hash map  for both linked lists, where a key is the 'order'  e.g., 1, 10, 100, etc and the value is the value. \n",
    "Then perform a summation using these hash maps  \n",
    "than create a linked list for result.  \n",
    "\n",
    "__NOTE__: there are many edge cases in this problem.  \n",
    "We know that the lists are non-empty.  \n",
    "We also know that integers are non-negative  \n",
    "And digits are stored in _reverse_ order (which actually helps)\n",
    "\n",
    "_However_: linked lists may have different sizes.  \n",
    "\n",
    "__NOTE__: when performing summation, there is a carry. There is also an important edge case, where there is a carry at the end\n"
   ]
  },
  {
   "cell_type": "code",
   "execution_count": null,
   "metadata": {},
   "outputs": [],
   "source": [
    "# Definition for singly-linked list.\n",
    "from typing import Optional\n",
    "class ListNode:\n",
    "    def __init__(self, val=0, next=None):\n",
    "        self.val = val\n",
    "        self.next = next\n",
    "class Solution:\n",
    "    def addTwoNumbers(self, l1: Optional[ListNode], l2: Optional[ListNode]) -> Optional[ListNode]:\n",
    "        dummy = ListNode(0)\n",
    "        cur = dummy\n",
    "        carry = 0\n",
    "        while l1 or l2:\n",
    "            v1 = l1.val if l1 else 0\n",
    "            v2 = l2.val if l2 else 0\n",
    "            res = v1 + v2 + carry\n",
    "            carry =  res // 10\n",
    "            val = val % 10\n",
    "            cur.next = ListNode(val)\n",
    "            cur = cur.next\n",
    "            l1 = l1.next if l1 else None\n",
    "            l2 = l2.next if l2 else None\n",
    "        \n",
    "        return dummy.next\n",
    "\n"
   ]
  }
 ],
 "metadata": {
  "language_info": {
   "name": "python"
  }
 },
 "nbformat": 4,
 "nbformat_minor": 2
}
