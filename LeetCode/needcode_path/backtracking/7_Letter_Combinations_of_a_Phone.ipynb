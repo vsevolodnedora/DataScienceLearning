{
 "cells": [
  {
   "cell_type": "markdown",
   "metadata": {},
   "source": [
    "# 17. Letter Combinations of a Phone Number\n",
    "\n",
    "[leetcode](https://leetcode.com/problems/letter-combinations-of-a-phone-number/)\n",
    "\n",
    "Given a string containing digits from 2-9 inclusive, return all possible letter combinations that the number could represent. Return the answer in any order.\n",
    "\n",
    "A mapping of digits to letters (just like on the telephone buttons) is given below. Note that 1 does not map to any letters.\n",
    "\n",
    "# Reasoning\n",
    "\n",
    "[neetcodevideo](https://www.youtube.com/watch?v=0snEunUacZY&source_ve_path=Mjg2NjY&feature=emb_logo)\n",
    "\n",
    "We have a sting of digits, where each sting has _many_ characters attached. So we need to loop over all possible _combinations_ fof characters. \n",
    "\n",
    "We need to bruteforce the problem, find every single combinations, using `backtracking`.  \n",
    "\n",
    "Consder a string \"23\" and we have 2:{a,b,c} and 3:{d,e,f}, so we need a `hashmap` to map numbers to possible characters. This map would have to hard coded.  \n",
    "\n",
    "The problem with \"23\" we start with \"2\" and build the tree with thee braches \"a\", \"b\", \"d\". Then, from each of those we build new subtrees by attaching either of the \"d\", \"e\", \"f\".  \n",
    "In the end we combine the all possible substrings we get. \n",
    "\n",
    "The time complexity is the number of combinations. For a string length n, we will have 4^n as the maximim number of choices for a number is 4. The length of each sting that we form will be n, so the overall time complexity is O(n*4^n). \n",
    "\n"
   ]
  },
  {
   "cell_type": "code",
   "execution_count": null,
   "metadata": {},
   "outputs": [],
   "source": [
    "from typing import List\n",
    "class Solution:\n",
    "    def letterCombinations(self, digits: str) -> List[str]:\n",
    "        res = []\n",
    "        numToChar = {\n",
    "            \"2\":\"abc\",\n",
    "            \"3\":\"def\",\n",
    "            \"4\":\"ghi\",\n",
    "            \"5\":\"jkl\",\n",
    "            \"6\":\"mno\",\n",
    "            \"7\":\"qprs\",\n",
    "            \"8\":\"tuv\",\n",
    "            \"9\":\"wxyz\"\n",
    "        }\n",
    "        def backtrack(i, cur_string):\n",
    "            \"\"\" i is the index of a digid we are on \"\"\"\n",
    "            # base cases\n",
    "            if (i>=len(digits)):\n",
    "                res.append(cur_string[::])\n",
    "                return\n",
    "            if (len(cur_string) == len(digits)):\n",
    "                # we mapped every number to a certain character\n",
    "                res.append(cur_string[::])\n",
    "                return\n",
    "            # recursive case: keep building the current string\n",
    "            \n",
    "            # map the i-th digit to list of characters\n",
    "            chars = numToChar[digits[i]]\n",
    "            # backtrack for every character in the string\n",
    "            for c in chars:\n",
    "                backtrack(i+1, cur_string + c)\n",
    "        \n",
    "        if digits:\n",
    "            # aboid the empty digitis, as we do not need [\"\"]\n",
    "            backtrack(0,\"\")\n",
    "        return res\n",
    "            \n",
    "        "
   ]
  }
 ],
 "metadata": {
  "language_info": {
   "name": "python"
  }
 },
 "nbformat": 4,
 "nbformat_minor": 2
}
