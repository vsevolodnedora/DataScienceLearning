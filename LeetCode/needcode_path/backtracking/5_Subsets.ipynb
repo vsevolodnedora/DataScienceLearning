{
 "cells": [
  {
   "cell_type": "markdown",
   "metadata": {},
   "source": [
    "# 90. Subsets II\n",
    "\n",
    "[leetcode](https://leetcode.com/problems/subsets-ii/)\n",
    "\n",
    "Given an integer array nums that may contain duplicates, return all possible \n",
    "subsets (the power set). E.g., A subset of an array is a selection of elements (possibly none) of the array.\n",
    "\n",
    "The solution set must not contain duplicate subsets. Return the solution in any order.\n",
    "\n",
    "# Reasoning\n",
    "\n",
    "[neetcodevideo](https://www.youtube.com/watch?v=Vn2v6ajA7U0)\n",
    "\n",
    "In the first problem we did not have duplicates. However, we still need to have subsets without duplicates. \n",
    "\n",
    "Note a power set _preserves_ the order of the original set. \n",
    "\n",
    "__NOTE__ we cannot do dynamic solution, as we need to _create_ a subset.  \n",
    "\n",
    "The overall time compelxity. to generate a subset for each value depends on whether we either include or not include the value. in total we will have 2^n subsets. The maximum length of a subset is n. Thus, __overall time comeplxity__ is O(n * 2^n). \n",
    "\n",
    "This suggests that we need to use a brute force, `backtracking` solution.  \n",
    "\n",
    "To create all possible subsets, considering a `decision tree` we decide whether we will or will not include a given nimber.  \n",
    "We start with a pointer at a given number and split the tree with two branches \n",
    "- Add number\n",
    "- Do not add number. \n",
    "From each of the subbranches we move the pointer and decide whether we add or do not add the next number.  We keep building tree untill no more numbers left in the original list.  \n",
    "\n",
    "__NOTE__: this way leads to creating duplicates as the original list has duplicates. The way to avoid it is to _pop_ the value from the original list if we _do include it_. If we do not inluce it, we do not pop.   \n",
    "\n",
    "__NOTE__: since the original list has duplicates, we need to remember that we used a certain value. This can be accomplished by shifting the pointer by N where N is the number of duplicates. \n",
    " \n",
    "__NOTE__: this requires the input list _to be sorted_ which is not guaranteed. So we need to sort the input array. The time complexity of `merge sort` for example, is O(n*log(n)).  \n",
    "\n",
    "So the trick here is to perform a sroting of the input array and then shoft pointer in the original list skipping repititon, and building the dexision tree recursively via backtracking.  \n",
    "\n",
    "\n"
   ]
  },
  {
   "cell_type": "code",
   "execution_count": 6,
   "metadata": {},
   "outputs": [
    {
     "name": "stdout",
     "output_type": "stream",
     "text": [
      "[[1, 2, 2], [1, 2], [1], [2, 2], [2], []] Output: [[],[1],[1,2],[1,2,2],[2],[2,2]]\n",
      "[[0], []] Output: [[],[0]]\n"
     ]
    }
   ],
   "source": [
    "from typing import List\n",
    "class Solution:\n",
    "    def subsetsWithDup(self, nums: List[int]) -> List[List[int]]:\n",
    "        res = []\n",
    "        nums.sort() # sort the input array\n",
    "        # define the backtracking\n",
    "        def backtrack(i,subset):\n",
    "            # take care of the base case\n",
    "            if i == len(nums): # out of bounds\n",
    "                res.append(subset[::]) # prevent overwriting in the future backtraing\n",
    "                return \n",
    "            # recursive case with two decisions\n",
    "\n",
    "            # All subsets that include nums[i]\n",
    "            subset.append(nums[i])\n",
    "            backtrack(i+1,subset) \n",
    "\n",
    "            # cleanup\n",
    "            subset.pop()\n",
    "\n",
    "            # move pointer to skip over duplicates\n",
    "            while (i+1 < len(nums)) and (nums[i] == nums[i+1]):\n",
    "                i+=1\n",
    "\n",
    "            # All subsets that DO NOT include nums[i]\n",
    "            # even if i reached the end, we still need to add the empty list \n",
    "            backtrack(i+1, subset)\n",
    "        backtrack(0, [])\n",
    "        return res\n",
    "        \n",
    "sol = Solution()\n",
    "print(sol.subsetsWithDup([1,2,2]),\"Output: [[],[1],[1,2],[1,2,2],[2],[2,2]]\")\n",
    "print(sol.subsetsWithDup([0]),\"Output: [[],[0]]\")\n",
    "\n",
    "        "
   ]
  },
  {
   "cell_type": "code",
   "execution_count": null,
   "metadata": {},
   "outputs": [],
   "source": []
  }
 ],
 "metadata": {
  "kernelspec": {
   "display_name": "Python 3",
   "language": "python",
   "name": "python3"
  },
  "language_info": {
   "codemirror_mode": {
    "name": "ipython",
    "version": 3
   },
   "file_extension": ".py",
   "mimetype": "text/x-python",
   "name": "python",
   "nbconvert_exporter": "python",
   "pygments_lexer": "ipython3",
   "version": "3.10.12"
  }
 },
 "nbformat": 4,
 "nbformat_minor": 2
}
