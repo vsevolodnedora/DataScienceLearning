{
 "cells": [
  {
   "cell_type": "markdown",
   "metadata": {},
   "source": [
    "131. Palindrome Partitioning\n",
    "\n",
    "[leetcode](https://leetcode.com/problems/palindrome-partitioning/)\n",
    "\n",
    "Given a string s, partition s such that every substring  of the partition is a \n",
    "palindrome. Return all possible palindrome partitioning of s.\n",
    "\n",
    "# Reasoning\n",
    "\n",
    "[neetcodevideo](https://www.youtube.com/watch?v=3jvWodd7ht0&t=1s)\n",
    "\n",
    "The best solution here is the `backtracking` with `dfs` where we go through all partitions (by adding one at at time) and seeing if it is a palindrom. \n",
    "\n",
    "1. partition: just one letter, first letter\n",
    "2. partition first two letters \n",
    "3. three letters\n",
    "\n",
    "For each substring we keep checking if the first and the last characters are the same, as this is the requirement for a palindrom.  \n",
    "\n",
    "If a given partition is a palindrom we add remaining character and see if the formed substing is a palindrom.  \n",
    "\n",
    "The time complexity is O(2^n)"
   ]
  },
  {
   "cell_type": "code",
   "execution_count": null,
   "metadata": {},
   "outputs": [],
   "source": [
    "from typing import List\n",
    "class Solution:\n",
    "    def is_palindrom(self, s, l, r):\n",
    "        \"\"\"check if it is a palindrom\"\"\"\n",
    "        while l < r:\n",
    "            if (s[l] != s[r]):\n",
    "                return False\n",
    "            l,r=l+1,r-1\n",
    "        return True\n",
    "    \n",
    "    def partition(self, s: str) -> List[List[str]]:\n",
    "        res = []\n",
    "        part = [] # curent partition\n",
    "        # create a nested dfs\n",
    "        def dfs(i):\n",
    "            \"\"\" i is the current index we are at \"\"\"\n",
    "            # for recursive function, consider base cases\n",
    "            if i >= len(s): # out of bounds\n",
    "                # this is valid partition and no more characters to add\n",
    "                res.append(part[::])\n",
    "                return\n",
    "            # iterate over every other charecter \n",
    "            for j in range(i, len(s)):\n",
    "                # use a helper function to check if it is a palindrom s[i:j+1]\n",
    "                is_palindrom = self.is_palindrom(s, i, j)\n",
    "                if is_palindrom:\n",
    "                    # add currently found partition\n",
    "                    part.append(s[i:j+1])\n",
    "                    # recursively repeat the search\n",
    "                    dfs(j+1)\n",
    "                    # clean up (removed the added string)\n",
    "                    part.pop()\n",
    "        dfs(0)\n",
    "        return res\n",
    "\n"
   ]
  }
 ],
 "metadata": {
  "language_info": {
   "name": "python"
  }
 },
 "nbformat": 4,
 "nbformat_minor": 2
}
