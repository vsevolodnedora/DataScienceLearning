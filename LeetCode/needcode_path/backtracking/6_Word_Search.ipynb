{
 "cells": [
  {
   "cell_type": "markdown",
   "metadata": {},
   "source": [
    "# 79. Word Search\n",
    "\n",
    "[leetcode](https://leetcode.com/problems/word-search/)\n",
    "\n",
    "Given an m x n grid of characters board and a string word, return true if word exists in the grid.\n",
    "\n",
    "The word can be constructed from letters of sequentially adjacent cells, where adjacent cells are horizontally or vertically neighboring. The same letter cell may not be used more than once.\n",
    "\n",
    "# Reasoning\n",
    "\n",
    "[neetcodevideo](https://www.youtube.com/watch?v=pfiQ_PS1g8E&t=1s)\n",
    "\n",
    "Find a _path_ inside a board. A path consists of adjacnet cells.  \n",
    "\n",
    "There is no super efficient algorithm for this problem.  \n",
    "\n",
    "A second best solution is `recursive backtracking`: start with a word first letter, find it, then check all sides untill we find the second. \n",
    "\n",
    "__NOTE__: we cannot reuse characters. \n",
    "\n",
    "We use `recursive DFS` for this problem"
   ]
  },
  {
   "cell_type": "code",
   "execution_count": null,
   "metadata": {},
   "outputs": [],
   "source": [
    "from typing import List\n",
    "class Solution:\n",
    "    def exist(self, board: List[List[str]], word: str) -> bool:\n",
    "        # first, get dimensions\n",
    "        ROWS, COLS = len(board), len(board[0])\n",
    "        # use a data structure to keep track on what characters we added to the path \n",
    "        # so we do not revisit the same cahracter\n",
    "        path = set()\n",
    "        # define recursive dfs\n",
    "        def dfs(r, c, i):\n",
    "            # check if we  reached the end of the board\n",
    "            if i == len(word):\n",
    "                return True\n",
    "            if (r < 0 or c < 0 or r >= ROWS or c >= COLS  # check of we out of bounds\n",
    "                or word[i]!=board[r][c] # check if we found wrong character\n",
    "                or (r,c) in path # check if reuse the board position \n",
    "                ): \n",
    "                return False\n",
    "            # add current path position\n",
    "            path.add((r,c))\n",
    "            \n",
    "            # check recursive calls for all 4 adjacent positions\n",
    "            res_r = dfs(r+1,c,i+1)\n",
    "            res_l = dfs(r-1,c,i+1)\n",
    "            res_u = dfs(r,c+1,i+1)\n",
    "            res_d = dfs(r,c-1,i+1)\n",
    "\n",
    "            # clean up\n",
    "            path.remove((r,c))\n",
    "\n",
    "            return res_r | res_l | res_u | res_d\n",
    "        \n",
    "        # brute force solution: rund DFS for each position in the grid\n",
    "        # Time complexity of this solution is O(M*N) times the O(DFS)\n",
    "        # The callstack of the DFS is the length of the word\n",
    "        # In DFS we call DFS 4 times so the overall call  stack takes O(4^n)\n",
    "        for r in range(ROWS):\n",
    "            for c in range(COLS):\n",
    "                is_found = dfs(r,c,0)\n",
    "                if is_found:\n",
    "                    return is_found\n",
    "        \n",
    "        return False"
   ]
  }
 ],
 "metadata": {
  "language_info": {
   "name": "python"
  }
 },
 "nbformat": 4,
 "nbformat_minor": 2
}
