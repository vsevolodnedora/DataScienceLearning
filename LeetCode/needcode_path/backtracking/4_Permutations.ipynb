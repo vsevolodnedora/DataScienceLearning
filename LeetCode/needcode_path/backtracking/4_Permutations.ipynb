{
 "cells": [
  {
   "cell_type": "markdown",
   "metadata": {},
   "source": [
    "# 46. Permutations\n",
    "\n",
    "[leetcode](https://leetcode.com/problems/permutations/)\n",
    "\n",
    "Given an array nums of distinct integers, return all the possible permutations. You can return the answer in any order.  \n",
    "All the integers of nums are unique.\n",
    "\n",
    "# Reasoning\n",
    "\n",
    "[neetcodevideo](https://www.youtube.com/watch?v=s7AvT7cGdSo)\n",
    "\n",
    "Numer of permutations, matematically, is N! So for 3 it is value 6; \n",
    "\n",
    "Coding-wise we can try building a `decision tree`, where we remember what values we picked so we do not pick it again.  \n",
    "\n",
    "We can start with the tree, where each branch is build by removing one number from the original list.  \n",
    "Than we go down untill only one nuber left.  \n",
    "Than we go back and _add_ the removed value back at the end of the list. \n",
    "Thus, `recursively` we build a list of removed values, but starting from the individual value at the leaf of the tree.  \n",
    "This is a `backtracking` solution\n"
   ]
  },
  {
   "cell_type": "code",
   "execution_count": null,
   "metadata": {},
   "outputs": [],
   "source": [
    "from typing import *\n",
    "class Solution:\n",
    "    def permute(self, nums: List[int]) -> List[List[int]]:\n",
    "        res = []\n",
    "        # base case \n",
    "        if (len(nums) == 1):\n",
    "            return [nums[:]]\n",
    "        \n",
    "        # go through every value in the list:\n",
    "        for i in range(len(nums)):\n",
    "            # pop the value from the list to get permutations of the left two values\n",
    "            n = nums.pop(0)\n",
    "            # do recursive calls\n",
    "            perms = self.permute(nums) # with n-1 values\n",
    "            # go through each permutations and append the removied value (2 permutations)\n",
    "            for perm in perms:\n",
    "                perm.append(n)\n",
    "            # add multiple values to the list\n",
    "            res.extend(perms)\n",
    "            # add element bakc to the nums (at the end of the array)\n",
    "            nums.append(n)\n",
    "        return res\n",
    "        \n"
   ]
  }
 ],
 "metadata": {
  "language_info": {
   "name": "python"
  }
 },
 "nbformat": 4,
 "nbformat_minor": 2
}
