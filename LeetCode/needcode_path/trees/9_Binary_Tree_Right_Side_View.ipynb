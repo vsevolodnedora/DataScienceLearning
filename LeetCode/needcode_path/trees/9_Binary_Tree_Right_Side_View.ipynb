{
 "cells": [
  {
   "cell_type": "markdown",
   "metadata": {},
   "source": [
    "# 199. Binary Tree Right Side View\n",
    "\n",
    "[leetcode](https://leetcode.com/problems/binary-tree-right-side-view/)\n",
    "\n",
    "Given the root of a binary tree, imagine yourself standing on the right side of it, return the values of the nodes you can see ordered from top to bottom.\n",
    "\n",
    "# Reasoning\n",
    "\n",
    "[neetcodevideo](https://www.youtube.com/watch?v=d4zLyf32e3I&t=11s&ab_channel=NeetCode)\n",
    "\n",
    "__NOTE__: in this problem an intuitive DFS does not work as if a left subtree is longer than the right one, we would not get to it.  \n",
    "Because of that a `BFS level-order traversal` algorithm is better.  \n",
    "\n",
    "It is implemented with `queue` data structure.  \n",
    "\n",
    "_Remember_: in DFS you __pop from the left, add to the right__, and you loop over __qLen()__ \n",
    "\n",
    "_To recap, the BFS is:_ \n",
    "- init queue with the root;\n",
    "- while queue:\n",
    "    - for _ in length(queue):\n",
    "        - popleft node from the qeueu and if node:\n",
    "        - append 1. left 2. right to the queue\n"
   ]
  },
  {
   "cell_type": "code",
   "execution_count": null,
   "metadata": {},
   "outputs": [],
   "source": [
    "# Definition for a binary tree node.\n",
    "# class TreeNode:\n",
    "#     def __init__(self, val=0, left=None, right=None):\n",
    "#         self.val = val\n",
    "#         self.left = left\n",
    "#         self.right = right\n",
    "class Solution:\n",
    "    def rightSideView(self, root: Optional[TreeNode]) -> List[int]:\n",
    "        res = []\n",
    "        if not root: \n",
    "            return res\n",
    "        deque = collections.deque()\n",
    "        deque.append(root)\n",
    "        while deque:\n",
    "            qlen = len(deque)\n",
    "            right_most = None\n",
    "            for _ in range(qlen):\n",
    "                # pop every node of the level\n",
    "                node = deque.popleft()\n",
    "                if node:\n",
    "                    # store (note, we visit right last)\n",
    "                    right_most = node\n",
    "                    # add children of the level\n",
    "                    deque.append(node.left)\n",
    "                    deque.append(node.right)\n",
    "\n",
    "            if right_most: \n",
    "                res.append(right_most.val)\n",
    "        return res"
   ]
  }
 ],
 "metadata": {
  "language_info": {
   "name": "python"
  }
 },
 "nbformat": 4,
 "nbformat_minor": 2
}
