{
 "cells": [
  {
   "cell_type": "markdown",
   "metadata": {},
   "source": [
    "# 226. Invert Binary Tree\n",
    "\n",
    "[leetcode](https://leetcode.com/problems/invert-binary-tree/description/)\n",
    "\n",
    "Given the root of a binary tree, invert the tree, and return its root.\n",
    "\n",
    "\n",
    "# Reasoning\n",
    "\n",
    "[neetcode](https://www.youtube.com/watch?v=OnSn2XEQ4MY&ab_channel=NeetCode)\n",
    "\n",
    "\n",
    "__Note__: inverting a tree is chaning the children, while the _toor_ stays the same. Also note that this is the reqursive problem where at each brach you iver the leafs.  \n",
    "So, in other words, at each tree veision, the leafs are swaped at the inversion. Left becomes right and right becoms left. \n",
    "\n",
    "Algorithmically, this means, _visit every node in the tree_ and each time you visit a node, _invert_ or _swap_ the children.\n",
    "This process is `recursive` as when we go deeper into the tree we repeat the process. This is a `depth-first search` algorithm.  \n",
    "\n",
    "The fact that we can do it recursively is _good_. \n"
   ]
  },
  {
   "cell_type": "code",
   "execution_count": null,
   "metadata": {},
   "outputs": [],
   "source": [
    "# Definition for a binary tree node.\n",
    "class TreeNode:\n",
    "    def __init__(self, val=0, left=None, right=None):\n",
    "        self.val = val\n",
    "        self.left = left\n",
    "        self.right = right\n",
    "from typing import Optional\n",
    "class Solution:\n",
    "    def invertTree(self, root: Optional[TreeNode]) -> Optional[TreeNode]:\n",
    "        if not root: return None\n",
    "        # swap the children of the current root node\n",
    "        tmp = root.left\n",
    "        tmp2 = root.right\n",
    "        root.right = tmp\n",
    "        root.left = tmp2\n",
    "\n",
    "        # now, recursively, invert subtries\n",
    "        self.invertTree(root.left)\n",
    "        self.invertTree(root.right)\n",
    "\n",
    "        return root\n",
    "\n"
   ]
  }
 ],
 "metadata": {
  "language_info": {
   "name": "python"
  }
 },
 "nbformat": 4,
 "nbformat_minor": 2
}
