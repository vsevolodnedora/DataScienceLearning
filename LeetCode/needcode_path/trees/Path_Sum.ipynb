{
 "cells": [
  {
   "cell_type": "markdown",
   "metadata": {},
   "source": [
    "# 112. Path Sum\n",
    "\n",
    "[leetcode](https://leetcode.com/problems/path-sum/)\n",
    "\n",
    "Given the root of a binary tree and an integer targetSum, return true if the tree has a root-to-leaf path such that adding up all the values along the path equals targetSum.\n",
    "\n",
    "A leaf is a node with no children.\n",
    "\n",
    "# Reasoning\n",
    "\n",
    "[neetcodevideo](https://www.youtube.com/watch?v=LSKQyOz_P8I&t=1s&ab_channel=NeetCode)\n",
    "\n",
    "__NOTE__ this is a binary tree, but not a binary search tree. We cannot assume order. We must go _through every single node of the tree_. We need to check _every single path_. \n",
    "We start at the root, go to the left r right. Add to the path, go to after that to either left or right. \n",
    "\n",
    "We have to perform _in-order traversal_. \n",
    "\n"
   ]
  },
  {
   "cell_type": "code",
   "execution_count": null,
   "metadata": {},
   "outputs": [],
   "source": [
    "# Definition for a binary tree node.\n",
    "from typing import *\n",
    "class TreeNode:\n",
    "    def __init__(self, val=0, left=None, right=None):\n",
    "        self.val = val\n",
    "        self.left = left\n",
    "        self.right = right\n",
    "class Solution:\n",
    "    def hasPathSum(self, root: Optional[TreeNode], targetSum: int) -> bool:\n",
    "        \n",
    "        def dfs(node, cur_sum):\n",
    "            if not node:\n",
    "                return False\n",
    "            cur_sum += node.val\n",
    "            # check if leaf node\n",
    "            if (not node.left and not node.right):\n",
    "                # we cannot continue with dfs so\n",
    "                return True if cur_sum == targetSum else False\n",
    "            \n",
    "            is_left = dfs(node.left, cur_sum)\n",
    "\n",
    "            is_right = dfs(node.right, cur_sum)\n",
    "            \n",
    "            return is_left or is_right\n",
    "\n",
    "        return dfs(root, 0)"
   ]
  }
 ],
 "metadata": {
  "language_info": {
   "name": "python"
  }
 },
 "nbformat": 4,
 "nbformat_minor": 2
}
