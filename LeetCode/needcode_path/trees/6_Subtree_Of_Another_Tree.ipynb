{
 "cells": [
  {
   "cell_type": "markdown",
   "metadata": {},
   "source": [
    "# 572. Subtree of Another Tree\n",
    "\n",
    "[leetcode](https://leetcode.com/problems/subtree-of-another-tree/)\n",
    "\n",
    "Given the roots of two binary trees root and subRoot, return true if there is a subtree of root with the same structure and node values of subRoot and false otherwise.\n",
    "\n",
    "A subtree of a binary tree tree is a tree that consists of a node in tree and all of this node's descendants. The tree tree could also be considered as a subtree of itself.\n",
    "\n",
    "# Reasoning\n",
    "\n",
    "[neetcodevideo](https://www.youtube.com/watch?v=E36O5SWp-LE&t=1s)\n",
    "\n",
    "A brootforce solution is to check every single node on the larger tree whether a given node is a root of another tree. \n",
    "\n",
    "So For each position in the S tree we would need to run the comparison, so iterated over T.  \n",
    "The overall time complexity of this algorithm is O(s*t)  \n",
    "\n",
    "__NOTE__: most tree problems are easiest to understand when thinking about them recursively.  \n",
    "\n",
    "__NOTE__: this problem can be solved using the previos __5_SAME_TREE__ problem, as a helper function\n",
    "\n",
    "__NOTE__: in recursive problems it is very important to treat edge keys:\n",
    "- If both trees are Null: - they are the same\n",
    "- If T has an extra node while otherwise being the same: - no the same\n",
    "- If S is Null and T is not: - Not the same \n",
    "- If T is Null and S is not: - It is the same \n",
    "\n",
    "Overall, solving this problem requires _two recursive_ functions. First one t ocomapre two trees, and the second one to go throug the S tree."
   ]
  },
  {
   "cell_type": "code",
   "execution_count": null,
   "metadata": {},
   "outputs": [],
   "source": [
    "# Definition for a binary tree node.\n",
    "from typing import Optional\n",
    "class TreeNode:\n",
    "    def __init__(self, val=0, left=None, right=None):\n",
    "        self.val = val\n",
    "        self.left = left\n",
    "        self.right = right\n",
    "class Solution:\n",
    "    def isSameTree(self, s, t):\n",
    "        if s and t and \\\n",
    "            s.val == t.val and \\\n",
    "            self.isSameTree(s.left,t.left) and \\\n",
    "            self.isSameTree(s.right, t.right):\n",
    "            return True\n",
    "        elif not s and not t:\n",
    "            return True\n",
    "        else:\n",
    "            return False\n",
    "\n",
    "\n",
    "    def isSubtree(self, root: Optional[TreeNode], subRoot: Optional[TreeNode]) -> bool:\n",
    "        if not subRoot:\n",
    "            return True\n",
    "        if not root: # see simplifcation with previos statement\n",
    "            return False\n",
    "        if (self.isSameTree(root,subRoot)):\n",
    "            return True\n",
    "        # go through the root tree\n",
    "        if ( self.isSubtree(root.left, subRoot) ) or \\\n",
    "           ( self.isSubtree(root.right, subRoot)):\n",
    "            return True\n",
    "        return False\n",
    "        \n",
    "        \n",
    "        "
   ]
  }
 ],
 "metadata": {
  "language_info": {
   "name": "python"
  }
 },
 "nbformat": 4,
 "nbformat_minor": 2
}
