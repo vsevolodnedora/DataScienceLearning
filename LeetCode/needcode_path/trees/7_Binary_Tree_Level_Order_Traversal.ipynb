{
 "cells": [
  {
   "cell_type": "markdown",
   "metadata": {},
   "source": [
    "# 102. Binary Tree Level Order Traversal\n",
    "\n",
    "[leetcode](https://leetcode.com/problems/binary-tree-level-order-traversal/)\n",
    "\n",
    "Given the root of a binary tree, return the level order traversal of its nodes' values. (i.e., from left to right, level by level).\n",
    "\n",
    "# Reasoning\n",
    "\n",
    "[neetcodevideo](https://www.youtube.com/watch?v=6ZnyEApgFYg&t=3s&ab_channel=NeetCode)\n",
    "\n",
    "The key here is to know that you need to use `BFS algorithm`__level-order traversal__\n",
    "\n",
    "This algorithm requires a `queue datastructure` where we insert elements to the right and popping from the left. e.g., _first in first out_. \n",
    "\n",
    "Go though the _level_, populate the _queue_, at the end, pop the _queue_ and append to the list of results. Once qeue is empty, move to the next level.  \n",
    "Thus, we create a _sublist_ for every single level. \n",
    "\n",
    "The time complexity of the algorithm is O(n)\n",
    "\n",
    "Memory complexity is O(n/2) = O(n)\n",
    "\n",
    "\n",
    "\n"
   ]
  },
  {
   "cell_type": "code",
   "execution_count": 2,
   "metadata": {},
   "outputs": [],
   "source": [
    "# # Definition for a binary tree node.\n",
    "class TreeNode:\n",
    "    def __init__(self, val=0, left=None, right=None):\n",
    "        self.val = val\n",
    "        self.left = left\n",
    "        self.right = right\n",
    "from typing import Optional, List, collections\n",
    "class Solution:\n",
    "    def levelOrder(self, root: Optional[TreeNode]) -> List[List[int]]:\n",
    "        res = []\n",
    "        # initialize queue\n",
    "        q = collections.deque()\n",
    "        # append the root node\n",
    "        q.append(root)\n",
    "        # initilize the loop over the levels\n",
    "        while q:\n",
    "            # check the lendth of the que to know when level we are on\n",
    "            q_l = len(q)\n",
    "            # init list of values at this level \n",
    "            level = []\n",
    "            # loop through nodes of the level:\n",
    "            for i in range(q_l):\n",
    "                # remove the node and replace with its children\n",
    "                node = q.popleft()\n",
    "                if node:\n",
    "                    q.append(node.left)\n",
    "                    q.append(node.right)\n",
    "                    level.append(node.val)\n",
    "            # append the level values to the result\n",
    "            if level:\n",
    "                res.append(level)\n",
    "        return res\n"
   ]
  },
  {
   "cell_type": "code",
   "execution_count": null,
   "metadata": {},
   "outputs": [],
   "source": []
  }
 ],
 "metadata": {
  "kernelspec": {
   "display_name": "Python 3",
   "language": "python",
   "name": "python3"
  },
  "language_info": {
   "codemirror_mode": {
    "name": "ipython",
    "version": 3
   },
   "file_extension": ".py",
   "mimetype": "text/x-python",
   "name": "python",
   "nbconvert_exporter": "python",
   "pygments_lexer": "ipython3",
   "version": "3.10.12"
  }
 },
 "nbformat": 4,
 "nbformat_minor": 2
}
