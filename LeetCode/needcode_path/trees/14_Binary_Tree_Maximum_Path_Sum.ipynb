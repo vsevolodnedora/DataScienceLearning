{
 "cells": [
  {
   "cell_type": "markdown",
   "metadata": {},
   "source": [
    "# 124. Binary Tree Maximum Path Sum\n",
    "\n",
    "[leetcode](https://leetcode.com/problems/binary-tree-maximum-path-sum/)\n",
    "\n",
    "A path in a binary tree is a sequence of nodes where each pair of adjacent nodes in the sequence has an edge connecting them. A node can only appear in the sequence at most once. Note that the path does not need to pass through the root.\n",
    "\n",
    "The path sum of a path is the sum of the node's values in the path.\n",
    "\n",
    "Given the root of a binary tree, return the maximum path sum of any non-empty path.\n",
    "\n",
    "# Reasoning\n",
    "\n",
    "[neetcodevideo](https://www.youtube.com/watch?v=Hr5cWUld4vU&ab_channel=NeetCode)\n",
    "\n",
    "__NOTE__: \n",
    "\n",
    "- This problem has a `recursive DFS` solution with time complexity O(n) and space complexity O(h), where h is the height of the tree. \n",
    "- In this problem we can split only oncestarting at a given rout. \n",
    "- Numbers can be _negative_. \n",
    "\n",
    "__NOTE__: this problem requires two main tricks\n",
    "- At a given root node we can split only once. After that we have to traverse the tree only _along a single branch_.\n",
    "\n",
    "`!` Main trick in this problem is that in your `recrusive dfs` you compute max val __with__ splitting but return maximim __without__ splitting\n",
    "\n",
    "`!` To avoid using _gloabal variable_ your recursive dfs should return 2 variablels: with and without split. "
   ]
  },
  {
   "cell_type": "code",
   "execution_count": null,
   "metadata": {},
   "outputs": [],
   "source": [
    "# Definition for a binary tree node.\n",
    "class TreeNode:\n",
    "    def __init__(self, val=0, left=None, right=None):\n",
    "        self.val = val\n",
    "        self.left = left\n",
    "        self.right = right\n",
    "from typing import *\n",
    "class Solution:\n",
    "    def maxPathSum(self, root: Optional[TreeNode]) -> int:\n",
    "        res=[root.val]\n",
    "        # define recursive dfs\n",
    "        def dfs(root):\n",
    "            if not root:\n",
    "                return 0 # do not add anything\n",
    "            # max path whtout splitting\n",
    "            leftMax = dfs(root.left)\n",
    "            rightMax = dfs(root.right)\n",
    "            # update maxes to explude zeroes from calcs\n",
    "            leftMax = max(leftMax, 0)\n",
    "            rightMax = max(rightMax, 0)\n",
    "            # compute max path WITH the split from this split:\n",
    "            val = root.val + leftMax + rightMax\n",
    "            # update result if larger:\n",
    "            res[0] = max(res[0],val)\n",
    "            # NOTE the return from this func is WITHOUT splitting\n",
    "            val_return = root.val + max(leftMax,rightMax)\n",
    "            return val_return\n",
    "        dfs(root)\n",
    "        return res[0]"
   ]
  }
 ],
 "metadata": {
  "language_info": {
   "name": "python"
  }
 },
 "nbformat": 4,
 "nbformat_minor": 2
}
