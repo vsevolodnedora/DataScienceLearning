{
 "cells": [
  {
   "cell_type": "markdown",
   "metadata": {},
   "source": [
    "\n",
    "# 235. Lowest Common Ancestor of a Binary Search Tree\n",
    "\n",
    "[leetcode](https://leetcode.com/problems/lowest-common-ancestor-of-a-binary-search-tree/)\n",
    "\n",
    "Given a binary search tree (BST), find the lowest common ancestor (LCA) node of two given nodes in the BST.\n",
    "\n",
    "According to the definition of LCA on Wikipedia: “The lowest common ancestor is defined between two nodes p and q as the lowest node in T that has both p and q as descendants (where we allow a node to be a descendant of itself).”\n",
    "\n",
    "# Reasoning\n",
    "\n",
    "[neetcodevideo](https://www.youtube.com/watch?v=gs2LMfuOR9k&ab_channel=NeetCode)\n",
    "\n",
    "Start at the root, as the root is _always_ a LCA of itself. \n",
    "\n",
    "__NOTE__: if a given _value < root.val_: continue search on the _left_. If _vaue > root.val_ -> go to the right. Else; return root. \n",
    "Is this a property of a _binary search tree_?..  \n",
    "This is the trick here.  \n",
    "\n",
    "If a val == root.val: then this node is the LCA. \n",
    "\n",
    "So the problem can be seen as searching for the _split node_ where one branch is < than the larger value of the two given and the other is >=. \n",
    "\n",
    "__NOTE__: this soltion is O(log(n)), as we cut the tree in half each time we make the selection. Memory complexity is (1)\n",
    "\n",
    "\n"
   ]
  },
  {
   "cell_type": "code",
   "execution_count": null,
   "metadata": {},
   "outputs": [],
   "source": [
    "# Definition for a binary tree node.\n",
    "class TreeNode:\n",
    "    def __init__(self, x):\n",
    "        self.val = x\n",
    "        self.left = None\n",
    "        self.right = None\n",
    "from typing import Optional\n",
    "class Solution:\n",
    "    def lowestCommonAncestor(self, root: 'TreeNode', p: 'TreeNode', q: 'TreeNode') -> 'TreeNode':\n",
    "\n",
    "        cur = root\n",
    "        while cur:\n",
    "            if p.val > cur.val and q.val > cur.val:\n",
    "                cur = cur.right\n",
    "            elif p.val < cur.val and q.val < cur.val:\n",
    "                cur = cur.left\n",
    "            else:\n",
    "                # split occurs\n",
    "                return cur\n",
    "\n",
    "        \n"
   ]
  }
 ],
 "metadata": {
  "language_info": {
   "name": "python"
  }
 },
 "nbformat": 4,
 "nbformat_minor": 2
}
