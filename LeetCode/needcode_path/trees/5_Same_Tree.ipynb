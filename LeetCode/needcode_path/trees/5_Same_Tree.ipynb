{
 "cells": [
  {
   "cell_type": "markdown",
   "metadata": {},
   "source": [
    "# 100. Same Tree\n",
    "\n",
    "[leetcode](https://leetcode.com/problems/same-tree/submissions/)\n",
    "\n",
    "Given the roots of two binary trees p and q, write a function to check if they are the same or not.\n",
    "\n",
    "Two binary trees are considered the same if they are structurally identical, and the nodes have the same value.\n",
    "\n",
    "# Reasoning\n",
    "\n",
    "[neetcodevideo](https://www.youtube.com/watch?v=vRbbcKXCxOw&t=1s)\n",
    "\n",
    "I solved this problem by following the previos two and just doing `recursive DFS` and checking both branches of a tree and if both exist, also the values, and keeping the score if it is valid. \n",
    "\n",
    "Neetcode also suggests a recurisve solution. \n",
    "\n",
    "The time complexity is O(p+q) "
   ]
  },
  {
   "cell_type": "code",
   "execution_count": null,
   "metadata": {},
   "outputs": [],
   "source": [
    "# Definition for a binary tree node.\n",
    "class TreeNode:\n",
    "    def __init__(self, val=0, left=None, right=None):\n",
    "        self.val = val\n",
    "        self.left = left\n",
    "        self.right = right\n",
    "from typing import Optional\n",
    "class Solution:\n",
    "    def isSameTree(self, p: Optional[TreeNode], q: Optional[TreeNode]) -> bool:\n",
    "        is_same = [1]\n",
    "        if (not p) or (not q):\n",
    "            return False\n",
    "        def dfs(p_root, q_root):\n",
    "            if (not p_root) and q_root :\n",
    "                is_same[0] *= 0\n",
    "                return False\n",
    "            if (not q_root) and p_root :\n",
    "                is_same[0] *= 0\n",
    "                return False\n",
    "            if (not q_root) and (not p_root) :\n",
    "                return True\n",
    "            if not (q_root.val == p_root.val) : \n",
    "                is_same[0] *= 0\n",
    "                return False\n",
    "            dfs(p_root.left, q_root.left)\n",
    "            dfs(p_root.right, p_root.right)\n",
    "        dfs(p,q)\n",
    "        return is_same[0]\n",
    "    \n",
    "\n",
    "    # NeetCode solution (it is indeed quite neet...)\n",
    "    def isSameTree(self, p: Optional[TreeNode], q: Optional[TreeNode]) -> bool:\n",
    "        if not p and not q:\n",
    "            return True\n",
    "        if not p or not q or p.val != q.val:\n",
    "            return False\n",
    "        return (self.isSameTree(p.left,q.left) and self.isSameTree(p.right,q.right))\n"
   ]
  }
 ],
 "metadata": {
  "language_info": {
   "name": "python"
  }
 },
 "nbformat": 4,
 "nbformat_minor": 2
}
