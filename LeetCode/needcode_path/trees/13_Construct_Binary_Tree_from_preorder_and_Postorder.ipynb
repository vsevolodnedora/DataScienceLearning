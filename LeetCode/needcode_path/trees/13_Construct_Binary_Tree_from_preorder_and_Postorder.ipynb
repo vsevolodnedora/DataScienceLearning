{
 "cells": [
  {
   "cell_type": "markdown",
   "metadata": {},
   "source": [
    "# 105. Construct Binary Tree from Preorder and Inorder Traversal\n",
    "\n",
    "[leetcode](https://leetcode.com/problems/construct-binary-tree-from-preorder-and-inorder-traversal/)\n",
    "\n",
    "Given two integer arrays preorder and inorder where preorder is the preorder traversal of a binary tree and inorder is the inorder traversal of the same tree, construct and return the binary tree.\n",
    "\n",
    "# Reasoning\n",
    "\n",
    "[neetcodevideo](https://www.youtube.com/watch?v=ihj4IQGZ2zc&t=6s&ab_channel=NeetCode)\n",
    "\n",
    "__NOTE__: pre-order: is processing the traversal starting with the root and doing the left subtree and then right sub-tree (standard traversal) \n",
    "\n",
    "__NOTE__: in-order: start at the root, consider the enire left sub-tree and then the enire right sub-tree. Here the root is added _after_ the subtree is visited.\n",
    "\n",
    "There are may ideas here:\n",
    "- 1st value in _pre-order travrsal_ is the root. This is the root of the enire tree. \n",
    "So, we can always use the first value is the root. After which we can do _recursive traversal. However, it is unclear which value in the remaining list belong to the left or right subtree. \n",
    "- 2nd Make use that each value in both traversals is unique. There we know that nodes that go to the left subtree will be _on the left_ on the root that we just used from 1st. While each value on the right of the root will be from the right subtree. \n",
    "\n",
    "__Summary__: \n",
    "- Use _pre-order_ traversal to get root. \n",
    "- USe _in-ordder_ traversal to _partition_ into to the left and right subtrees with resepct to the previously found root\n",
    "\n",
    "__NOTE__: if there is only one node on the left of the root in the _in-order_ traversal, -- there is only one node in this subtree. \n",
    "\n",
    "After we find 1st root, we remove it from the _pre-order_ and we traverse the left subtree using the _in-order_. After that we also remove each node we find there from the _in-order traversal_. So in the end we end up with a new _in-order_ with new root as a first element and new _in-order_ with root somewhere between its left subtree and its right subtree. And we repeat the process _recursively_. \n",
    "\n",
    "__NOTE__: drawing here is very important to know how to call recursive function (to create recursive sublists)\n"
   ]
  },
  {
   "cell_type": "code",
   "execution_count": null,
   "metadata": {},
   "outputs": [],
   "source": [
    "# Definition for a binary tree node.\n",
    "class TreeNode:\n",
    "    def __init__(self, val=0, left=None, right=None):\n",
    "        self.val = val\n",
    "        self.left = left\n",
    "        self.right = right\n",
    "from typing import *\n",
    "from collections import *\n",
    "class Solution:\n",
    "    def buildTree(self, preorder: List[int], inorder: List[int]) -> Optional[TreeNode]:\n",
    "        if not preorder or not inorder:\n",
    "            return None\n",
    "        root = TreeNode(preorder[0])\n",
    "        # find it in in-order\n",
    "        mid = inorder.index(preorder[0])\n",
    "        # create left (recursively)\n",
    "        # pass NEW in-order and post-order\n",
    "        # use index as a split (rememver to include)\n",
    "        root.left = self.buildTree(preorder[1:(mid + 1)], inorder[:mid])\n",
    "        # use every value after sublist preorder, and inorder\n",
    "        root.right = self.buildTree(preorder[(mid+1):], inorder[(mid+1):])\n",
    "        # \n",
    "        return root\n",
    "\n"
   ]
  }
 ],
 "metadata": {
  "language_info": {
   "name": "python"
  }
 },
 "nbformat": 4,
 "nbformat_minor": 2
}
