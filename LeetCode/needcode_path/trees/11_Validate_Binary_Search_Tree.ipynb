{
 "cells": [
  {
   "cell_type": "markdown",
   "metadata": {},
   "source": [
    "# 98. Validate Binary Search Tree\n",
    "\n",
    "[leetcode](https://leetcode.com/problems/validate-binary-search-tree/)\n",
    "\n",
    "Given the root of a binary tree, determine if it is a valid binary search tree (BST).\n",
    "\n",
    "A valid BST is defined as follows:\n",
    "\n",
    "The left \n",
    "subtree\n",
    " of a node contains only nodes with keys less than the node's key.\n",
    "The right subtree of a node contains only nodes with keys greater than the node's key.\n",
    "Both the left and right subtrees must also be binary search trees.\n",
    "\n",
    "# Reasoning\n",
    "\n",
    "[neetcodevideo](https://www.youtube.com/watch?v=s6ATEkipzow)\n",
    "\n",
    "Solution is the `recursive DFS`.  \n",
    "\n",
    "The key in this problem is to know that you need to keep track on _two limits_ in the recursion.  \n",
    "__Update right limit when going to the left and update left limit, when going to the right.__\n"
   ]
  },
  {
   "cell_type": "code",
   "execution_count": null,
   "metadata": {},
   "outputs": [],
   "source": [
    "# Definition for a binary tree node.\n",
    "class TreeNode:\n",
    "    def __init__(self, val=0, left=None, right=None):\n",
    "        self.val = val\n",
    "        self.left = left\n",
    "        self.right = right\n",
    "from typing import *\n",
    "class Solution:\n",
    "    def isValidBST(self, root: Optional[TreeNode]) -> bool:\n",
    "\n",
    "        def dfs(node, min_left, max_right):\n",
    "            is_val = True\n",
    "            if not node: return True\n",
    "            if node.val > min_left and node.val < max_right:\n",
    "                is_val &= dfs(node.left, min_left, node.val)\n",
    "                is_val &= dfs(node.right, node.val, max_right)\n",
    "                return is_val\n",
    "            return False\n",
    "        return dfs(root, float('-inf'), float('inf'))"
   ]
  }
 ],
 "metadata": {
  "language_info": {
   "name": "python"
  }
 },
 "nbformat": 4,
 "nbformat_minor": 2
}
