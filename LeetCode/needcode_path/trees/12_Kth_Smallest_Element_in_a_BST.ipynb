{
 "cells": [
  {
   "cell_type": "markdown",
   "metadata": {},
   "source": [
    "# 230. Kth Smallest Element in a BST\n",
    "\n",
    "[leetcode](https://leetcode.com/problems/kth-smallest-element-in-a-bst/)\n",
    "\n",
    "Given the root of a binary search tree, and an integer k, return the kth smallest value (1-indexed) of all the values of the nodes in the tree.\n",
    "\n",
    "# Reasoning \n",
    "\n",
    "[neetcodevideo](https://www.youtube.com/watch?v=5LUXSvjmGCw)\n",
    "\n",
    "__NOTE__: BST is already a _sorted_ system. We just need to convert it to the sorted array so that we can take a 'kth' element\n",
    "\n",
    "Here we consider an `BST in-order iterative traversal` (not recursive as before).  \n",
    "\n",
    "With the recursive solution when we traverse the tree, after we visited the left child we _pop back_ to visit the right child. This is how _call stack_ wors. \n",
    "\n",
    "When we traverse the tree _iteratively_, we need to use `stack` to keep track on visited nodes.\n",
    "\n",
    "__NOTE__: in this algorithm, we add nodes to the stack as we traverse the BST from left to right and we pop/visit them _only when left is None_. We pop/visit _again_ if _right is none_.  Thus, at the __end of the traversal, the stack will be empty__!\n",
    "- The order we pop is the _sorted order_ of the array. \n",
    "- This _iterative solution_ is the _in-order traversal_. \n",
    "\n",
    "The time complexity is about the same as _recursive solution_. "
   ]
  },
  {
   "cell_type": "code",
   "execution_count": null,
   "metadata": {},
   "outputs": [],
   "source": [
    "# Definition for a binary tree node.\n",
    "class TreeNode:\n",
    "    def __init__(self, val=0, left=None, right=None):\n",
    "        self.val = val\n",
    "        self.left = left\n",
    "        self.right = right\n",
    "from typing import *\n",
    "class Solution:\n",
    "    def kthSmallest(self, root: Optional[TreeNode], k: int) -> int:\n",
    "        stack = [] # stack\n",
    "        cur = root # pointer\n",
    "        n = 0 # counter of visited nodes\n",
    "        while cur or stack:\n",
    "            # traverse left subtree first\n",
    "            while cur:\n",
    "                stack.append(cur)\n",
    "                cur = cur.left\n",
    "            # after traversing left, pop\n",
    "            cur = stack.pop()\n",
    "            n += 1\n",
    "            # we guaranteed that n <= k\n",
    "            if n == k : return cur.val\n",
    "            # go to right subtree and repeat\n",
    "            cur = cur.right\n"
   ]
  }
 ],
 "metadata": {
  "language_info": {
   "name": "python"
  }
 },
 "nbformat": 4,
 "nbformat_minor": 2
}
