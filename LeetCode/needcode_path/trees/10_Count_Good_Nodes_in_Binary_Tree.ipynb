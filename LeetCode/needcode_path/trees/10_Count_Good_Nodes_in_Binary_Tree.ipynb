{
 "cells": [
  {
   "cell_type": "markdown",
   "metadata": {},
   "source": [
    "# 1448. Count Good Nodes in Binary Tree\n",
    "\n",
    "[leetcode](https://leetcode.com/problems/count-good-nodes-in-binary-tree/)\n",
    "\n",
    "Given a binary tree root, a node X in the tree is named good if in the path from root to X there are no nodes with a value greater than X.\n",
    "\n",
    "Return the number of good nodes in the binary tree.\n",
    "\n",
    "# Reasoning\n",
    "\n",
    "[neetcodevideo](https://www.youtube.com/watch?v=7cp5imvDzl4)\n",
    "\n",
    "This problem can be solved with O(n) time and O(log(n) = tree height) memory complexity.  \n",
    "\n",
    "The algorithm here is `pre-prder traversal`, which is a `recursive DFS`.  \n",
    "Each time we advance through the tree, we pass the _largest value_ so far.  \n",
    "\n",
    "- Eqution: 1 + left + right\n",
    "\n",
    "__NOTE__ the kye here is to not use global variables, but count the number of good node recursively and follow the equation: 1 or 0 + left() + right().\n",
    "\n"
   ]
  },
  {
   "cell_type": "code",
   "execution_count": null,
   "metadata": {},
   "outputs": [],
   "source": [
    "# Definition for a binary tree node.\n",
    "class TreeNode:\n",
    "    def __init__(self, val=0, left=None, right=None):\n",
    "        self.val = val\n",
    "        self.left = left\n",
    "        self.right = right\n",
    "from typing import *\n",
    "class Solution:\n",
    "    def goodNodes(self, root: TreeNode) -> int:\n",
    "        if not root:\n",
    "            return 0\n",
    "        # separate function as we need to pass additional value\n",
    "        def dfs(node, max_val):\n",
    "            if node:\n",
    "                count = 1 if node.val >= max_val else 0\n",
    "                max_val = max(node.val,max_val)\n",
    "                count += dfs(node.left,max_val)\n",
    "                count += dfs(node.right,max_val)\n",
    "                return count\n",
    "            else:\n",
    "                return 0\n",
    "\n",
    "        res = dfs(root, root.val)\n",
    "        return res\n",
    "        "
   ]
  }
 ],
 "metadata": {
  "language_info": {
   "name": "python"
  }
 },
 "nbformat": 4,
 "nbformat_minor": 2
}
