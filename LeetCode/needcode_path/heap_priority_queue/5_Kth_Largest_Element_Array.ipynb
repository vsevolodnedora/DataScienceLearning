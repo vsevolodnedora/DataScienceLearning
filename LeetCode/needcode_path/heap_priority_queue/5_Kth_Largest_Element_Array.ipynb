{
 "cells": [
  {
   "cell_type": "markdown",
   "metadata": {},
   "source": [
    "# 215. Kth Largest Element in an Array\n",
    "\n",
    "[leetcode](https://leetcode.com/problems/kth-largest-element-in-an-array/)\n",
    "\n",
    "Given an integer array nums and an integer k, return the kth largest element in the array.\n",
    "\n",
    "Note that it is the kth largest element in the sorted order, not the kth distinct element.\n",
    "\n",
    "Can you solve it without sorting?\n",
    "\n",
    "# Reasoning\n",
    "\n",
    "[neetcodevideo](https://www.youtube.com/watch?v=XEmy13g1Qxc)\n",
    "\n",
    "Solved myself, using heapq algorithm.  \n",
    "Time complexity is n + (k * log(n)), where O(n) is to heapify and than we need to pop k times, which is also log(n) times.  \n",
    "This is better than sorting if k is small.  \n",
    "\n",
    "Neetcode suggests a solution which is O(n) _average complexity_, with the worst case it is O(n^2). This can be done with algorithm `qick select`, related to `quick sort`.  \n",
    "\n",
    "### Agorithm: \n",
    "\n",
    "Key point: partition the array in to 2 half such that _every value_ on the left is __smaller__ than _every value_ on the right.  \n",
    "\n",
    "This is done by _randomly_ takign a pivot, -- the decision value, determining what is in the left and right. \n",
    "After selecting a pivot, go through each value of the array and place it either to the left or to the right. Each time we find a value we swap it with a value on the left so that it is on the left.    \n",
    "After that we have two partitions in the array. The partitions themselves are not in sorted order.  \n",
    "Next we swap the pivot with the point at the pointer (boundary with the 1st partition but in thesecond partition).  \n",
    "After we've done that, we know that length-k, the _right half of the partition_ contains length-k largest values.  \n",
    "By performing a partition, we get automaticall a N-th largest value, where N is the length of the left partition, as everything on the left of a pivot value is smaller than the pivot. \n",
    "\n",
    "With quick sort we do need to sort both halfs of the partition. In this case, however, we jsut need to find a partition where on the right there are K values.  \n",
    "\n",
    "For quick sort the average complexity is O(n).  However, if each time the pivot is chosen, it is the largest value, and then the worst case scenario is O(n^2)\n",
    "\n",
    "However, this quick select solution fails for me on leetcode"
   ]
  },
  {
   "cell_type": "code",
   "execution_count": 6,
   "metadata": {},
   "outputs": [
    {
     "name": "stdout",
     "output_type": "stream",
     "text": [
      "5 Output: 5\n",
      "4 Output: 4\n"
     ]
    }
   ],
   "source": [
    "from typing import List\n",
    "import heapq\n",
    "class Solution:\n",
    "    def findKthLargest(self, nums: List[int], k: int) -> int:\n",
    "        \"\"\" heap solution \"\"\"\n",
    "        minheap = [v*-1 for v in nums]\n",
    "        heapq.heapify(minheap)\n",
    "        val = 0\n",
    "        for i in range(k):\n",
    "            val = heapq.heappop(minheap)\n",
    "        return -1 * val\n",
    "\n",
    "    def findKthLargest(self, nums: List[int], k: int) -> int:\n",
    "        \"\"\" quick select solution \"\"\"\n",
    "        # reassign k as an index we are looking for\n",
    "        k = len(nums) - k\n",
    "        # do quick sort algorithm\n",
    "        def quickSelect(l,r): # pass pointers\n",
    "            pivot,p = nums[r],l # set p-pointer at the left \n",
    "            for i in range(l,r): # not reaching right\n",
    "                if nums[i] <= pivot: # \n",
    "                    nums[p],nums[i] = nums[i],nums[p] # swap values\n",
    "                    p+=1 # increcment pointer\n",
    "            nums[p],nums[r] = pivot,nums[p] # swap the pivot with p index\n",
    "            # chekc if we found the target index \n",
    "            if (p > k):\n",
    "                return quickSelect(l,p-1) # look at the left porition of the array\n",
    "            elif p < k: \n",
    "                return quickSelect(p+1, r) # look at the right porition of the array\n",
    "            else:\n",
    "                return nums[p] # we found Kth largest value\n",
    "        return quickSelect(0,len(nums)-1)\n",
    "            \n",
    "\n",
    "sol = Solution()\n",
    "print(sol.findKthLargest([3,2,1,5,6,4],2),\"Output: 5\")\n",
    "print(sol.findKthLargest([3,2,3,1,2,4,5,5,6],4),\"Output: 4\")\n"
   ]
  },
  {
   "cell_type": "code",
   "execution_count": null,
   "metadata": {},
   "outputs": [],
   "source": []
  }
 ],
 "metadata": {
  "kernelspec": {
   "display_name": "Python 3",
   "language": "python",
   "name": "python3"
  },
  "language_info": {
   "codemirror_mode": {
    "name": "ipython",
    "version": 3
   },
   "file_extension": ".py",
   "mimetype": "text/x-python",
   "name": "python",
   "nbconvert_exporter": "python",
   "pygments_lexer": "ipython3",
   "version": "3.10.12"
  }
 },
 "nbformat": 4,
 "nbformat_minor": 2
}
