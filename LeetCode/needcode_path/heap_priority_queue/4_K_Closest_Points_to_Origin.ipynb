{
 "cells": [
  {
   "cell_type": "markdown",
   "metadata": {},
   "source": [
    "# 973. K Closest Points to Origin\n",
    "\n",
    "[leetcode](https://leetcode.com/problems/k-closest-points-to-origin/)\n",
    "\n",
    "Given an array of points where points[i] = [xi, yi] represents a point on the X-Y plane and an integer k, return the k closest points to the origin (0, 0).\n",
    "\n",
    "The distance between two points on the X-Y plane is the Euclidean distance (i.e., √(x1 - x2)2 + (y1 - y2)2).\n",
    "\n",
    "You may return the answer in any order. The answer is guaranteed to be unique (except for the order that it is in).\n",
    "\n",
    "# Reasoning\n",
    "\n",
    "[neetcodevideo](https://www.youtube.com/watch?v=rI2EBUEMfTk)\n",
    "\n",
    "Starting from the origin, we need to compute the eukledian distance to each point and return K closest ones. Note, that the sqrt() operation in the Euklidian distance is not needed here, we just compare, not estimate. \n",
    "\n",
    "We need K points, and the simple solution is to sort the list of points. The time complexity of it is O(n*log(n)). However, not, we do not really need to sort an entire list. We can use `min heap` to pop K values from it. \n",
    "\n",
    "- For each point, we compute the distance, put it as a first value in the list (coordinate)\n",
    "- Heapify the list based on the distance O(log(n))\n",
    "- Pop k-times from the min heap. O(k*log(n))\n",
    "\n",
    "This is more efficient if K is realtively small K << n"
   ]
  },
  {
   "cell_type": "code",
   "execution_count": null,
   "metadata": {},
   "outputs": [],
   "source": [
    "from typing import List\n",
    "import heapq\n",
    "class Solution:\n",
    "    def kClosest(self, points: List[List[int]], k: int) -> List[List[int]]:\n",
    "        if len(points) == 0:\n",
    "            return []\n",
    "        # add distance sqared for each point (O(n))\n",
    "        for point in points:\n",
    "            point.insert(0, point[0]*point[0] + point[1]*point[1])\n",
    "        # heapify O(log(n))\n",
    "        minHeap = points\n",
    "        heapq.heapify(minHeap)\n",
    "        # get k min points\n",
    "        res = []\n",
    "        while len(res) < k:\n",
    "            point_ = heapq.heappop(minHeap)\n",
    "            res.append([point_[1],point_[2]])\n",
    "        return res"
   ]
  }
 ],
 "metadata": {
  "language_info": {
   "name": "python"
  }
 },
 "nbformat": 4,
 "nbformat_minor": 2
}
