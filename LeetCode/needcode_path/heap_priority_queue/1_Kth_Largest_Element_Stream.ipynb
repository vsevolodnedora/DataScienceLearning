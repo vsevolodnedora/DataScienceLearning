{
 "cells": [
  {
   "cell_type": "markdown",
   "metadata": {},
   "source": [
    "703. Kth Largest Element in a Stream\n",
    "\n",
    "[leetcode](https://leetcode.com/problems/kth-largest-element-in-a-stream/)\n",
    "\n",
    "Design a class to find the kth largest element in a stream. Note that it is the kth largest element in the sorted order, not the kth distinct element.\n",
    "\n",
    "Implement KthLargest class:\n",
    "\n",
    "KthLargest(int k, int[] nums) Initializes the object with the integer k and the stream of integers nums.\n",
    "int add(int val) Appends the integer val to the stream and returns the element representing the kth largest element in the stream.\n",
    "\n",
    "# Reasoning\n",
    "\n",
    "[neetcode](https://www.youtube.com/watch?v=hOjcdrqMoQ8&t=11s&ab_channel=NeetCode)\n",
    "\n",
    "We can just sort the array and then use a binary search.  \n",
    "However, then each time we add a new value we would need to sort the array again.  \n",
    "\n",
    "To avoid it we will use a `min heap`. \n",
    "Adding and poping values from min heap is done in _log(n)_ time instead of O(n) for an array.  \n",
    "\n",
    "The advantage of this problem, is that we will only add nubers, not removing.  \n",
    "\n",
    "In min heap, the kth largest value is always the kth element in the heap from the end.  The heap structure is preserved, as we _never_ remove values from min heap.  \n",
    "\n"
   ]
  },
  {
   "cell_type": "code",
   "execution_count": null,
   "metadata": {},
   "outputs": [],
   "source": []
  }
 ],
 "metadata": {
  "language_info": {
   "name": "python"
  }
 },
 "nbformat": 4,
 "nbformat_minor": 2
}
