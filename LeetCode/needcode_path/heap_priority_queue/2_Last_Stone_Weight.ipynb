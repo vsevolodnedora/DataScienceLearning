{
 "cells": [
  {
   "cell_type": "markdown",
   "metadata": {},
   "source": [
    "# 1046. Last Stone Weight\n",
    "\n",
    "[leetcode](https://leetcode.com/problems/last-stone-weight/)\n",
    "\n",
    "You are given an array of integers stones where stones[i] is the weight of the ith stone.\n",
    "\n",
    "We are playing a game with the stones. On each turn, we choose the heaviest two stones and smash them together. Suppose the heaviest two stones have weights x and y with x <= y. The result of this smash is:\n",
    "\n",
    "If x == y, both stones are destroyed, and\n",
    "If x != y, the stone of weight x is destroyed, and the stone of weight y has new weight y - x.\n",
    "At the end of the game, there is at most one stone left.\n",
    "\n",
    "Return the weight of the last remaining stone. If there are no stones left, return 0.\n",
    "\n",
    "# Reasoning\n",
    "\n",
    "[neetcodevideo](https://www.youtube.com/watch?v=B-QCq79-Vfw&t=1s)\n",
    "\n",
    "__NOTE__: this problem already tells is what to do: \n",
    "- take the heaviest stones and smash them together and introduce a new stone. \n",
    "\n",
    "__KEY__: is to maintain the ordered structure of the stone list. \n",
    "\n",
    "A data structure that allows us to do that is a `max heap`, as we need heaviest stones at each iteration. \n",
    "\n",
    "- Transforming an array into a heap is O(n) time operation; \n",
    "- Get maximum from the heap O(log(n)). Since we do it N times, the overall time complexity is O(n*log(n))\n",
    "\n",
    "__NOTE__: Python _does not have a max heap_, so we would use _min heap_ and multiply each number by -1.  \n",
    "\n",
    "\n"
   ]
  },
  {
   "cell_type": "code",
   "execution_count": 6,
   "metadata": {},
   "outputs": [
    {
     "name": "stdout",
     "output_type": "stream",
     "text": [
      "1 Output: 1\n",
      "1 Output: 1\n"
     ]
    }
   ],
   "source": [
    "from typing import List\n",
    "import heapq\n",
    "class Solution:\n",
    "    def lastStoneWeight(self, stones: List[int]) -> int:\n",
    "        for i in range(len(stones)):\n",
    "            stones[i] = -1 * stones[i]\n",
    "        heapStones = stones\n",
    "        heapq.heapify(heapStones) # O(n)\n",
    "        while len(heapStones) > 1:\n",
    "            a = -1 * heapq.heappop(heapStones)\n",
    "            b = -1 * heapq.heappop(heapStones)\n",
    "            if (a > b):\n",
    "                r = a-b\n",
    "                heapq.heappush(heapStones, -1 * r)\n",
    "        if len(heapStones) == 1:\n",
    "            return -1*heapq.heappop(heapStones)\n",
    "        else: \n",
    "            return 0\n",
    "\n",
    "\n",
    "\n",
    "sol = Solution()\n",
    "print(sol.lastStoneWeight([2,7,4,1,8,1]),\"Output: 1\")\n",
    "print(sol.lastStoneWeight([1]),\"Output: 1\")"
   ]
  }
 ],
 "metadata": {
  "kernelspec": {
   "display_name": "Python 3",
   "language": "python",
   "name": "python3"
  },
  "language_info": {
   "codemirror_mode": {
    "name": "ipython",
    "version": 3
   },
   "file_extension": ".py",
   "mimetype": "text/x-python",
   "name": "python",
   "nbconvert_exporter": "python",
   "pygments_lexer": "ipython3",
   "version": "3.10.12"
  }
 },
 "nbformat": 4,
 "nbformat_minor": 2
}
