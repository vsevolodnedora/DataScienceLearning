{
 "cells": [
  {
   "cell_type": "markdown",
   "metadata": {},
   "source": [
    "# Palindrome Number\n",
    "- An integer is a palindrome when it reads the same forward and backward\n"
   ]
  },
  {
   "cell_type": "code",
   "execution_count": 10,
   "metadata": {},
   "outputs": [
    {
     "name": "stdout",
     "output_type": "stream",
     "text": [
      "True True\n"
     ]
    }
   ],
   "source": [
    "def isPalindrome(x):\n",
    "    tmp, reverse = x, 0\n",
    "    while (tmp > 0): \n",
    "        last = int(tmp % 10) # last digid\n",
    "        reverse = int(reverse * 10 + last) # move previus forward by 10 and add last\n",
    "        tmp = int(tmp / 10) # update tmp_x to move digit\n",
    "    return x == reverse\n",
    "print(isPalindrome(121), True)"
   ]
  },
  {
   "cell_type": "markdown",
   "metadata": {},
   "source": [
    "# Container With Most Water\n",
    "You are given an integer array height of length n. There are n vertical lines drawn such that the two endpoints of the ith line are (i, 0) and (i, height[i]).\n",
    "\n",
    "Find two lines that together with the x-axis form a container, such that the container contains the most water.\n",
    "\n",
    "Return the maximum amount of water a container can store.\n",
    "\n",
    "Notice that you may not slant the container."
   ]
  },
  {
   "cell_type": "code",
   "execution_count": 22,
   "metadata": {},
   "outputs": [
    {
     "name": "stdout",
     "output_type": "stream",
     "text": [
      "49 49\n",
      "49 49\n"
     ]
    }
   ],
   "source": [
    "def maxArea(hs : list):\n",
    "    max_arr = 0\n",
    "    l = len(hs)\n",
    "    for i in range(l):\n",
    "        for j in range(i+1, l):\n",
    "            area = abs(j-i) * min(hs[i],hs[j])\n",
    "            max_arr = max(area, max_arr)\n",
    "    return max_arr\n",
    "print(maxArea([1,8,6,2,5,4,8,3,7]), 49)\n",
    "def maxAreaFast(hs : list):\n",
    "    l = 0\n",
    "    r = len(hs) -1\n",
    "    area = 0\n",
    "    while l < r:\n",
    "        # Calculating the max area\n",
    "        area = max(area, min(hs[l], hs[r]) * (r - l))\n",
    "        if (hs[l] < hs[r]): l += 1\n",
    "        else: r -= 1\n",
    "    return area\n",
    "print(maxAreaFast([1,8,6,2,5,4,8,3,7]), 49)"
   ]
  },
  {
   "cell_type": "markdown",
   "metadata": {},
   "source": [
    "#  Integer to Roman\n",
    "Roman numerals are represented by seven different symbols: I, V, X, L, C, D and M.  \n",
    "Given an integer, convert it to a roman numeral.\n",
    "\n",
    "\n",
    "\n"
   ]
  },
  {
   "cell_type": "markdown",
   "metadata": {},
   "source": []
  },
  {
   "cell_type": "markdown",
   "metadata": {},
   "source": [
    "# Median of Two Sorted Arrays\n",
    "Given two sorted arrays nums1 and nums2 of size m and n respectively, return the median of the two sorted arrays.\n",
    "The overall run time complexity should be $\\mathcal{O}(\\log (m+n))$.  \n",
    "__HINT FROM__: [here](https://www.geeksforgeeks.org/python-combining-two-sorted-lists/)"
   ]
  },
  {
   "cell_type": "code",
   "execution_count": 15,
   "metadata": {},
   "outputs": [
    {
     "name": "stdout",
     "output_type": "stream",
     "text": [
      "2 2.0\n",
      "2.5 2.5\n"
     ]
    }
   ],
   "source": [
    "def findMedianSortedArrays(nums1: list[int], nums2: list[int]) -> float:\n",
    "        n1 = len(nums1)\n",
    "        n2 = len(nums2)\n",
    "        n_ = n1+n2\n",
    "        nums1.extend(nums2)\n",
    "        nums1.sort()\n",
    "        if (n_ % 2 == 0):\n",
    "            # even \n",
    "            n = int(n_ / 2)\n",
    "            val = (nums1[n-1]+nums1[n]) / 2\n",
    "        else:\n",
    "            # odd\n",
    "            n = int((n_ - 1)/2)\n",
    "            val = nums1[n]\n",
    "        return val\n",
    "print(findMedianSortedArrays(nums1 = [1,3], nums2 = [2]), 2.0)\n",
    "print(findMedianSortedArrays(nums1 = [1,2], nums2 = [3,4]), 2.5)"
   ]
  },
  {
   "cell_type": "markdown",
   "metadata": {},
   "source": [
    "# Reverse Integer\n",
    "Given a signed 32-bit integer x, return x with its digits reversed. If reversing x causes the value to go outside the signed 32-bit integer range $[-2^{31}, 2^{31} - 1]$, then return 0.  \n",
    "__HINT__ [here](https://redquark.org/leetcode/0007-reverse-integer/)"
   ]
  },
  {
   "cell_type": "code",
   "execution_count": 38,
   "metadata": {},
   "outputs": [
    {
     "name": "stdout",
     "output_type": "stream",
     "text": [
      "x = 90000 res=0\n",
      "x = 9000 res=0\n",
      "x = 900 res=0\n",
      "x = 90 res=0\n",
      "x = 9 res=0\n",
      "x = 0 res=9\n",
      "9 9\n"
     ]
    }
   ],
   "source": [
    "def reverse(x: int) -> int:\n",
    "    sign = 1\n",
    "    if (x < 0):\n",
    "        # get rid of the sign\n",
    "        sign = -1\n",
    "        x = -x\n",
    "    # process positive\n",
    "    res = 0\n",
    "    while (x >= 1):\n",
    "        res = res * 10 + x % 10\n",
    "        x //= 10 # \n",
    "        print(f\"x = {x} res={res}\")\n",
    "    if (res >= 2**31 - 1):\n",
    "        return 0\n",
    "    \n",
    "    return int(sign*res)\n",
    "#print(reverse(x=123),321)\n",
    "#print(reverse(x=-123),-321)\n",
    "#print(reverse(x=120),21)\n",
    "#print(reverse(x=1),1)\n",
    "print(reverse(x=900000),9)"
   ]
  },
  {
   "cell_type": "markdown",
   "metadata": {},
   "source": []
  }
 ],
 "metadata": {
  "kernelspec": {
   "display_name": "PyBlastAfterglow",
   "language": "python",
   "name": "python3"
  },
  "language_info": {
   "codemirror_mode": {
    "name": "ipython",
    "version": 3
   },
   "file_extension": ".py",
   "mimetype": "text/x-python",
   "name": "python",
   "nbconvert_exporter": "python",
   "pygments_lexer": "ipython3",
   "version": "3.9.16"
  }
 },
 "nbformat": 4,
 "nbformat_minor": 2
}
