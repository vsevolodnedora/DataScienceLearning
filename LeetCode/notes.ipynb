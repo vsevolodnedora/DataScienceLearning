{
 "cells": [
  {
   "cell_type": "markdown",
   "metadata": {},
   "source": [
    "# Palindrome Number\n",
    "- An integer is a palindrome when it reads the same forward and backward\n"
   ]
  },
  {
   "cell_type": "code",
   "execution_count": 10,
   "metadata": {},
   "outputs": [
    {
     "name": "stdout",
     "output_type": "stream",
     "text": [
      "True True\n"
     ]
    }
   ],
   "source": [
    "def isPalindrome(x):\n",
    "    tmp, reverse = x, 0\n",
    "    while (tmp > 0): \n",
    "        last = int(tmp % 10) # last digid\n",
    "        reverse = int(reverse * 10 + last) # move previus forward by 10 and add last\n",
    "        tmp = int(tmp / 10) # update tmp_x to move digit\n",
    "    return x == reverse\n",
    "print(isPalindrome(121), True)"
   ]
  },
  {
   "cell_type": "markdown",
   "metadata": {},
   "source": [
    "# Container With Most Water\n",
    "You are given an integer array height of length n. There are n vertical lines drawn such that the two endpoints of the ith line are (i, 0) and (i, height[i]).\n",
    "\n",
    "Find two lines that together with the x-axis form a container, such that the container contains the most water.\n",
    "\n",
    "Return the maximum amount of water a container can store.\n",
    "\n",
    "Notice that you may not slant the container."
   ]
  },
  {
   "cell_type": "code",
   "execution_count": 22,
   "metadata": {},
   "outputs": [
    {
     "name": "stdout",
     "output_type": "stream",
     "text": [
      "49 49\n",
      "49 49\n"
     ]
    }
   ],
   "source": [
    "def maxArea(hs : list):\n",
    "    max_arr = 0\n",
    "    l = len(hs)\n",
    "    for i in range(l):\n",
    "        for j in range(i+1, l):\n",
    "            area = abs(j-i) * min(hs[i],hs[j])\n",
    "            max_arr = max(area, max_arr)\n",
    "    return max_arr\n",
    "print(maxArea([1,8,6,2,5,4,8,3,7]), 49)\n",
    "def maxAreaFast(hs : list):\n",
    "    l = 0\n",
    "    r = len(hs) -1\n",
    "    area = 0\n",
    "    while l < r:\n",
    "        # Calculating the max area\n",
    "        area = max(area, min(hs[l], hs[r]) * (r - l))\n",
    "        if (hs[l] < hs[r]): l += 1\n",
    "        else: r -= 1\n",
    "    return area\n",
    "print(maxAreaFast([1,8,6,2,5,4,8,3,7]), 49)"
   ]
  },
  {
   "cell_type": "code",
   "execution_count": null,
   "metadata": {},
   "outputs": [],
   "source": []
  }
 ],
 "metadata": {
  "kernelspec": {
   "display_name": "PyBlastAfterglow",
   "language": "python",
   "name": "python3"
  },
  "language_info": {
   "codemirror_mode": {
    "name": "ipython",
    "version": 3
   },
   "file_extension": ".py",
   "mimetype": "text/x-python",
   "name": "python",
   "nbconvert_exporter": "python",
   "pygments_lexer": "ipython3",
   "version": "3.9.16"
  }
 },
 "nbformat": 4,
 "nbformat_minor": 2
}
