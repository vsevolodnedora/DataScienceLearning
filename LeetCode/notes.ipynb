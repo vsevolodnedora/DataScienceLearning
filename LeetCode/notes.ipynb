{
 "cells": [
  {
   "cell_type": "markdown",
   "metadata": {},
   "source": [
    "# Palindrome Number\n",
    "- An integer is a palindrome when it reads the same forward and backward\n"
   ]
  },
  {
   "cell_type": "code",
   "execution_count": 10,
   "metadata": {},
   "outputs": [
    {
     "name": "stdout",
     "output_type": "stream",
     "text": [
      "True True\n"
     ]
    }
   ],
   "source": [
    "def isPalindrome(x):\n",
    "    tmp, reverse = x, 0\n",
    "    while (tmp > 0): \n",
    "        last = int(tmp % 10) # last digid\n",
    "        reverse = int(reverse * 10 + last) # move previus forward by 10 and add last\n",
    "        tmp = int(tmp / 10) # update tmp_x to move digit\n",
    "    return x == reverse\n",
    "print(isPalindrome(121), True)"
   ]
  },
  {
   "cell_type": "markdown",
   "metadata": {},
   "source": [
    "# Container With Most Water\n",
    "You are given an integer array height of length n. There are n vertical lines drawn such that the two endpoints of the ith line are (i, 0) and (i, height[i]).\n",
    "\n",
    "Find two lines that together with the x-axis form a container, such that the container contains the most water.\n",
    "\n",
    "Return the maximum amount of water a container can store.\n",
    "\n",
    "Notice that you may not slant the container."
   ]
  },
  {
   "cell_type": "code",
   "execution_count": 22,
   "metadata": {},
   "outputs": [
    {
     "name": "stdout",
     "output_type": "stream",
     "text": [
      "49 49\n",
      "49 49\n"
     ]
    }
   ],
   "source": [
    "def maxArea(hs : list):\n",
    "    max_arr = 0\n",
    "    l = len(hs)\n",
    "    for i in range(l):\n",
    "        for j in range(i+1, l):\n",
    "            area = abs(j-i) * min(hs[i],hs[j])\n",
    "            max_arr = max(area, max_arr)\n",
    "    return max_arr\n",
    "print(maxArea([1,8,6,2,5,4,8,3,7]), 49)\n",
    "def maxAreaFast(hs : list):\n",
    "    l = 0\n",
    "    r = len(hs) -1\n",
    "    area = 0\n",
    "    while l < r:\n",
    "        # Calculating the max area\n",
    "        area = max(area, min(hs[l], hs[r]) * (r - l))\n",
    "        if (hs[l] < hs[r]): l += 1\n",
    "        else: r -= 1\n",
    "    return area\n",
    "print(maxAreaFast([1,8,6,2,5,4,8,3,7]), 49)"
   ]
  },
  {
   "cell_type": "markdown",
   "metadata": {},
   "source": [
    "#  Integer to Roman\n",
    "Roman numerals are represented by seven different symbols: I, V, X, L, C, D and M.  \n",
    "Given an integer, convert it to a roman numeral.\n",
    "\n",
    "\n",
    "\n"
   ]
  },
  {
   "cell_type": "markdown",
   "metadata": {},
   "source": []
  },
  {
   "cell_type": "markdown",
   "metadata": {},
   "source": [
    "# Median of Two Sorted Arrays\n",
    "Given two sorted arrays nums1 and nums2 of size m and n respectively, return the median of the two sorted arrays.\n",
    "The overall run time complexity should be $\\mathcal{O}(\\log (m+n))$.  \n",
    "__HINT FROM__: [here](https://www.geeksforgeeks.org/python-combining-two-sorted-lists/)"
   ]
  },
  {
   "cell_type": "code",
   "execution_count": 15,
   "metadata": {},
   "outputs": [
    {
     "name": "stdout",
     "output_type": "stream",
     "text": [
      "2 2.0\n",
      "2.5 2.5\n"
     ]
    }
   ],
   "source": [
    "def findMedianSortedArrays(nums1: list[int], nums2: list[int]) -> float:\n",
    "        n1 = len(nums1)\n",
    "        n2 = len(nums2)\n",
    "        n_ = n1+n2\n",
    "        nums1.extend(nums2)\n",
    "        nums1.sort()\n",
    "        if (n_ % 2 == 0):\n",
    "            # even \n",
    "            n = int(n_ / 2)\n",
    "            val = (nums1[n-1]+nums1[n]) / 2\n",
    "        else:\n",
    "            # odd\n",
    "            n = int((n_ - 1)/2)\n",
    "            val = nums1[n]\n",
    "        return val\n",
    "print(findMedianSortedArrays(nums1 = [1,3], nums2 = [2]), 2.0)\n",
    "print(findMedianSortedArrays(nums1 = [1,2], nums2 = [3,4]), 2.5)"
   ]
  },
  {
   "cell_type": "markdown",
   "metadata": {},
   "source": [
    "# Reverse Integer\n",
    "Given a signed 32-bit integer x, return x with its digits reversed. If reversing x causes the value to go outside the signed 32-bit integer range $[-2^{31}, 2^{31} - 1]$, then return 0.  \n",
    "__HINT__ [here](https://redquark.org/leetcode/0007-reverse-integer/)"
   ]
  },
  {
   "cell_type": "code",
   "execution_count": 39,
   "metadata": {},
   "outputs": [
    {
     "name": "stdout",
     "output_type": "stream",
     "text": [
      "9 9\n"
     ]
    }
   ],
   "source": [
    "def reverse(x: int) -> int:\n",
    "    sign = 1\n",
    "    if (x < 0):\n",
    "        # get rid of the sign\n",
    "        sign = -1\n",
    "        x = -x\n",
    "    # process positive\n",
    "    res = 0\n",
    "    while (x >= 1):\n",
    "        res = res * 10 + x % 10\n",
    "        x //= 10 # \n",
    "        #print(f\"x = {x} res={res}\")\n",
    "    if (res >= 2**31 - 1):\n",
    "        return 0\n",
    "    \n",
    "    return int(sign*res)\n",
    "#print(reverse(x=123),321)\n",
    "#print(reverse(x=-123),-321)\n",
    "#print(reverse(x=120),21)\n",
    "#print(reverse(x=1),1)\n",
    "print(reverse(x=900000),9)"
   ]
  },
  {
   "cell_type": "markdown",
   "metadata": {},
   "source": [
    "# 3Sum (pupular interview question)\n",
    "Given an integer array nums, return all the triplets `[nums[i], nums[j], nums[k]]` such that `i != j`, `i != k`, and `j != k`, and `nums[i] + nums[j] + nums[k] == 0`.  \n",
    "Notice that the solution set must not contain duplicate triplets.\n",
    "__HINT__ [fizzbuzz](https://fizzbuzzed.com/top-interview-questions-1/)"
   ]
  },
  {
   "cell_type": "code",
   "execution_count": 63,
   "metadata": {},
   "outputs": [
    {
     "name": "stdout",
     "output_type": "stream",
     "text": [
      "[[-1, -1, 2], [-1, 0, 1]] \t [[-1, -1, 2], [-1, 0, 1]]\n",
      "[] \t []\n",
      "[] \t [0, 0, 0]\n",
      "[] \t []\n",
      "[[-1, -1, 2], [-1, 0, 1]] \t [[-1, -1, 2], [-1, 0, 1]]\n",
      "[] \t []\n",
      "[[0, 0, 0]] \t [0, 0, 0]\n",
      "[] \t []\n"
     ]
    }
   ],
   "source": [
    "# My solution with an error in 3rd example...\n",
    "def threeSum(nums: list[int]) -> list[list[int]]:\n",
    "    res = []\n",
    "    for i, iv in enumerate(nums):\n",
    "        for j, jv in enumerate(nums[i+1:]):\n",
    "            for k, kv in enumerate(nums[j+1:]):\n",
    "                if ((iv+jv+kv == 0)and(i!=j)and(i!=k)and(j!=k)):\n",
    "                    res_ = sorted([iv,jv,kv])\n",
    "                    if (not res_ in res):\n",
    "                        res.append(res_)\n",
    "    return res\n",
    "\n",
    "print(threeSum([-1,0,1,2,-1,-4]),'\\t',[[-1,-1,2],[-1,0,1]])\n",
    "print(threeSum([0,1,1]),'\\t',[])\n",
    "print(threeSum([0,0,0]),'\\t',[0,0,0])\n",
    "print(threeSum([1,2,-2,-1]),'\\t',[])\n",
    "# FizzBuzz solution \"The two pointer trick\"\n",
    "def threeSum(nums: list[int]) -> list[list[int]]:\n",
    "    res = []\n",
    "    nums = sorted(nums)\n",
    "    for i, iv in enumerate(nums):\n",
    "        # Never let i refer to the same value twice to avoid duplicates.\n",
    "        if ((i!=0) & (iv == nums[i-1])):\n",
    "             continue\n",
    "        j = i + 1\n",
    "        k = len(nums) - 1\n",
    "        while( j < k ):\n",
    "            if (nums[i] + nums[j] + nums[k] == 0):\n",
    "                res.append([nums[i],nums[j],nums[k]])\n",
    "                j = j + 1\n",
    "                # Never let j refer to the same value twice (in an output) to avoid duplicates\n",
    "                while( (j < k) & (nums[j] == nums[j-1])):\n",
    "                    j=j+1\n",
    "            elif (nums[i]+nums[j]+nums[k] < 0):\n",
    "                j=j+1\n",
    "            else:\n",
    "                k=k-1\n",
    "    return res\n",
    "\n",
    "print(threeSum([-1,0,1,2,-1,-4]),'\\t',[[-1,-1,2],[-1,0,1]])\n",
    "print(threeSum([0,1,1]),'\\t',[])\n",
    "print(threeSum([0,0,0]),'\\t',[0,0,0])\n",
    "print(threeSum([1,2,-2,-1]),'\\t',[])"
   ]
  },
  {
   "cell_type": "markdown",
   "metadata": {},
   "source": [
    "# 3Sum Closest  \n",
    "Given an integer array nums of length n and an integer target, find three integers in nums such that the sum is closest to target.  \n",
    "Return the sum of the three integers.  \n",
    "You may assume that each input would have exactly one solution.  \n",
    "__HINT__: [walkccc](https://walkccc.me/LeetCode/problems/0016/)"
   ]
  },
  {
   "cell_type": "code",
   "execution_count": 41,
   "metadata": {},
   "outputs": [
    {
     "name": "stdout",
     "output_type": "stream",
     "text": [
      "2 2\n",
      "0 0\n"
     ]
    }
   ],
   "source": [
    "def threeSumClosest__(nums: list[int], target: int) -> int:\n",
    "    res = []; ds = []\n",
    "    nums = sorted(nums)\n",
    "    N = len(nums)\n",
    "    \n",
    "    for i, iv in enumerate(nums):\n",
    "        for j, jv in enumerate(nums[i:]):\n",
    "            for k, kv in enumerate(nums[j:]):\n",
    "                val = iv+jv+kv\n",
    "                d = abs(target - val)\n",
    "                res.append(val)\n",
    "                ds.append(d)\n",
    "    return res[ds.index(min(ds))]\n",
    "def threeSumClosest(nums: list[int], target: int) -> int:\n",
    "    res = []\n",
    "    ans = nums[0]+nums[1]+nums[2]\n",
    "    nums = sorted(nums)\n",
    "    N = len(nums)\n",
    "    for i, iv in enumerate(nums):\n",
    "        if (i!=0 & nums[i-1]==nums[i]): # avoid repetitons\n",
    "            continue\n",
    "        l = i+1\n",
    "        r = N-1\n",
    "        while (l < r):\n",
    "            summ = nums[i]+nums[l]+nums[r]\n",
    "            if (summ == target):\n",
    "                return summ\n",
    "            if (abs(summ - target) < abs(ans - target)):\n",
    "                ans = summ\n",
    "            if (summ < target):\n",
    "                l+=1\n",
    "            else:\n",
    "                r-=1\n",
    "    return ans\n",
    "print(threeSumClosest([-1,2,1,-4], target=1), 2)\n",
    "print(threeSumClosest([0, 0, 0], target=1), 0)"
   ]
  },
  {
   "cell_type": "markdown",
   "metadata": {},
   "source": [
    "# 4Sum\n",
    "Given an array nums of n integers, return an array of all the unique quadruplets `[nums[a], nums[b], nums[c], nums[d]]` such that:\n",
    "$0 \\leq a, b, c, d < n$  \n",
    "$a, b, c$, and $d$ are distinct.  \n",
    "`nums[a] + nums[b] + nums[c] + nums[d] == target`  \n",
    "You may return the answer in any order.  \n",
    "__HINT__: [walkccc](https://walkccc.me/LeetCode/problems/0018/)"
   ]
  },
  {
   "cell_type": "code",
   "execution_count": 64,
   "metadata": {},
   "outputs": [
    {
     "name": "stdout",
     "output_type": "stream",
     "text": [
      "[[-2, -1, 1, 2], [-2, 0, 0, 2], [-1, 0, 0, 1]] \n",
      " [[-2, -1, 1, 2], [-2, 0, 0, 2], [-1, 0, 0, 1]]\n"
     ]
    }
   ],
   "source": [
    "def fourSum__(nums: list[int], target: int) -> list[list[int]]:\n",
    "    res = []\n",
    "    N = len(nums)\n",
    "    # print(nums[5])\n",
    "    \n",
    "    nums = sorted(nums)\n",
    "    for i in range(N):\n",
    "        if (i!=0 & nums[i-1]==nums[i]):\n",
    "            continue\n",
    "        for j in range(N):\n",
    "            if (i==j | (j!=0 & nums[j-1]==nums[j])):\n",
    "                continue\n",
    "            l = j+1\n",
    "            r = N-1\n",
    "            while (l < r):\n",
    "                # print(f\"i={i} j={j} l={l} r={r} [N={N}]\")\n",
    "                if (nums[i] + nums[j] + nums[l] + nums[r] == target):\n",
    "                    _val = [nums[i], nums[j], nums[l], nums[r]]\n",
    "                    if (not _val in res):\n",
    "                        res.append(_val)\n",
    "                    j+=1\n",
    "                    while (l < r & (nums[l-1]==nums[l])):\n",
    "                        l+=1\n",
    "                elif(nums[i] + nums[j] + nums[l] + nums[r] < target):\n",
    "                    l+=1\n",
    "                else:\n",
    "                    r-=1\n",
    "    return res\n",
    "def fourSum(nums: list[int], target: int):\n",
    "    ans = []\n",
    "\n",
    "    def nSum(l: int, r: int, target: int, n: int, path: list[int], ans: list[list[int]]) -> None:\n",
    "    \n",
    "      if (r - l + 1 < n) or (n < 2) or (target < nums[l] * n) or (target > nums[r] * n):\n",
    "        return\n",
    "    \n",
    "      # two pointer algorithm\n",
    "      if (n == 2):\n",
    "        while (l < r):\n",
    "          summ = nums[l] + nums[r]\n",
    "          if summ == target:\n",
    "            ans.append(path + [nums[l], nums[r]])\n",
    "            l += 1\n",
    "            while (nums[l] == nums[l - 1]) and (l < r):\n",
    "              l += 1\n",
    "          elif (summ < target):\n",
    "            l += 1\n",
    "          else:\n",
    "            r -= 1\n",
    "        return\n",
    "\n",
    "      # avoid duplicates\n",
    "      for i in range(l, r + 1):\n",
    "        if (i > l) and (nums[i] == nums[i - 1]):\n",
    "          continue\n",
    "        # \n",
    "        nSum(l=i+1, r=r, target=target-nums[i], n=n-1, path=path+[nums[i]], ans=ans)\n",
    "\n",
    "    nums.sort()\n",
    "    \n",
    "    nSum(l=0, r=len(nums) - 1, target=target, n=4, path=[], ans=ans)\n",
    "    \n",
    "    return ans\n",
    "print(fourSum(nums = [1,0,-1,0,-2,2], target = 0), '\\n', [[-2,-1,1,2],[-2,0,0,2],[-1,0,0,1]])"
   ]
  },
  {
   "cell_type": "markdown",
   "metadata": {},
   "source": []
  }
 ],
 "metadata": {
  "kernelspec": {
   "display_name": "PyBlastAfterglow",
   "language": "python",
   "name": "python3"
  },
  "language_info": {
   "codemirror_mode": {
    "name": "ipython",
    "version": 3
   },
   "file_extension": ".py",
   "mimetype": "text/x-python",
   "name": "python",
   "nbconvert_exporter": "python",
   "pygments_lexer": "ipython3",
   "version": "3.9.16"
  }
 },
 "nbformat": 4,
 "nbformat_minor": 2
}
