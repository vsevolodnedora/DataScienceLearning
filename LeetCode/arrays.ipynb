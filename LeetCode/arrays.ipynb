{
 "cells": [
  {
   "cell_type": "markdown",
   "metadata": {},
   "source": [
    "# Leetcode problems with arrays"
   ]
  },
  {
   "cell_type": "markdown",
   "metadata": {},
   "source": [
    "#### 26. Remove Duplicates from Sorted Array\n",
    "\n",
    "Given an integer array nums sorted in non-decreasing order, remove the duplicates in-place such that each unique element appears only once. The relative order of the elements should be kept the same. Then return the number of unique elements in nums.\n",
    "\n",
    "Consider the number of unique elements of nums to be k, to get accepted, you need to do the following things:\n",
    "\n",
    "- Change the array nums such that the first k elements of nums contain the unique elements in the order they were present in nums initially. The remaining elements of nums are not important as well as the size of nums.\n",
    "- Return k.\n"
   ]
  },
  {
   "cell_type": "markdown",
   "metadata": {},
   "source": [
    "#### [Solution](https://www.geeksforgeeks.org/remove-duplicates-sorted-array/)\n",
    "\n",
    "Fastest Efficient Approach: __Using Binary Search__  \n",
    "The problem requires us to remove duplicate elements from a sorted array, i.e., _we need to keep only one copy of each element in the array_.  \n",
    "Since the array is sorted, all duplicate elements will be _adjacent_ to each other, so we can easily remove them by shifting the subsequent elements of the array to the left.\n",
    "\n",
    "We can use two pointers $i$ and $j$, where $i$ points to the last unique element found so far, and $j$ points to the current element being examined. If $nums[i]$ and $nums[j]$ are equal, we just increment $j$. Otherwise, we increment $i$ and copy $nums[j]$ to $nums[i]$. At the end, we return $i+1$, which represents the length of the modified array.\n",
    "\n",
    "We Would be using _Binary Search_ to solve the particular problem in the fastest way.\n",
    "\n",
    "Implementation of the above approac. \n",
    "\n",
    "Make an algorithm that runs in $\\log(n)$ time"
   ]
  },
  {
   "cell_type": "code",
   "execution_count": null,
   "metadata": {},
   "outputs": [],
   "source": [
    "# binary search\n",
    "def binary_search(nums, low, high, val):\n",
    "    pass"
   ]
  }
 ],
 "metadata": {
  "kernelspec": {
   "display_name": "Python 3",
   "language": "python",
   "name": "python3"
  },
  "language_info": {
   "codemirror_mode": {
    "name": "ipython",
    "version": 3
   },
   "file_extension": ".py",
   "mimetype": "text/x-python",
   "name": "python",
   "nbconvert_exporter": "python",
   "pygments_lexer": "ipython3",
   "version": "3.10.12"
  }
 },
 "nbformat": 4,
 "nbformat_minor": 2
}
