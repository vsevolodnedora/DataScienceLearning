{
 "cells": [
  {
   "cell_type": "markdown",
   "metadata": {},
   "source": [
    "# Linked List\n",
    "\n",
    "List in a memory: \n",
    "- Array\n",
    "- Linked List \n",
    "\n",
    "Linked Lists:\n",
    "- _Single Linked List_:\n",
    "    - Navigation is __forward only__\n",
    "    - Double Linked List: Navigation is __forward and backward__\n",
    "    - Circular Linked List: __last element is linked to the first one__\n",
    "\n",
    "- Single Linked list is composed of `nodes` that have two parts:\n",
    "    - Data\n",
    "    - Link (adress of the next node in the list)\n",
    "\n",
    "Nodes may be stored in a non-zequential order in memory.  \n",
    "\n",
    "`Head` is the name of the first pointer to the first node of the Linked List.  \n",
    "\n"
   ]
  },
  {
   "cell_type": "markdown",
   "metadata": {},
   "source": [
    "# 141. Linked List Cycle\n",
    "\n",
    "Given head, the head of a linked list, determine if the linked list has a cycle in it.\n",
    "\n",
    "There is a cycle in a linked list if there is some node in the list that can be reached again by continuously following the next pointer. Internally, pos is used to denote the index of the node that tail's next pointer is connected to. Note that pos is not passed as a parameter.\n",
    "\n",
    "Return true if there is a cycle in the linked list. Otherwise, return false. "
   ]
  },
  {
   "cell_type": "code",
   "execution_count": 14,
   "metadata": {},
   "outputs": [],
   "source": [
    "# This solution overrides the \"next\" to string, steps forward, anc checks if next is string\n",
    "from typing import Optional\n",
    "class ListNode:\n",
    "    def __init__(self, x):\n",
    "        self.val = x\n",
    "        self.next = None\n",
    "def hasCycle(head: Optional[ListNode]) -> bool:\n",
    "    # Create a temporary node\n",
    "    temp = \"\"\n",
    "    while (head != None):\n",
    "    \n",
    "        # This condition is for the case\n",
    "        # when there is no loop\n",
    "        if (head.next == None):\n",
    "            return False\n",
    "    \n",
    "        # Check if next is already\n",
    "        # pointing to temp\n",
    "        if (head.next == temp):\n",
    "            return True\n",
    "    \n",
    "        # Store the pointer to the next node\n",
    "        # in order to get to it in the next step\n",
    "        next = head.next\n",
    "    \n",
    "        # Make next point to temp\n",
    "        head.next = temp\n",
    "    \n",
    "        # Get to the next node in the list\n",
    "        head = next\n",
    "    \n",
    "    return False"
   ]
  },
  {
   "cell_type": "code",
   "execution_count": 15,
   "metadata": {},
   "outputs": [],
   "source": [
    "def printList(head: Optional[ListNode]):\n",
    "    while (head != None):\n",
    "        print(head.val, end=\" \")\n",
    "        head = head.next\n",
    "    print()"
   ]
  },
  {
   "cell_type": "code",
   "execution_count": null,
   "metadata": {},
   "outputs": [],
   "source": [
    "# Driver Code\n",
    "head = ListNode(1)\n",
    "head.next = ListNode(2)\n",
    "head.next.next = ListNode(3)\n",
    "head.next.next.next = ListNode(4)\n",
    "head.next.next.next.next = ListNode(5)\n",
    " \n",
    "# Create a loop for testing(5 is pointing to 3)\n",
    "head.next.next.next.next.next = head.next.next\n",
    "# printList(head) \n",
    "\n",
    "found = hasCycle(head)\n",
    "if (found):\n",
    "    print(\"Loop Found\")\n",
    "else:\n",
    "    print(\"No Loop\")\n",
    "    \n"
   ]
  },
  {
   "cell_type": "markdown",
   "metadata": {},
   "source": [
    "# 142. Linked List Cycle II\n",
    "Given the head of a linked list, return the node where the cycle begins. If there is no cycle, return null.\n",
    "\n",
    "There is a cycle in a linked list if there is some node in the list that can be reached again by continuously following the next pointer. Internally, pos is used to denote the index of the node that tail's next pointer is connected to (0-indexed). It is -1 if there is no cycle. Note that pos is not passed as a parameter.\n",
    "\n",
    "__Do not modify the linked list.__"
   ]
  },
  {
   "cell_type": "markdown",
   "metadata": {},
   "source": [
    "Given the head of a linked list, return the node where the cycle begins. If there is no cycle, return null.\n",
    "\n",
    "There is a cycle in a linked list if there is some node in the list that can be reached again by continuously following the next pointer. Internally, pos is used to denote the index of the node that tail's next pointer is connected to (0-indexed). It is -1 if there is no cycle. Note that pos is not passed as a parameter.\n",
    "\n",
    "Do not modify the linked list."
   ]
  },
  {
   "cell_type": "code",
   "execution_count": 24,
   "metadata": {},
   "outputs": [
    {
     "name": "stdout",
     "output_type": "stream",
     "text": [
      "3\n"
     ]
    }
   ],
   "source": [
    "# This solution steps throug the linked list two times with the \n",
    "# second being faster than the first and finds when they meet \n",
    "# (where list is linked)\n",
    "def catchUp(head):\n",
    "    fast = head\n",
    "    slow = head\n",
    "    while (not fast is None):\n",
    "        fast = fast.next\n",
    "        if (not fast is None):\n",
    "            fast = fast.next\n",
    "        if (not slow is None):\n",
    "            slow = slow.next\n",
    "        if (slow == fast):\n",
    "            break\n",
    "    return fast\n",
    "\n",
    "def detectCycle(head: Optional[ListNode]) -> Optional[ListNode]:\n",
    "    if (head is None or head.next is None):\n",
    "        return None\n",
    "        \n",
    "    fast = catchUp(head)\n",
    "    if (fast is None):\n",
    "        return None\n",
    "    slow = head\n",
    "    while (slow != fast):\n",
    "        slow = slow.next\n",
    "        fast = fast.next\n",
    "    return slow\n",
    "\n",
    "head = ListNode(1)\n",
    "head.next = ListNode(2)\n",
    "head.next.next = ListNode(3)\n",
    "head.next.next.next = ListNode(4)\n",
    "head.next.next.next.next = ListNode(5)\n",
    " \n",
    "# Create a loop for testing(5 is pointing to 3)\n",
    "head.next.next.next.next.next = head.next.next\n",
    "# printList(head) \n",
    "\n",
    "found = detectCycle(head)\n",
    "if not found is None:\n",
    "    print(found.val)\n"
   ]
  },
  {
   "cell_type": "markdown",
   "metadata": {},
   "source": []
  }
 ],
 "metadata": {
  "kernelspec": {
   "display_name": "PyBlastAfterglow",
   "language": "python",
   "name": "python3"
  },
  "language_info": {
   "codemirror_mode": {
    "name": "ipython",
    "version": 3
   },
   "file_extension": ".py",
   "mimetype": "text/x-python",
   "name": "python",
   "nbconvert_exporter": "python",
   "pygments_lexer": "ipython3",
   "version": "3.9.16"
  }
 },
 "nbformat": 4,
 "nbformat_minor": 2
}
