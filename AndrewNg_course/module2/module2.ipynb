{
 "cells": [
  {
   "cell_type": "markdown",
   "metadata": {},
   "source": [
    "# Multiple linear regression"
   ]
  },
  {
   "attachments": {},
   "cell_type": "markdown",
   "metadata": {},
   "source": [
    "Condier a set of feautrs, list of which is $x_j$, with $n$ gbeing the **number of features**. For each feature there is a set $\\vec{x}^{(i)}$  of $t^{\\rm th}$ training example. Now $\\vec{x}^{(i)}$ is `a vector`.\n",
    "A given feature is $x_j^{(i)}$. \n",
    "\n",
    "`Feature vector = row vector`, $\\vec{x}^{(i)}$ is a set of values for different features for a single label $y^{(i)}$ \n",
    "$$\n",
    "x_{\\rm feature}^{(\\rm training)}\n",
    "$$\n",
    "\n",
    "Multiple linear regression model:\n",
    "$$\n",
    "f_{w,b}=\\Sigma_{i=0}^{m} w_i x_i + b = \\vec{w}\\cdot \\vec{x} + b\n",
    "$$"
   ]
  },
  {
   "attachments": {},
   "cell_type": "markdown",
   "metadata": {},
   "source": [
    "# Vectorization p1"
   ]
  },
  {
   "attachments": {},
   "cell_type": "markdown",
   "metadata": {},
   "source": [
    "Given $\\vec{w} = [w_1, w_2, w_3]$ and $\\vec{x}=[x_1,x_2,x_3]$.  \n",
    "Vecotrization: code is shorted and runs faster"
   ]
  },
  {
   "cell_type": "code",
   "execution_count": 4,
   "metadata": {},
   "outputs": [],
   "source": [
    "import numpy as np\n",
    "w = np.array([1.,2.5,-3.3])\n",
    "x = np.array([10,20,30])\n",
    "b = 1\n",
    "\n",
    "# without vectorization\n",
    "f = 0\n",
    "for j in range(0,len(w)):\n",
    "    f = f + w[j] * x[j]\n",
    "f = f + b\n",
    "\n",
    "# with vectorization\n",
    "f = np.dot(w,x) + b"
   ]
  },
  {
   "attachments": {},
   "cell_type": "markdown",
   "metadata": {},
   "source": [
    "# Gradient descent for multiple linear regression\n",
    "\n",
    "Consider vectors of slopes $\\vec{w}$ and intersect $b$. \n",
    "Then $f_{\\vec{w},b} = \\vec{w}\\cdot \\vec{x} + b$.  \n",
    "Then compute $J(\\vec{w},b)$\n",
    "\n",
    "So the gradient descend \n",
    "$$\n",
    "w_{j} = w_{j} - \\alpha\\frac{\\partial}{\\partial w_{j}}J(\\vec{w},b) \\\\\n",
    "b = b - \\alpha \\frac{\\partial}{\\partial b} J(\\vec{w},b)\n",
    "$$\n",
    "\n",
    "In code it is \n",
    "\n",
    "$$\n",
    "w_1 = w_1 - \\alpha \\frac{1}{m} \\sum_{i=0}^{m}(f_{\\vec{w},b}(\\vec{x}^{(i)})-y^{(i)}) x^{(i)}_1 \\\\ \n",
    "... \\\\\n",
    "w_n = w_n - \\alpha \\frac{1}{m} \\sum_{i=0}^{m}(f_{\\vec{w},b}(\\vec{x}^{(i)})-y^{(i)}) x^{(i)}_n \\\\ \n",
    "b = b - \\alpha \\frac{1}{m} \\sum_{i=0}^{m}(f_{\\vec{w},b}(\\vec{x}^{(i)})-y^{(i)}) \\\\ \n",
    "$$\n",
    "\n",
    "Alternative way to find $w$ and $b$. `Normal equation`. Works only for linear regression. Works without iterations. But it cannot be generalized and slow. Rememeber `normal equation`."
   ]
  },
  {
   "cell_type": "code",
   "execution_count": 1,
   "metadata": {},
   "outputs": [],
   "source": [
    "import copy, math\n",
    "import numpy as np\n",
    "import matplotlib.pyplot as plt\n",
    "plt.style.use('./deeplearning.mplstyle')\n",
    "np.set_printoptions(precision=2)  # reduced display precision on numpy arrays"
   ]
  },
  {
   "cell_type": "code",
   "execution_count": 3,
   "metadata": {},
   "outputs": [],
   "source": [
    "# Define data (note X is a matrix now)\n",
    "X_train = np.array([[2104, 5, 1, 45], \n",
    "                    [1416, 3, 2, 40], \n",
    "                    [852, 2, 1, 35]])\n",
    "y_train = np.array([460, 232, 178])\n",
    "\n",
    "# initial model parameters\n",
    "b_init = 785.1811367994083\n",
    "w_init = np.array([ 0.39133535, 18.75376741, -53.36032453, -26.42131618])"
   ]
  },
  {
   "cell_type": "code",
   "execution_count": 4,
   "metadata": {},
   "outputs": [],
   "source": [
    "# define cost function for multiple vatiable linear regression\n",
    "def compute_cost(X, y, w, b): \n",
    "    \"\"\"\n",
    "    compute cost\n",
    "    Args:\n",
    "      X (ndarray (m,n)): Data, m examples with n features\n",
    "      y (ndarray (m,)) : target values\n",
    "      w (ndarray (n,)) : model parameters  \n",
    "      b (scalar)       : model parameter\n",
    "      \n",
    "    Returns:\n",
    "      cost (scalar): cost\n",
    "    \"\"\"\n",
    "    m = X.shape[0]\n",
    "    cost = 0.0\n",
    "    for i in range(m):                                \n",
    "        f_wb_i = np.dot(X[i], w) + b           #(n,)(n,) = scalar (see np.dot)\n",
    "        cost = cost + (f_wb_i - y[i])**2       #scalar\n",
    "    cost = cost / (2 * m)                      #scalar    \n",
    "    return cost"
   ]
  },
  {
   "cell_type": "code",
   "execution_count": 6,
   "metadata": {},
   "outputs": [],
   "source": [
    "# define gradient descend\n",
    "def compute_gradient(X, y, w, b): \n",
    "    \"\"\"\n",
    "    Computes the gradient for linear regression \n",
    "    Args:\n",
    "      X (ndarray (m,n)): Data, m examples with n features\n",
    "      y (ndarray (m,)) : target values\n",
    "      w (ndarray (n,)) : model parameters  \n",
    "      b (scalar)       : model parameter\n",
    "      \n",
    "    Returns:\n",
    "      dj_dw (ndarray (n,)): The gradient of the cost w.r.t. the parameters w. \n",
    "      dj_db (scalar):       The gradient of the cost w.r.t. the parameter b. \n",
    "    \"\"\"\n",
    "    m, n = X.shape           #(number of examples, number of features)\n",
    "    dj_dw = np.zeros((n,))\n",
    "    dj_db = 0.\n",
    "\n",
    "    # See Eq. above\n",
    "    for i in range(m):                             \n",
    "        err = (np.dot(X[i], w) + b) - y[i] \n",
    "        for j in range(n):                         \n",
    "            dj_dw[j] = dj_dw[j] + err * X[i, j]\n",
    "        dj_db = dj_db + err                        \n",
    "    dj_dw = dj_dw / m                                \n",
    "    dj_db = dj_db / m                                \n",
    "        \n",
    "    return dj_db, dj_dw"
   ]
  },
  {
   "cell_type": "code",
   "execution_count": 8,
   "metadata": {},
   "outputs": [],
   "source": [
    "def gradient_descent(X, y, w_in, b_in, \n",
    "                     cost_function, gradient_function, alpha, num_iters): \n",
    "    \"\"\"\n",
    "    Performs batch gradient descent to learn w and b. Updates w and b by taking \n",
    "    num_iters gradient steps with learning rate alpha\n",
    "    \n",
    "    Args:\n",
    "      X (ndarray (m,n))   : Data, m examples with n features\n",
    "      y (ndarray (m,))    : target values\n",
    "      w_in (ndarray (n,)) : initial model parameters  \n",
    "      b_in (scalar)       : initial model parameter\n",
    "      cost_function       : function to compute cost\n",
    "      gradient_function   : function to compute the gradient\n",
    "      alpha (float)       : Learning rate\n",
    "      num_iters (int)     : number of iterations to run gradient descent\n",
    "      \n",
    "    Returns:\n",
    "      w (ndarray (n,)) : Updated values of parameters \n",
    "      b (scalar)       : Updated value of parameter \n",
    "      \"\"\"\n",
    "    \n",
    "    # An array to store cost J and w's at each iteration primarily for graphing later\n",
    "    J_history = []\n",
    "    w = copy.deepcopy(w_in)  #avoid modifying global w within function\n",
    "    b = b_in\n",
    "    \n",
    "    for i in range(num_iters):\n",
    "\n",
    "        # Calculate the gradient and update the parameters\n",
    "        dj_db, dj_dw = gradient_function(X, y, w, b)   ##None\n",
    "\n",
    "        # Update Parameters using w, b, alpha and gradient\n",
    "        w = w - alpha * dj_dw               ##None\n",
    "        b = b - alpha * dj_db               ##None\n",
    "      \n",
    "        # Save cost J at each iteration\n",
    "        if (i<100000):      # prevent resource exhaustion \n",
    "            J_history.append( cost_function(X, y, w, b))\n",
    "\n",
    "        # Print cost every at intervals 10 times or as many iterations if < 10\n",
    "        if (i % math.ceil(num_iters / 10) == 0):\n",
    "            print(f\"Iteration {i:4d}: Cost {J_history[-1]:8.2f}   \")\n",
    "        \n",
    "    return (w, b, J_history) #return final w,b and J history for graphing"
   ]
  },
  {
   "cell_type": "code",
   "execution_count": 14,
   "metadata": {},
   "outputs": [
    {
     "name": "stdout",
     "output_type": "stream",
     "text": [
      "Iteration    0: Cost  2529.46   \n"
     ]
    },
    {
     "ename": "KeyboardInterrupt",
     "evalue": "",
     "output_type": "error",
     "traceback": [
      "\u001b[0;31m---------------------------------------------------------------------------\u001b[0m",
      "\u001b[0;31mKeyboardInterrupt\u001b[0m                         Traceback (most recent call last)",
      "Cell \u001b[0;32mIn[14], line 8\u001b[0m\n\u001b[1;32m      6\u001b[0m alpha \u001b[39m=\u001b[39m \u001b[39m5.0e-7\u001b[39m\n\u001b[1;32m      7\u001b[0m \u001b[39m# run gradient descent \u001b[39;00m\n\u001b[0;32m----> 8\u001b[0m w_final, b_final, J_hist \u001b[39m=\u001b[39m gradient_descent(X_train, y_train, initial_w, initial_b,\n\u001b[1;32m      9\u001b[0m                                                     compute_cost, compute_gradient, \n\u001b[1;32m     10\u001b[0m                                                     alpha, iterations)\n\u001b[1;32m     11\u001b[0m \u001b[39mprint\u001b[39m(\u001b[39mf\u001b[39m\u001b[39m\"\u001b[39m\u001b[39mb,w found by gradient descent: \u001b[39m\u001b[39m{\u001b[39;00mb_final\u001b[39m:\u001b[39;00m\u001b[39m0.2f\u001b[39m\u001b[39m}\u001b[39;00m\u001b[39m,\u001b[39m\u001b[39m{\u001b[39;00mw_final\u001b[39m}\u001b[39;00m\u001b[39m \u001b[39m\u001b[39m\"\u001b[39m)\n\u001b[1;32m     12\u001b[0m m, _ \u001b[39m=\u001b[39m X_train\u001b[39m.\u001b[39mshape\n",
      "Cell \u001b[0;32mIn[8], line 30\u001b[0m, in \u001b[0;36mgradient_descent\u001b[0;34m(X, y, w_in, b_in, cost_function, gradient_function, alpha, num_iters)\u001b[0m\n\u001b[1;32m     25\u001b[0m b \u001b[39m=\u001b[39m b_in\n\u001b[1;32m     27\u001b[0m \u001b[39mfor\u001b[39;00m i \u001b[39min\u001b[39;00m \u001b[39mrange\u001b[39m(num_iters):\n\u001b[1;32m     28\u001b[0m \n\u001b[1;32m     29\u001b[0m     \u001b[39m# Calculate the gradient and update the parameters\u001b[39;00m\n\u001b[0;32m---> 30\u001b[0m     dj_db, dj_dw \u001b[39m=\u001b[39m gradient_function(X, y, w, b)   \u001b[39m##None\u001b[39;00m\n\u001b[1;32m     32\u001b[0m     \u001b[39m# Update Parameters using w, b, alpha and gradient\u001b[39;00m\n\u001b[1;32m     33\u001b[0m     w \u001b[39m=\u001b[39m w \u001b[39m-\u001b[39m alpha \u001b[39m*\u001b[39m dj_dw               \u001b[39m##None\u001b[39;00m\n",
      "Cell \u001b[0;32mIn[6], line 21\u001b[0m, in \u001b[0;36mcompute_gradient\u001b[0;34m(X, y, w, b)\u001b[0m\n\u001b[1;32m     19\u001b[0m \u001b[39m# See Eq. above\u001b[39;00m\n\u001b[1;32m     20\u001b[0m \u001b[39mfor\u001b[39;00m i \u001b[39min\u001b[39;00m \u001b[39mrange\u001b[39m(m):                             \n\u001b[0;32m---> 21\u001b[0m     err \u001b[39m=\u001b[39m (np\u001b[39m.\u001b[39;49mdot(X[i], w) \u001b[39m+\u001b[39m b) \u001b[39m-\u001b[39m y[i] \u001b[39m# linear regression model - data  \u001b[39;00m\n\u001b[1;32m     22\u001b[0m     \u001b[39mfor\u001b[39;00m j \u001b[39min\u001b[39;00m \u001b[39mrange\u001b[39m(n):                         \n\u001b[1;32m     23\u001b[0m         dj_dw[j] \u001b[39m=\u001b[39m dj_dw[j] \u001b[39m+\u001b[39m err \u001b[39m*\u001b[39m X[i, j]\n",
      "File \u001b[0;32m<__array_function__ internals>:5\u001b[0m, in \u001b[0;36mdot\u001b[0;34m(*args, **kwargs)\u001b[0m\n",
      "\u001b[0;31mKeyboardInterrupt\u001b[0m: "
     ]
    }
   ],
   "source": [
    "# initialize parameters\n",
    "initial_w = np.zeros_like(w_init)\n",
    "initial_b = 0.\n",
    "# some gradient descent settings\n",
    "iterations = int(1e10)\n",
    "alpha = 5.0e-7\n",
    "# run gradient descent \n",
    "w_final, b_final, J_hist = gradient_descent(X_train, y_train, initial_w, initial_b,\n",
    "                                                    compute_cost, compute_gradient, \n",
    "                                                    alpha, iterations)\n",
    "print(f\"b,w found by gradient descent: {b_final:0.2f},{w_final} \")\n",
    "m, _ = X_train.shape\n",
    "for i in range(m):\n",
    "    print(f\"prediction: {np.dot(X_train[i], w_final) + b_final:0.2f}, target value: {y_train[i]}\")"
   ]
  },
  {
   "cell_type": "code",
   "execution_count": 12,
   "metadata": {},
   "outputs": [
    {
     "data": {
      "image/png": "[encoded data removed]",
      "text/plain": [
       "<Figure size 1200x400 with 2 Axes>"
      ]
     },
     "metadata": {},
     "output_type": "display_data"
    }
   ],
   "source": [
    "# plot cost versus iteration  \n",
    "fig, (ax1, ax2) = plt.subplots(1, 2, constrained_layout=True, figsize=(12, 4))\n",
    "ax1.plot(J_hist)\n",
    "ax2.plot(100 + np.arange(len(J_hist[100:])), J_hist[100:])\n",
    "ax1.set_title(\"Cost vs. iteration\");  ax2.set_title(\"Cost vs. iteration (tail)\")\n",
    "ax1.set_ylabel('Cost')             ;  ax2.set_ylabel('Cost') \n",
    "ax1.set_xlabel('iteration step')   ;  ax2.set_xlabel('iteration step') \n",
    "plt.show()"
   ]
  },
  {
   "cell_type": "code",
   "execution_count": null,
   "metadata": {},
   "outputs": [],
   "source": []
  }
 ],
 "metadata": {
  "kernelspec": {
   "display_name": "PyBlastAfterglow",
   "language": "python",
   "name": "python3"
  },
  "language_info": {
   "codemirror_mode": {
    "name": "ipython",
    "version": 3
   },
   "file_extension": ".py",
   "mimetype": "text/x-python",
   "name": "python",
   "nbconvert_exporter": "python",
   "pygments_lexer": "ipython3",
   "version": "3.9.16"
  },
  "orig_nbformat": 4,
  "vscode": {
   "interpreter": {
    "hash": "17eb668eda5a39c0d3bc2959639d2706f63ca5a9b961b8be1b737c9325efbdd2"
   }
  }
 },
 "nbformat": 4,
 "nbformat_minor": 2
}
