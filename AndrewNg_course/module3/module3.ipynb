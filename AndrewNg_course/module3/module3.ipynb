{
 "cells": [
  {
   "attachments": {},
   "cell_type": "markdown",
   "metadata": {},
   "source": [
    "# Classification \n",
    "\n",
    "Only small set of descrete outputs is expected. **Linear regression** is not a good approach. Instead consider **logistic regression**.  \n",
    "Examples of classifications:\n",
    "- Binary classification (only two posstible **classes/categories**) Outputs $0$ or $1$, ej., **negative** and **positive** class.  \n",
    "Building classes for $1$ and $0$. Linear regression predict a **continuum** values between $0$ and $1$, while only categories/classes $0$ and $1$ are needed. "
   ]
  },
  {
   "cell_type": "markdown",
   "metadata": {},
   "source": []
  }
 ],
 "metadata": {
  "language_info": {
   "name": "python"
  },
  "orig_nbformat": 4
 },
 "nbformat": 4,
 "nbformat_minor": 2
}
