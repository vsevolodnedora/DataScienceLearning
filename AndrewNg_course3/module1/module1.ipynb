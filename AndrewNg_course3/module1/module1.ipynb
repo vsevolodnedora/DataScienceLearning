{
 "cells": [
  {
   "attachments": {},
   "cell_type": "markdown",
   "metadata": {},
   "source": [
    "# Unsupervised learning\n",
    "\n",
    "Data $\\{x^{(i)}\\}$; no labels.  \n",
    "Algorithms try to find structure in the data; groups of points. \n",
    "\n",
    "**Applications** Used in DNA analysis, astronomy (space objects clustering). \n",
    "\n",
    "\n",
    "## Clustering\n",
    "\n",
    "Clustering looks at data and finds what data belongs together, in one group. \n",
    "\n",
    "### K-MEANS algorithm\n",
    "\n",
    "_Start_ set a random guess of a center between two clusters (draws a line between all data)\n",
    "\n",
    "Main stages of the algorithm:  \n",
    "- Assign points to the cluster centroids\n",
    "- Move cluster centroids (centers of the clusters)\n",
    "- Repeat\n",
    "\n",
    "**In detail**:  \n",
    "- Go through all the points and check if they are closer to dirst or second cluster centroids, and assign them to the closest. \n",
    "- Compute the middle point between all points assigned to each cluster centroids and move the centroids to it\n",
    "- Repeat untill there is no more change (convergance achieved)\n",
    "\n",
    "In this procedure the cluster centroids will continously 'compete' for points getting as close to the center of the cluster as possible. \n",
    "\n",
    "**Algorithm**:\n",
    "- Randomly initialize $K$ cluster centroinds $\\mu_1,\\mu_2,...\\mu_K$,  where $\\mu_i$ has the same dimension as data $\\vec{x}^{1}$ and equal to the $N$ features in the data. \n",
    "- Assign points to cluster centroids \n",
    "- for each point, compute $c\\in{1,...K}$ - index of the cluster centroid closest to $x^{(i)}$. The distance is computed as $L_2$ norm, i.e, $\\min_k||x^{i}-\\mu_{k}||$\n",
    "- More cluster centroids:  \n",
    "for $k=1$ to $K$, compute $\\mu_k:=$average (mean) of points assigned to cluster $k$ on each axis. $\\mu_i = 1/k(\\sum x^{(k)})$ preserving data dimensiality. \n",
    "(If cluster has 0 points, we remove the clsuter)\n",
    "\n",
    "The algorithm can also be applied to not-clearly-separatable clusters\n",
    "\n"
   ]
  },
  {
   "attachments": {},
   "cell_type": "markdown",
   "metadata": {},
   "source": []
  }
 ],
 "metadata": {
  "language_info": {
   "name": "python"
  },
  "orig_nbformat": 4
 },
 "nbformat": 4,
 "nbformat_minor": 2
}
