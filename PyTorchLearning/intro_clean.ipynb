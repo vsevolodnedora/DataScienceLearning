{
 "cells": [
  {
   "cell_type": "code",
   "execution_count": 1,
   "metadata": {},
   "outputs": [],
   "source": [
    "# This is a clean version of the linear regression model"
   ]
  },
  {
   "cell_type": "code",
   "execution_count": 2,
   "metadata": {},
   "outputs": [
    {
     "name": "stdout",
     "output_type": "stream",
     "text": [
      "using device cpu\n"
     ]
    }
   ],
   "source": [
    "import numpy as np\n",
    "import torch\n",
    "from torch import nn\n",
    "import matplotlib.pyplot as plt\n",
    "# writing for device-agnostic model\n",
    "torch.__version__\n",
    "device = \"cuda\" if torch.cuda.is_available() else \"cpu\"\n",
    "print(f\"using device {device}\")"
   ]
  },
  {
   "cell_type": "code",
   "execution_count": 3,
   "metadata": {},
   "outputs": [
    {
     "name": "stdout",
     "output_type": "stream",
     "text": [
      "torch.Size([50, 1]) torch.Size([50, 1])\n"
     ]
    }
   ],
   "source": [
    "# Set data \n",
    "# given pars\n",
    "weight = 0.7\n",
    "bias = 0.3\n",
    "\n",
    "# data\n",
    "start = 0\n",
    "end = 1\n",
    "step = 0.02\n",
    "X = torch.arange(start, end, step).unsqueeze(dim=1) # add extra dim\n",
    "y = weight * X + bias # linear regression eq: Gradient + Intercept\n",
    "print(X.shape, y.shape)"
   ]
  },
  {
   "cell_type": "code",
   "execution_count": 4,
   "metadata": {},
   "outputs": [
    {
     "data": {
      "text/plain": [
       "(40, 40, 10, 10)"
      ]
     },
     "execution_count": 4,
     "metadata": {},
     "output_type": "execute_result"
    }
   ],
   "source": [
    "# create train/test split (basic method)\n",
    "train_split = int(0.8 * len(X))\n",
    "X_train, y_train = X[:train_split], y[:train_split]\n",
    "X_test, y_test = X[train_split:], y[train_split:]\n",
    "len(X_train), len(y_train), len(X_test), len(y_test) # values as expected 80/20 split"
   ]
  },
  {
   "cell_type": "code",
   "execution_count": 5,
   "metadata": {},
   "outputs": [],
   "source": [
    "# plotting\n",
    "def plot_predictions(train_data=X_train, train_labels=y_train, test_data = X_test, test_labels=y_test, predictions=None):\n",
    "    \"\"\"plots and comapres\"\"\"\n",
    "    plt.figure(figsize=(5,3))\n",
    "    # plot training\n",
    "    plt.scatter(train_data,train_labels,c='b',s=4,label=\"Training data\")\n",
    "    # plot testing \n",
    "    plt.scatter(test_data,test_labels,c='g',s=4,label=\"Testing data\")\n",
    "    # are there are predictions:\n",
    "    if (predictions is not None):\n",
    "        # plot predictions\n",
    "        assert len(test_data) == len(predictions)\n",
    "        plt.scatter(test_data,predictions,c='r',s=4,label=\"Predictions data\")\n",
    "    plt.legend(prop={\"size\":12})"
   ]
  },
  {
   "cell_type": "code",
   "execution_count": 6,
   "metadata": {},
   "outputs": [],
   "source": [
    "# Model\n",
    "# create a linear regression model class (OOP)\n",
    "class LinearRegressionModelV2(nn.Module):\n",
    "    \"\"\" Use nn.Module\n",
    "        nn.Mudule is the 'lego' bricks\n",
    "        The model \n",
    "        1. will start from random parameters for : self.weights and self.bias\n",
    "        2. update them to represent the test set data.\n",
    "        \n",
    "        The \"learning\" is done via an angorithm: \n",
    "        1. \"Gradient Descent\" (see requires_grad=True below)\n",
    "        2. Back propagation\n",
    "        Tracks the weights and bias graidents and updates them via grad. descent and back propagation\n",
    "        \n",
    "    \"\"\"\n",
    "    def __init__(self):\n",
    "        super().__init__() # \n",
    "        # Initialize model parameters (anything, parameters, values, functions)\n",
    "        # applies linear transformation to linear data. Equivalent to 'foward'\n",
    "        self.linear_layer = nn.Linear(in_features=1, # X feature 1\n",
    "                                      out_features=1 # Y-feature 1\n",
    "                                      )\n",
    "        \n",
    "    # Forward method to define the computation in the model (Required by nn.Module)\n",
    "    def forward(self, x:torch.Tensor)->torch.Tensor: \n",
    "        \"\"\" Overrides the base class method.\n",
    "            x: input\n",
    "            THis is a linear regression formula. (linear transformation)\n",
    "            Each time the class is called the 'forward' is called \n",
    "        \"\"\"\n",
    "        return self.linear_layer(x)"
   ]
  },
  {
   "cell_type": "code",
   "execution_count": 11,
   "metadata": {},
   "outputs": [
    {
     "name": "stdout",
     "output_type": "stream",
     "text": [
      "cpu\n",
      "Failed to put the model on 'cuda'end\n"
     ]
    }
   ],
   "source": [
    "# create a random seed\n",
    "torch.manual_seed(42)\n",
    "model_1 = LinearRegressionModelV2()\n",
    "# Try to push model to cuda\n",
    "print(next(model_1.parameters()).device)\n",
    "try:\n",
    "    # error out when is manually set to 'cuda'!\n",
    "    model_1.to(\"cuda\")\n",
    "except RuntimeError:\n",
    "    print(\"Failed to put the model on 'cuda'end\")"
   ]
  },
  {
   "cell_type": "code",
   "execution_count": 15,
   "metadata": {},
   "outputs": [
    {
     "name": "stdout",
     "output_type": "stream",
     "text": [
      "OrderedDict([('linear_layer.weight', tensor([[0.7645]])), ('linear_layer.bias', tensor([0.8300]))])\n",
      "[Parameter containing:\n",
      "tensor([[0.7645]], requires_grad=True), Parameter containing:\n",
      "tensor([0.8300], requires_grad=True)]\n"
     ]
    }
   ],
   "source": [
    "# list named parameters `state_dict()`\n",
    "print(model_1.state_dict())\n",
    "# show parameters (they require grad (as in default train))\n",
    "with torch.inference_mode():\n",
    "    print(list(model_1.parameters()))"
   ]
  },
  {
   "cell_type": "code",
   "execution_count": 13,
   "metadata": {},
   "outputs": [],
   "source": [
    "''' setup a loss function '''\n",
    "loss_fn = nn.L1Loss()\n",
    "# wee need t ominimize the distances between red and \n",
    "# green dots and MAE will also go down\n",
    "\n",
    "''' SEtup an optimizer'''\n",
    "# usually, Loss function and optimizer comes together in a package\n",
    "# see torch.optim()\n",
    "# optimizer 'talks' to the loss function and checks whether \n",
    "# changes improves loss function output\n",
    "# e.g., SGD - stocahstic gradiant descend or Adam\n",
    "# Model improves by taking random numbers \n",
    "# Once a step that minimises the loss function is found, it \n",
    "# will move in that direction to minimises further\n",
    "optimizer = torch.optim.SGD(params=model_1.parameters(),\n",
    "                            lr = 0.01)\n",
    "# lr = learning rate VERY IMPORTANT hyperparameter (set)\n",
    "# Controls how much a parameter is adjusted after each \n",
    "# 'good' guess of the SGR (adjust a little but or a lot)"
   ]
  },
  {
   "cell_type": "code",
   "execution_count": 20,
   "metadata": {},
   "outputs": [
    {
     "name": "stdout",
     "output_type": "stream",
     "text": [
      "Epoch=0 | Loss: 0.0012645035749301314 | test loss=0.021345829591155052\n",
      "Epoch=10 | Loss: 0.0012645035749301314 | test loss=0.021345829591155052\n",
      "Epoch=20 | Loss: 0.0012645035749301314 | test loss=0.021345829591155052\n",
      "Epoch=30 | Loss: 0.0012645035749301314 | test loss=0.021345829591155052\n",
      "Epoch=40 | Loss: 0.0012645035749301314 | test loss=0.021345829591155052\n",
      "Epoch=50 | Loss: 0.0012645035749301314 | test loss=0.021345829591155052\n",
      "Epoch=60 | Loss: 0.0012645035749301314 | test loss=0.021345829591155052\n",
      "Epoch=70 | Loss: 0.0012645035749301314 | test loss=0.021345829591155052\n",
      "Epoch=80 | Loss: 0.0012645035749301314 | test loss=0.021345829591155052\n",
      "Epoch=90 | Loss: 0.0012645035749301314 | test loss=0.021345829591155052\n",
      "Epoch=100 | Loss: 0.0012645035749301314 | test loss=0.021345829591155052\n",
      "Epoch=110 | Loss: 0.0012645035749301314 | test loss=0.021345829591155052\n",
      "Epoch=120 | Loss: 0.0012645035749301314 | test loss=0.021345829591155052\n",
      "Epoch=130 | Loss: 0.0012645035749301314 | test loss=0.021345829591155052\n",
      "Epoch=140 | Loss: 0.0012645035749301314 | test loss=0.021345829591155052\n",
      "Epoch=150 | Loss: 0.0012645035749301314 | test loss=0.021345829591155052\n",
      "Epoch=160 | Loss: 0.0012645035749301314 | test loss=0.021345829591155052\n",
      "Epoch=170 | Loss: 0.0012645035749301314 | test loss=0.021345829591155052\n",
      "Epoch=180 | Loss: 0.0012645035749301314 | test loss=0.021345829591155052\n",
      "Epoch=190 | Loss: 0.0012645035749301314 | test loss=0.021345829591155052\n"
     ]
    }
   ],
   "source": [
    "# assure that optimizer also has the same 'seed' (reproducability)\n",
    "torch.manual_seed(42)\n",
    "\n",
    "# put data on the same device (device-agnostoc)\n",
    "X_train = X_train.to(device=device)\n",
    "y_train = y_train.to(device=device)\n",
    "X_test = X_test.to(device=device)\n",
    "y_test = X_test.to(device=device)\n",
    "\n",
    "# an epoch is one loop through the data (epoch is hyperpar.)\n",
    "epochs = 200\n",
    "\n",
    "# Tracking experiment (values to track)\n",
    "epoch_count = []\n",
    "loss_vals = []\n",
    "test_loss_vals = []\n",
    "\n",
    "### TRAINING LOOP\n",
    "# 0. loop through the data\n",
    "for epoch in range(epochs):\n",
    "    # Set model to training mode: (default training)\n",
    "    # > All parameters that need grad. require grad now\n",
    "    model_1.train()\n",
    "\n",
    "    # 1. implement forward pass (forward function)\n",
    "    # Learn partents on the train. data to eval. test data\n",
    "    y_pred = model_1(X_train)\n",
    "\n",
    "    # 2. Calculate the loss (MAE) in this case\n",
    "    loss = loss_fn(y_pred, y_train) # (input,target)\n",
    "\n",
    "    # 3. Optimizer 0-grad\n",
    "    optimizer.zero_grad() #  Clear casch (for loss.bachwards() )\n",
    "\n",
    "    # 4. Perform back propagation on the loss w/r model pars.\n",
    "    # See youtube from 3Ble1Broun, \n",
    "    # Compute gradient of the loss func. with respect to model pars.\n",
    "    # Find the minimum of the loss function (gradient extremum)\n",
    "    loss.backward() # back propagation\n",
    "\n",
    "    # 5. Step the optimizer (Perform gradient descend)\n",
    "    # Optimizer cahnges accumulate through the loop \n",
    "    # (hast to be szeroed first in `zero_grad()`)\n",
    "    # This is one of these 'frog leap' steps down the gradient curve\n",
    "    optimizer.step() # gradient descend. always after loss.bachwards()\n",
    "\n",
    "\n",
    "    # Testing Part Of the Loop.  \n",
    "    # Evaluate model. turns off the gradient tracking;\n",
    "    # dropout; BatchNorm...\n",
    "    model_1.eval()\n",
    "    with torch.inference_mode(): # turns off graient tracking, and others\n",
    "        # No need to learn in testing...\n",
    "        # 1. Forward pass in testing mode\n",
    "        test_pred = model_1(X_test)\n",
    "        \n",
    "        # 2. Calcualte the loss\n",
    "        test_loss = loss_fn(test_pred, y_test)\n",
    "\n",
    "    \n",
    "    # print the result\n",
    "    if (epoch % 10 == 0):\n",
    "        print(f\"Epoch={epoch} | Loss: {loss} | test loss={test_loss}\")\n",
    "        # print(model_1.state_dict())\n",
    "\n",
    "        # save progess for future use\n",
    "        epoch_count.append(epoch)\n",
    "        loss_vals.append(loss)\n",
    "        test_loss_vals.append(test_loss)"
   ]
  },
  {
   "cell_type": "code",
   "execution_count": 21,
   "metadata": {},
   "outputs": [
    {
     "data": {
      "image/png": "[encoded data removed]",
      "text/plain": [
       "<Figure size 500x300 with 1 Axes>"
      ]
     },
     "metadata": {},
     "output_type": "display_data"
    }
   ],
   "source": [
    "# predictions\n",
    "with torch.inference_mode(): # with `with` -- turn off the gradient tracking! Faster for inferences\n",
    "    y_preds_new = model_1(X_test)\n",
    "    \n",
    "# make sure the data is in CPU (as matplolib needs numpy)\n",
    "y_preds_new = y_preds_new.to(device=device)\n",
    "# plot new predictions after N manual iterations\n",
    "plot_predictions(predictions=y_preds_new)"
   ]
  },
  {
   "cell_type": "code",
   "execution_count": 22,
   "metadata": {},
   "outputs": [
    {
     "data": {
      "text/plain": [
       "<matplotlib.legend.Legend at 0x7f3463445880>"
      ]
     },
     "execution_count": 22,
     "metadata": {},
     "output_type": "execute_result"
    },
    {
     "data": {
      "image/png": "[encoded data removed]",
      "text/plain": [
       "<Figure size 640x480 with 1 Axes>"
      ]
     },
     "metadata": {},
     "output_type": "display_data"
    }
   ],
   "source": [
    "# evalaute model learning\n",
    "plt.plot(epoch_count, torch.tensor(loss_vals).cpu().numpy(), label=\"train_loss\")\n",
    "plt.plot(epoch_count, torch.tensor(test_loss_vals).cpu().numpy(), label=\"Test loss\")\n",
    "plt.title(\"Training and test loss curve\")\n",
    "plt.ylabel(\"Loss\")\n",
    "plt.xlabel(\"Epochs\")\n",
    "plt.legend()"
   ]
  },
  {
   "cell_type": "code",
   "execution_count": null,
   "metadata": {},
   "outputs": [],
   "source": []
  }
 ],
 "metadata": {
  "kernelspec": {
   "display_name": "PyBlastAfterglow",
   "language": "python",
   "name": "python3"
  },
  "language_info": {
   "codemirror_mode": {
    "name": "ipython",
    "version": 3
   },
   "file_extension": ".py",
   "mimetype": "text/x-python",
   "name": "python",
   "nbconvert_exporter": "python",
   "pygments_lexer": "ipython3",
   "version": "3.9.16"
  },
  "orig_nbformat": 4
 },
 "nbformat": 4,
 "nbformat_minor": 2
}
