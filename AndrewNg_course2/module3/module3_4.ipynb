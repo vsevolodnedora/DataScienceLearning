{
 "cells": [
  {
   "cell_type": "markdown",
   "metadata": {},
   "source": [
    "# Error metrics for skewed datasets"
   ]
  },
  {
   "attachments": {},
   "cell_type": "markdown",
   "metadata": {},
   "source": [
    " A skewed dataset: $N_+ \\gg N_-$, i.e., number of one output significantly exceeds number of other outputs. \n",
    " Simple cassification error does not applicable here. \n",
    "\n",
    " Use **Precision/recall**, by constracting a confusion matrix with [Actiall value vs Predicted value] \n",
    " $$\n",
    " \\begin{bmatrix} \n",
    "    \\text{True positives (TP)   }   \\text{  False positives (FP)} \\\\\n",
    "    \\text{False negatives(FN)  }  \\text{  True negatives (TN)} \n",
    "\\end{bmatrix}\n",
    "$$\n",
    "\n",
    "Than the \n",
    "- `Precision` =  TP/(predictited positive) = TP / (TP+FP)\n",
    "- `Recall` = TP/(actial positive) = TP / (TP+FN)  \n",
    "\n",
    "Trade-off between precision and recall: \n",
    "- Raise threschold $f_{\\vec{w},b}(\\vec{x})\\gtrless 0.9 \\rightarrow 1/0$ Than **precision** $\\uparrow$; **recall** $\\downarrow$ \n",
    "- Lower threshold $f_{\\vec{w},b}(\\vec{x})\\gtrless 0.3 \\rightarrow 1/0$ Than **precision** $\\downarrow$; **recall** $\\uparrow$\n",
    "\n",
    "Plot Precision vs Recall for different values of a threschold gives you a _preferred_ value. \n",
    "\n",
    "Automatically this can be don via `F1 score`.  Combines precision and recall and computes the average of scores: (_harmonic mean_)  \n",
    "$$\n",
    "F_1 = 1/(0.5*(1/P+1/R)) = 2PR/(P+R)\n",
    "$$  \n",
    "it gives the vlues closer to whatever is the smallest. \n",
    "\n",
    "Do not use max(precision+recall/2)  \n"
   ]
  },
  {
   "cell_type": "markdown",
   "metadata": {},
   "source": []
  },
  {
   "cell_type": "markdown",
   "metadata": {},
   "source": []
  },
  {
   "cell_type": "code",
   "execution_count": null,
   "metadata": {
    "vscode": {
     "languageId": "plaintext"
    }
   },
   "outputs": [],
   "source": []
  },
  {
   "cell_type": "code",
   "execution_count": null,
   "metadata": {
    "vscode": {
     "languageId": "plaintext"
    }
   },
   "outputs": [],
   "source": []
  },
  {
   "cell_type": "markdown",
   "metadata": {},
   "source": []
  },
  {
   "cell_type": "code",
   "execution_count": null,
   "metadata": {
    "vscode": {
     "languageId": "plaintext"
    }
   },
   "outputs": [],
   "source": []
  },
  {
   "cell_type": "markdown",
   "metadata": {},
   "source": []
  }
 ],
 "metadata": {
  "language_info": {
   "name": "python"
  },
  "orig_nbformat": 4
 },
 "nbformat": 4,
 "nbformat_minor": 2
}
