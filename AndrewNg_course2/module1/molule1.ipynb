{
 "cells": [
  {
   "attachments": {},
   "cell_type": "markdown",
   "metadata": {},
   "source": [
    "# Neurons & practical advices\n",
    "- Neuron nets\n",
    "- inferences\n",
    "- training\n",
    "- practical advice\n",
    "- decision trees\n",
    "\n",
    "Applications of NNs:\n",
    "- Speech recognition\n",
    "- Image processing (computer vision)\n",
    "- Text (NLP)\n",
    "- ...\n",
    "\n",
    "NNs outperform classical algorithms for **large data sets** (**Big Data**).\n",
    "\n",
    "Example: \n",
    "1. Consider 4 feautres (price, cost, marketing...) and determine the probability of it being a top-seller. They would comprise a `input layer`. \n",
    "\n",
    "2. Create $3$ neurons for \"affordability\", \"avareness\" and \"precieved quality\" These functions `activations`. They compute `activation values`. \n",
    "Grouping them into a `layer`. A `hidden layer` to be precise. \n",
    "A layer has connections for all other layers from the previous layer. \n",
    "\n",
    "3. Create one output neurons. This is callled the `output layer`.\n",
    "There there is a simple `logistic regression` but it uses **new feautres** created by previous layers. So it performs an automatic `feature engineering`. \n",
    "\n",
    "There can be multiple hidden layers with various sizes *number of hidden layers*. \n",
    "\n",
    "Example 2 (Image recognition)  \n",
    "Given an image 1000x1000 pixels of a person where each pixes has values $x\\in[0,255]$, make a NN that predicts the identity of the person. \n",
    "1. Start with the `input layer` that takes a $1000\\times1000 = 10^6$ features of the image.\n",
    "2. Create a set of hidden layers each of which is looking for a simple shape: from very basics to more complex: from simple lines to spheres, ... eyes, ears ... face shapes... **Note** these features would be inferred automatically in training. \n"
   ]
  },
  {
   "cell_type": "code",
   "execution_count": null,
   "metadata": {},
   "outputs": [],
   "source": []
  }
 ],
 "metadata": {
  "language_info": {
   "name": "python"
  },
  "orig_nbformat": 4
 },
 "nbformat": 4,
 "nbformat_minor": 2
}
