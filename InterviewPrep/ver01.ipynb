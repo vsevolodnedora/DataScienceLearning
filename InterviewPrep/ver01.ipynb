{
 "cells": [
  {
   "cell_type": "markdown",
   "metadata": {},
   "source": [
    "# Question basis [DataScienceInterview](https://docs.google.com/document/d/12gqPgNLtB1m4833jrP6k15JQNjH8YNlxGzbJoVcUtf0/edit)\n",
    "\n",
    "# Statistics \n",
    "\n",
    "## Basic Statistical Concepts\n",
    "\n",
    "### 1. Univariate statistics\n",
    "- __mean__ or _expected value_ $\\mu= {E}[X]$ where $X$ is the random variable $\\mu = (1/N) \\sum_{i=1}^N x_i$ or $\\mu=\\int xf(x)dx$\n",
    "- __median__ (midddle in a sorted list); used when outliers skew mean; \n",
    "- __mode__ number that appears most often; \n",
    "\n",
    "\n",
    "<img src=\"./figs/Screenshot%202023-12-06%20195137.png\" alt=\"drawing\" style=\"width:100px;\"/>\n",
    "\n",
    "\n",
    "In the _normal dist_ median, mean, and mode are the same, -- peak point.  \n",
    "In _skewed datasets_ medial and mean are different. \n",
    "\n",
    "## 2. Standard deviation and variance\n",
    "- __Standard eviation__  measure of variation of a set of value $\\sigma=\\sqrt{N^{-1}\\sum_{i=1}^N{(x_i-\\mu)^2}}$ or $\\sigma=\\sqrt{{E}[(X-\\mu)^2]}$\n",
    "- __Variance__ of a random variable $X$ is the _expected value_ of the squared deviation from the _mean_, Var $(X)=E[(X-\\mu)^2]$\n",
    "\n",
    "### 3. Covariance and correlation\n",
    "- __Covariance__ is a measure of joint probability of two random variables\n",
    "- "
   ]
  },
  {
   "cell_type": "markdown",
   "metadata": {},
   "source": []
  },
  {
   "cell_type": "markdown",
   "metadata": {},
   "source": []
  },
  {
   "cell_type": "markdown",
   "metadata": {},
   "source": []
  }
 ],
 "metadata": {
  "language_info": {
   "name": "python"
  }
 },
 "nbformat": 4,
 "nbformat_minor": 2
}
