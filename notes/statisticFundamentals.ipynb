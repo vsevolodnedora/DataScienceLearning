{
 "cells": [
  {
   "attachments": {},
   "cell_type": "markdown",
   "metadata": {},
   "source": [
    "# Key Concepts\n",
    "\n",
    "- Population and estimated parameters\n",
    "    - Entire population parameters are rarely avaliable\n",
    "    - Estimated population parmaeters are generally used\n",
    "- Population mean is not an estimate. However often it is an estimated population mean \n",
    "    - this is just an average value\n",
    "    - Population variance = $\\sum(x-\\mu)^2$/n\n",
    "    - standard deviation is a square root as = $\\sqrt{ \\sum(x-\\mu)^2/n}$\n",
    "    - estimated standard deviation = $\\sqrt{ \\sum(x-\\bar{x})^2/(n-1)}$ \n",
    "- Mathematical Model\n",
    "- Sampling from a distribution\n",
    "- Hypothesis testing and the Null hypothesis\n",
    "    - **Null Hypothesis** - that there is no difference between two things\n",
    "    Aka, assuming dat come from the same distribution vs. different distributions\n",
    "    - Relecting the null hypothesis\n",
    "- Alternative Hypothesis\n",
    "    - **Statistical test** (data; Null hypothesis; Alternative hypothesis)\n",
    "    - If there are actually two distribution, compute distances from their means to data\n",
    "    and see whether distances are smaller than from a sigle distribution mean\n",
    "    - **Alterantive hypothesis** may be many. But there i only one Null hypothesis\n",
    "- $p$-values for a test between two products/objects **Statistical Test**\n",
    "    - **$p-$value** quantifies how confident we are that one thing differes from another\n",
    "    - The closer $p-val$ to zero, the more confident we are\n",
    "    - Commonly used threshold $p=0.05$. \n",
    "    - Getting a small p<0.05$ when there is actually no difference is called **False Postivie**\n",
    "    - **Hypothesis testing** uses $p$-value\n",
    "- How to calculate $p-$value\n",
    "    - **Note** there one- and two- sided $p-$value \n",
    "    - $p-$value is determined by summing probabilities: \n",
    "        1. Probability that random chance would give the event \n",
    "        2. Probability of observing something equally rare\n",
    "        3. Probability of observing something more rare/extreme\n",
    "    - $p$-value from statistical dsitribution is a sum of areas under the curve:\n",
    "        1. Outside area (away from mean) on both sides of the distribution\n",
    "- $p$-hacking\n",
    "    - resampling from a dsitribution untill getting statistically different samples with $p<0.05$. Or adding more datapoints to decrease the p-val. \n",
    "    - This is also called **Multiple Testing Problem** Solution: **False Discovery Rate** for **adjusted $p-$value**\n",
    "    - Do not cherrypick the data\n",
    "    - The appropriate sampel size is determined by the **Power analysis**, it determines how many **relicates** are needed in order to reject the Null Hypothesis with high enough probability\n"
   ]
  },
  {
   "attachments": {},
   "cell_type": "markdown",
   "metadata": {},
   "source": [
    "- False discovery rate (remove bad data that looks good)\n",
    "    - The $p$-val distribution if samples come from __different__ distributions is __skewed__. \n",
    "    - If sampels come from the __same__ dist. the $p$-vals are __uniforly__ distributed\n",
    "    - benjamini-hochberg adjusted p-value -- accounts for the false discovery rate\n",
    "- Statistical Power\n",
    "    - In some cases if distriubitons overlaps, sampling might result in a $p<0.05$ and the Null hypothesis will be rejected __incorrectly__. However, if overlap is small the probability of it is small. \n",
    "    - High statistical power, if the probability of incorretly regecting the Null is small. (so the overlapp)\n",
    "    - Power is the ability to corrently regect the Null Hypothesis\n",
    "    - Very overlapping distributions overlapp a lot and have __low pwoer__\n",
    "- **Power analysis** determines what sample size we will need to ensure a high probability that we correctly reject the null hypothesis (no difference between groop) \n",
    "    - Common value for power is .8 (percentage with which the null-hypothesis is correctly rejected). Threshold for significance, $\\alpha$ is usually $0.05$. So fo two distributions, one can compute:  \n",
    "    $$\n",
    "    \\text{Size}(d) = \\frac{\\text{The estimated difference in the means}}{\\text{Pooled estiamted standard deviations}}\n",
    "    $$\n",
    "    The pooled estiamted standard deviations is $\\sqrt{(s_{1}^2 + s_2^2)/2}$"
   ]
  },
  {
   "attachments": {},
   "cell_type": "markdown",
   "metadata": {},
   "source": []
  }
 ],
 "metadata": {
  "language_info": {
   "name": "python"
  },
  "orig_nbformat": 4
 },
 "nbformat": 4,
 "nbformat_minor": 2
}
