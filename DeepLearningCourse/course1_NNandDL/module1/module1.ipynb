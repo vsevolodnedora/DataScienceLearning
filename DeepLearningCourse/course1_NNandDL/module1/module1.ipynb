{
 "cells": [
  {
   "attachments": {},
   "cell_type": "markdown",
   "metadata": {},
   "source": [
    "# Supervised Learning \n",
    "\n",
    "Examples\n",
    "\n",
    "| Input ($x$) | output ($y$) | application |\n",
    "| --- | --- | --- | \n",
    "| Ads | click | online adverising |\n",
    "| image | object (1...1000) | photo tagging |\n",
    "| audio | text transcript | speach recognition | \n",
    "| English | German | machine translation |\n",
    "| Image, radar | position of other cars | autonomous driving |\n",
    "\n",
    "**NNs**: \n",
    "- Standard NNs with fully connected layers \n",
    "- Convolutional NNs \n",
    "- Recurrent NNs (for sequence data)\n",
    "\n",
    "**Datas:**\n",
    "- Sructured data (table with columnes) Each feature has a very well defined meaning\n",
    "- Unstructured data: Images, audio, texts... \n",
    "\n",
    "> Scale drives deel learning procgress\n",
    "\n",
    "At small data sizes, standard, non-NN algorithms can be better.  \n",
    "At large-$m$ regime, NNs dominate the performance\n",
    "\n",
    "For algorithms.  \n",
    "Performance increase is achieved with Sigmoid $\\rightarrow$ ReLU activation funciton. \n",
    "\n",
    "Training NNs is an iterative process. Idea -> Code -> experiment -> Idea ...\n",
    "\n",
    "- web searching\n",
    "\n"
   ]
  },
  {
   "attachments": {},
   "cell_type": "markdown",
   "metadata": {},
   "source": []
  }
 ],
 "metadata": {
  "language_info": {
   "name": "python"
  },
  "orig_nbformat": 4
 },
 "nbformat": 4,
 "nbformat_minor": 2
}
