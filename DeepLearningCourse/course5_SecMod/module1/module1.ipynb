{
 "cells": [
  {
   "attachments": {},
   "cell_type": "markdown",
   "metadata": {},
   "source": [
    "### Why Seq. Modelling\n",
    "\n",
    "Examples:\n",
    "- Speach recognition\n",
    "- Music generation\n",
    "- Sentiment classification\n",
    "- DNA sequence analysis\n",
    "- Machine translation\n",
    "- Video activity recognition\n",
    "- Name entity recognition \n",
    "\n",
    "Output or input may be sequence only\n",
    "\n",
    "### Notation\n",
    "\n",
    "Consider a sentnece (seq. of words)  \n",
    "$x$ is a sentence. \n",
    "Find where are people's names in the problem: \n",
    "`Named-entity recognition` used by search engines (indexing the words for fast search).  \n",
    "\n",
    "Do one-hot encoding for names and not names (labels are 1 or 0, $y$-vector)\n",
    "\n",
    "Indexes are $x^{<i>}$ or $x^{<t>}$ with length $T_x$ for temporal index  \n",
    "and outputs are $y^{<t>}$ with length $T_y$.  \n",
    "\n",
    "For various sets the length can be different. \n",
    "In particular $T_x^{(i)}$ and $T_y^{(i)}$\n",
    "\n",
    "Representing words is done making a dictionary or vocabluary. \n",
    "\n",
    "Dictionaries are set of indexed words with large number of them. Then, each word is a vector the length of the whole vocabluary with one-hot 1 for this word and 0 for the rest. These are `one-hot` vectors. \n",
    "\n",
    "The goal is to learn mapping the mapping to the target output $Y$ using this one-hot vector via `supervised learning`. \n",
    "\n",
    "If the word is not in the vocabluary, use a  `UNK` (not in the vocabluary workd)\n",
    "\n",
    "\n"
   ]
  },
  {
   "attachments": {},
   "cell_type": "markdown",
   "metadata": {},
   "source": []
  }
 ],
 "metadata": {
  "language_info": {
   "name": "python"
  },
  "orig_nbformat": 4
 },
 "nbformat": 4,
 "nbformat_minor": 2
}
